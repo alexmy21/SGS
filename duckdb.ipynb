{
 "cells": [
  {
   "cell_type": "code",
   "execution_count": 18,
   "metadata": {},
   "outputs": [
    {
     "name": "stdout",
     "output_type": "stream",
     "text": [
      "(a = Union{Missing, Int32}[42],)"
     ]
    },
    {
     "data": {
      "text/html": [
       "<div><div style = \"float: left;\"><span>1×13 DataFrame</span></div><div style = \"clear: both;\"></div></div><div class = \"data-frame\" style = \"overflow-x: scroll;\"><table class = \"data-frame\" style = \"margin-bottom: 6px;\"><thead><tr class = \"header\"><th class = \"rowNumber\" style = \"font-weight: bold; text-align: right;\">Row</th><th style = \"text-align: left;\">table_catalog</th><th style = \"text-align: left;\">table_schema</th><th style = \"text-align: left;\">table_name</th><th style = \"text-align: left;\">table_type</th><th style = \"text-align: left;\">self_referencing_column_name</th><th style = \"text-align: left;\">reference_generation</th><th style = \"text-align: left;\">user_defined_type_catalog</th><th style = \"text-align: left;\">user_defined_type_schema</th><th style = \"text-align: left;\">user_defined_type_name</th><th style = \"text-align: left;\">is_insertable_into</th><th style = \"text-align: left;\">is_typed</th><th style = \"text-align: left;\">commit_action</th><th style = \"text-align: left;\">TABLE_COMMENT</th></tr><tr class = \"subheader headerLastRow\"><th class = \"rowNumber\" style = \"font-weight: bold; text-align: right;\"></th><th title = \"Union{Missing, String}\" style = \"text-align: left;\">String?</th><th title = \"Union{Missing, String}\" style = \"text-align: left;\">String?</th><th title = \"Union{Missing, String}\" style = \"text-align: left;\">String?</th><th title = \"Union{Missing, String}\" style = \"text-align: left;\">String?</th><th title = \"Union{Missing, String}\" style = \"text-align: left;\">String?</th><th title = \"Union{Missing, String}\" style = \"text-align: left;\">String?</th><th title = \"Union{Missing, String}\" style = \"text-align: left;\">String?</th><th title = \"Union{Missing, String}\" style = \"text-align: left;\">String?</th><th title = \"Union{Missing, String}\" style = \"text-align: left;\">String?</th><th title = \"Union{Missing, String}\" style = \"text-align: left;\">String?</th><th title = \"Union{Missing, String}\" style = \"text-align: left;\">String?</th><th title = \"Union{Missing, String}\" style = \"text-align: left;\">String?</th><th title = \"Union{Missing, String}\" style = \"text-align: left;\">String?</th></tr></thead><tbody><tr><td class = \"rowNumber\" style = \"font-weight: bold; text-align: right;\">1</td><td style = \"text-align: left;\">memory</td><td style = \"text-align: left;\">main</td><td style = \"text-align: left;\">integers</td><td style = \"text-align: left;\">BASE TABLE</td><td style = \"font-style: italic; text-align: left;\">missing</td><td style = \"font-style: italic; text-align: left;\">missing</td><td style = \"font-style: italic; text-align: left;\">missing</td><td style = \"font-style: italic; text-align: left;\">missing</td><td style = \"font-style: italic; text-align: left;\">missing</td><td style = \"text-align: left;\">YES</td><td style = \"text-align: left;\">NO</td><td style = \"font-style: italic; text-align: left;\">missing</td><td style = \"font-style: italic; text-align: left;\">missing</td></tr></tbody></table></div>"
      ],
      "text/latex": [
       "\\begin{tabular}{r|cccccc}\n",
       "\t& table\\_catalog & table\\_schema & table\\_name & table\\_type & self\\_referencing\\_column\\_name & \\\\\n",
       "\t\\hline\n",
       "\t& String? & String? & String? & String? & String? & \\\\\n",
       "\t\\hline\n",
       "\t1 & memory & main & integers & BASE TABLE & \\emph{missing} & $\\dots$ \\\\\n",
       "\\end{tabular}\n"
      ],
      "text/plain": [
       "\u001b[1m1×13 DataFrame\u001b[0m\n",
       "\u001b[1m Row \u001b[0m│\u001b[1m table_catalog \u001b[0m\u001b[1m table_schema \u001b[0m\u001b[1m table_name \u001b[0m\u001b[1m table_type \u001b[0m\u001b[1m self_referencing_c\u001b[0m ⋯\n",
       "     │\u001b[90m String?       \u001b[0m\u001b[90m String?      \u001b[0m\u001b[90m String?    \u001b[0m\u001b[90m String?    \u001b[0m\u001b[90m String?           \u001b[0m ⋯\n",
       "─────┼──────────────────────────────────────────────────────────────────────────\n",
       "   1 │ memory         main          integers    BASE TABLE \u001b[90m missing           \u001b[0m ⋯\n",
       "\u001b[36m                                                               9 columns omitted\u001b[0m"
      ]
     },
     "execution_count": 18,
     "metadata": {},
     "output_type": "execute_result"
    }
   ],
   "source": [
    "using DuckDB\n",
    "using TidierDB \n",
    "\n",
    "# create a new in-memory database\n",
    "con = DBInterface.connect(DuckDB.DB, \":memory:\")\n",
    "\n",
    "# create a table\n",
    "DBInterface.execute(con, \"CREATE TABLE integers (i INTEGER)\")\n",
    "\n",
    "# insert data using a prepared statement\n",
    "stmt = DBInterface.prepare(con, \"INSERT INTO integers VALUES(?)\")\n",
    "DBInterface.execute(stmt, [42])\n",
    "\n",
    "# query the database\n",
    "results = DBInterface.execute(con, \"SELECT 42 a\")\n",
    "print(results)\n",
    "\n",
    "@chain db_table(con.main_connection, Symbol(\"information_schema.tables\")) begin\n",
    "    @collect\n",
    "end\n",
    "\n",
    "# DuckDB.close(con)"
   ]
  },
  {
   "cell_type": "code",
   "execution_count": 19,
   "metadata": {},
   "outputs": [
    {
     "name": "stdout",
     "output_type": "stream",
     "text": [
      "(a = Union{Missing, Int64}[1, 2, 3], b = Union{Missing, Int64}[42, 84, 42])"
     ]
    },
    {
     "data": {
      "text/html": [
       "<div><div style = \"float: left;\"><span>2×13 DataFrame</span></div><div style = \"clear: both;\"></div></div><div class = \"data-frame\" style = \"overflow-x: scroll;\"><table class = \"data-frame\" style = \"margin-bottom: 6px;\"><thead><tr class = \"header\"><th class = \"rowNumber\" style = \"font-weight: bold; text-align: right;\">Row</th><th style = \"text-align: left;\">table_catalog</th><th style = \"text-align: left;\">table_schema</th><th style = \"text-align: left;\">table_name</th><th style = \"text-align: left;\">table_type</th><th style = \"text-align: left;\">self_referencing_column_name</th><th style = \"text-align: left;\">reference_generation</th><th style = \"text-align: left;\">user_defined_type_catalog</th><th style = \"text-align: left;\">user_defined_type_schema</th><th style = \"text-align: left;\">user_defined_type_name</th><th style = \"text-align: left;\">is_insertable_into</th><th style = \"text-align: left;\">is_typed</th><th style = \"text-align: left;\">commit_action</th><th style = \"text-align: left;\">TABLE_COMMENT</th></tr><tr class = \"subheader headerLastRow\"><th class = \"rowNumber\" style = \"font-weight: bold; text-align: right;\"></th><th title = \"Union{Missing, String}\" style = \"text-align: left;\">String?</th><th title = \"Union{Missing, String}\" style = \"text-align: left;\">String?</th><th title = \"Union{Missing, String}\" style = \"text-align: left;\">String?</th><th title = \"Union{Missing, String}\" style = \"text-align: left;\">String?</th><th title = \"Union{Missing, String}\" style = \"text-align: left;\">String?</th><th title = \"Union{Missing, String}\" style = \"text-align: left;\">String?</th><th title = \"Union{Missing, String}\" style = \"text-align: left;\">String?</th><th title = \"Union{Missing, String}\" style = \"text-align: left;\">String?</th><th title = \"Union{Missing, String}\" style = \"text-align: left;\">String?</th><th title = \"Union{Missing, String}\" style = \"text-align: left;\">String?</th><th title = \"Union{Missing, String}\" style = \"text-align: left;\">String?</th><th title = \"Union{Missing, String}\" style = \"text-align: left;\">String?</th><th title = \"Union{Missing, String}\" style = \"text-align: left;\">String?</th></tr></thead><tbody><tr><td class = \"rowNumber\" style = \"font-weight: bold; text-align: right;\">1</td><td style = \"text-align: left;\">memory</td><td style = \"text-align: left;\">main</td><td style = \"text-align: left;\">integers</td><td style = \"text-align: left;\">BASE TABLE</td><td style = \"font-style: italic; text-align: left;\">missing</td><td style = \"font-style: italic; text-align: left;\">missing</td><td style = \"font-style: italic; text-align: left;\">missing</td><td style = \"font-style: italic; text-align: left;\">missing</td><td style = \"font-style: italic; text-align: left;\">missing</td><td style = \"text-align: left;\">YES</td><td style = \"text-align: left;\">NO</td><td style = \"font-style: italic; text-align: left;\">missing</td><td style = \"font-style: italic; text-align: left;\">missing</td></tr><tr><td class = \"rowNumber\" style = \"font-weight: bold; text-align: right;\">2</td><td style = \"text-align: left;\">memory</td><td style = \"text-align: left;\">main</td><td style = \"text-align: left;\">my_df</td><td style = \"text-align: left;\">VIEW</td><td style = \"font-style: italic; text-align: left;\">missing</td><td style = \"font-style: italic; text-align: left;\">missing</td><td style = \"font-style: italic; text-align: left;\">missing</td><td style = \"font-style: italic; text-align: left;\">missing</td><td style = \"font-style: italic; text-align: left;\">missing</td><td style = \"text-align: left;\">NO</td><td style = \"text-align: left;\">NO</td><td style = \"font-style: italic; text-align: left;\">missing</td><td style = \"font-style: italic; text-align: left;\">missing</td></tr></tbody></table></div>"
      ],
      "text/latex": [
       "\\begin{tabular}{r|cccccc}\n",
       "\t& table\\_catalog & table\\_schema & table\\_name & table\\_type & self\\_referencing\\_column\\_name & \\\\\n",
       "\t\\hline\n",
       "\t& String? & String? & String? & String? & String? & \\\\\n",
       "\t\\hline\n",
       "\t1 & memory & main & integers & BASE TABLE & \\emph{missing} & $\\dots$ \\\\\n",
       "\t2 & memory & main & my\\_df & VIEW & \\emph{missing} & $\\dots$ \\\\\n",
       "\\end{tabular}\n"
      ],
      "text/plain": [
       "\u001b[1m2×13 DataFrame\u001b[0m\n",
       "\u001b[1m Row \u001b[0m│\u001b[1m table_catalog \u001b[0m\u001b[1m table_schema \u001b[0m\u001b[1m table_name \u001b[0m\u001b[1m table_type \u001b[0m\u001b[1m self_referencing_c\u001b[0m ⋯\n",
       "     │\u001b[90m String?       \u001b[0m\u001b[90m String?      \u001b[0m\u001b[90m String?    \u001b[0m\u001b[90m String?    \u001b[0m\u001b[90m String?           \u001b[0m ⋯\n",
       "─────┼──────────────────────────────────────────────────────────────────────────\n",
       "   1 │ memory         main          integers    BASE TABLE \u001b[90m missing           \u001b[0m ⋯\n",
       "   2 │ memory         main          my_df       VIEW       \u001b[90m missing           \u001b[0m\n",
       "\u001b[36m                                                               9 columns omitted\u001b[0m"
      ]
     },
     "execution_count": 19,
     "metadata": {},
     "output_type": "execute_result"
    }
   ],
   "source": [
    "using DataFrames\n",
    "\n",
    "# create a new in-memory dabase\n",
    "# con = DBInterface.connect(DuckDB.DB)\n",
    "\n",
    "# create a DataFrame\n",
    "df = DataFrame(a = [1, 2, 3], b = [42, 84, 42])\n",
    "\n",
    "# register it as a view in the database\n",
    "DuckDB.register_data_frame(con, df, \"my_df\")\n",
    "\n",
    "# run a SQL query over the DataFrame\n",
    "results = DBInterface.execute(con, \"SELECT * FROM my_df\")\n",
    "print(results)\n",
    "\n",
    "@chain db_table(con.main_connection, Symbol(\"information_schema.tables\")) begin\n",
    "    @collect\n",
    "end"
   ]
  },
  {
   "cell_type": "code",
   "execution_count": 20,
   "metadata": {},
   "outputs": [
    {
     "name": "stdout",
     "output_type": "stream",
     "text": [
      "(id = Union{Missing, Int32}[1, 2, 3, 4, 5, 6, 7, 8, 9, 10, 11, 12, 13, 14, 15, 16, 17, 18, 19, 20, 21, 22, 23, 24, 25, 26, 27, 28, 29, 30, 31, 32, 33, 34, 35, 36, 37, 38, 39, 40, 41, 42, 43, 44, 45, 46, 47, 48, 49, 50, 51, 52, 53, 54, 55, 56, 57, 58, 59, 60, 61, 62, 63, 64, 65, 66, 67, 68, 69, 70, 71, 72, 73, 74, 75, 76, 77, 78, 79, 80, 81, 82, 83, 84, 85, 86, 87, 88, 89, 90, 91, 92, 93, 94, 95, 96, 97, 98, 99, 100], value = Union{Missing, Float32}[0.5115417f0, 0.708908f0, 0.021334026f0, 0.85995907f0, 0.3196257f0, 0.91510665f0, 0.9875123f0, 0.5771857f0, 0.14563368f0, 0.4462561f0, 0.21808983f0, 0.4627787f0, 0.53883165f0, 0.6836705f0, 0.386917f0, 0.7242834f0, 0.34874564f0, 0.36838245f0, 0.744039f0, 0.21246241f0, 0.83622915f0, 0.029603733f0, 0.39501277f0, 0.4657131f0, 0.012434994f0, 0.7331246f0, 0.72550625f0, 0.09283919f0, 0.5297053f0, 0.026309423f0, 0.26267546f0, 0.4400793f0, 0.69617844f0, 0.9120795f0, 0.13488404f0, 0.008660946f0, 0.5175384f0, 0.26788625f0, 0.74965715f0, 0.49092415f0, 0.5808777f0, 0.20214956f0, 0.41297174f0, 0.7672438f0, 0.9499718f0, 0.25622383f0, 0.30580112f0, 0.40504724f0, 0.6465422f0, 0.99658316f0, 0.77653784f0, 0.8742271f0, 0.027522506f0, 0.05489685f0, 0.046482567f0, 0.19160691f0, 0.5833366f0, 0.2611795f0, 0.3879074f0, 0.9809444f0, 0.2862073f0, 0.7255272f0, 0.63730055f0, 0.5533578f0, 0.55189f0, 0.7781717f0, 0.82219106f0, 0.9027568f0, 0.61587656f0, 0.9160394f0, 0.21397145f0, 0.78413445f0, 0.26504853f0, 0.16744192f0, 0.86101484f0, 0.24424098f0, 0.5926897f0, 0.7911508f0, 0.19259657f0, 0.23181196f0, 0.5209232f0, 0.24083188f0, 0.51541674f0, 0.47886652f0, 0.85461015f0, 0.5790192f0, 0.110562675f0, 0.703938f0, 0.5631872f0, 0.44487575f0, 0.29303887f0, 0.40726364f0, 0.9969509f0, 0.24890022f0, 0.9528095f0, 0.92628276f0, 0.44090316f0, 0.50573f0, 0.33256403f0, 0.9780609f0], timestamp = Union{Missing, DateTime}[DateTime(\"2024-07-15T09:19:17.079\"), DateTime(\"2024-07-15T09:19:18.079\"), DateTime(\"2024-07-15T09:19:19.079\"), DateTime(\"2024-07-15T09:19:20.079\"), DateTime(\"2024-07-15T09:19:21.079\"), DateTime(\"2024-07-15T09:19:22.079\"), DateTime(\"2024-07-15T09:19:23.079\"), DateTime(\"2024-07-15T09:19:24.079\"), DateTime(\"2024-07-15T09:19:25.079\"), DateTime(\"2024-07-15T09:19:26.079\"), DateTime(\"2024-07-15T09:19:27.079\"), DateTime(\"2024-07-15T09:19:28.079\"), DateTime(\"2024-07-15T09:19:29.079\"), DateTime(\"2024-07-15T09:19:30.079\"), DateTime(\"2024-07-15T09:19:31.079\"), DateTime(\"2024-07-15T09:19:32.079\"), DateTime(\"2024-07-15T09:19:33.079\"), DateTime(\"2024-07-15T09:19:34.079\"), DateTime(\"2024-07-15T09:19:35.079\"), DateTime(\"2024-07-15T09:19:36.079\"), DateTime(\"2024-07-15T09:19:37.079\"), DateTime(\"2024-07-15T09:19:38.079\"), DateTime(\"2024-07-15T09:19:39.079\"), DateTime(\"2024-07-15T09:19:40.079\"), DateTime(\"2024-07-15T09:19:41.079\"), DateTime(\"2024-07-15T09:19:42.079\"), DateTime(\"2024-07-15T09:19:43.079\"), DateTime(\"2024-07-15T09:19:44.079\"), DateTime(\"2024-07-15T09:19:45.079\"), DateTime(\"2024-07-15T09:19:46.079\"), DateTime(\"2024-07-15T09:19:47.079\"), DateTime(\"2024-07-15T09:19:48.079\"), DateTime(\"2024-07-15T09:19:49.079\"), DateTime(\"2024-07-15T09:19:50.079\"), DateTime(\"2024-07-15T09:19:51.079\"), DateTime(\"2024-07-15T09:19:52.079\"), DateTime(\"2024-07-15T09:19:53.079\"), DateTime(\"2024-07-15T09:19:54.079\"), DateTime(\"2024-07-15T09:19:55.079\"), DateTime(\"2024-07-15T09:19:56.079\"), DateTime(\"2024-07-15T09:19:57.079\"), DateTime(\"2024-07-15T09:19:58.079\"), DateTime(\"2024-07-15T09:19:59.079\"), DateTime(\"2024-07-15T09:20:00.079\"), DateTime(\"2024-07-15T09:20:01.079\"), DateTime(\"2024-07-15T09:20:02.079\"), DateTime(\"2024-07-15T09:20:03.079\"), DateTime(\"2024-07-15T09:20:04.079\"), DateTime(\"2024-07-15T09:20:05.079\"), DateTime(\"2024-07-15T09:20:06.079\"), DateTime(\"2024-07-15T09:20:07.079\"), DateTime(\"2024-07-15T09:20:08.079\"), DateTime(\"2024-07-15T09:20:09.079\"), DateTime(\"2024-07-15T09:20:10.079\"), DateTime(\"2024-07-15T09:20:11.079\"), DateTime(\"2024-07-15T09:20:12.079\"), DateTime(\"2024-07-15T09:20:13.079\"), DateTime(\"2024-07-15T09:20:14.079\"), DateTime(\"2024-07-15T09:20:15.079\"), DateTime(\"2024-07-15T09:20:16.079\"), DateTime(\"2024-07-15T09:20:17.079\"), DateTime(\"2024-07-15T09:20:18.079\"), DateTime(\"2024-07-15T09:20:19.079\"), DateTime(\"2024-07-15T09:20:20.079\"), DateTime(\"2024-07-15T09:20:21.079\"), DateTime(\"2024-07-15T09:20:22.079\"), DateTime(\"2024-07-15T09:20:23.079\"), DateTime(\"2024-07-15T09:20:24.079\"), DateTime(\"2024-07-15T09:20:25.079\"), DateTime(\"2024-07-15T09:20:26.079\"), DateTime(\"2024-07-15T09:20:27.079\"), DateTime(\"2024-07-15T09:20:28.079\"), DateTime(\"2024-07-15T09:20:29.079\"), DateTime(\"2024-07-15T09:20:30.079\"), DateTime(\"2024-07-15T09:20:31.079\"), DateTime(\"2024-07-15T09:20:32.079\"), DateTime(\"2024-07-15T09:20:33.079\"), DateTime(\"2024-07-15T09:20:34.079\"), DateTime(\"2024-07-15T09:20:35.079\"), DateTime(\"2024-07-15T09:20:36.079\"), DateTime(\"2024-07-15T09:20:37.079\"), DateTime(\"2024-07-15T09:20:38.079\"), DateTime(\"2024-07-15T09:20:39.079\"), DateTime(\"2024-07-15T09:20:40.079\"), DateTime(\"2024-07-15T09:20:41.079\"), DateTime(\"2024-07-15T09:20:42.079\"), DateTime(\"2024-07-15T09:20:43.079\"), DateTime(\"2024-07-15T09:20:44.079\"), DateTime(\"2024-07-15T09:20:45.079\"), DateTime(\"2024-07-15T09:20:46.079\"), DateTime(\"2024-07-15T09:20:47.079\"), DateTime(\"2024-07-15T09:20:48.079\"), DateTime(\"2024-07-15T09:20:49.079\"), DateTime(\"2024-07-15T09:20:50.079\"), DateTime(\"2024-07-15T09:20:51.079\"), DateTime(\"2024-07-15T09:20:52.079\"), DateTime(\"2024-07-15T09:20:53.079\"), DateTime(\"2024-07-15T09:20:54.079\"), DateTime(\"2024-07-15T09:20:55.079\"), DateTime(\"2024-07-15T09:20:56.079\")], date = Union{Missing, Date}[Date(\"2024-07-16\"), Date(\"2024-07-17\"), Date(\"2024-07-18\"), Date(\"2024-07-19\"), Date(\"2024-07-20\"), Date(\"2024-07-21\"), Date(\"2024-07-22\"), Date(\"2024-07-23\"), Date(\"2024-07-24\"), Date(\"2024-07-25\"), Date(\"2024-07-26\"), Date(\"2024-07-27\"), Date(\"2024-07-28\"), Date(\"2024-07-29\"), Date(\"2024-07-30\"), Date(\"2024-07-31\"), Date(\"2024-08-01\"), Date(\"2024-08-02\"), Date(\"2024-08-03\"), Date(\"2024-08-04\"), Date(\"2024-08-05\"), Date(\"2024-08-06\"), Date(\"2024-08-07\"), Date(\"2024-08-08\"), Date(\"2024-08-09\"), Date(\"2024-08-10\"), Date(\"2024-08-11\"), Date(\"2024-08-12\"), Date(\"2024-08-13\"), Date(\"2024-08-14\"), Date(\"2024-08-15\"), Date(\"2024-08-16\"), Date(\"2024-08-17\"), Date(\"2024-08-18\"), Date(\"2024-08-19\"), Date(\"2024-08-20\"), Date(\"2024-08-21\"), Date(\"2024-08-22\"), Date(\"2024-08-23\"), Date(\"2024-08-24\"), Date(\"2024-08-25\"), Date(\"2024-08-26\"), Date(\"2024-08-27\"), Date(\"2024-08-28\"), Date(\"2024-08-29\"), Date(\"2024-08-30\"), Date(\"2024-08-31\"), Date(\"2024-09-01\"), Date(\"2024-09-02\"), Date(\"2024-09-03\"), Date(\"2024-09-04\"), Date(\"2024-09-05\"), Date(\"2024-09-06\"), Date(\"2024-09-07\"), Date(\"2024-09-08\"), Date(\"2024-09-09\"), Date(\"2024-09-10\"), Date(\"2024-09-11\"), Date(\"2024-09-12\"), Date(\"2024-09-13\"), Date(\"2024-09-14\"), Date(\"2024-09-15\"), Date(\"2024-09-16\"), Date(\"2024-09-17\"), Date(\"2024-09-18\"), Date(\"2024-09-19\"), Date(\"2024-09-20\"), Date(\"2024-09-21\"), Date(\"2024-09-22\"), Date(\"2024-09-23\"), Date(\"2024-09-24\"), Date(\"2024-09-25\"), Date(\"2024-09-26\"), Date(\"2024-09-27\"), Date(\"2024-09-28\"), Date(\"2024-09-29\"), Date(\"2024-09-30\"), Date(\"2024-10-01\"), Date(\"2024-10-02\"), Date(\"2024-10-03\"), Date(\"2024-10-04\"), Date(\"2024-10-05\"), Date(\"2024-10-06\"), Date(\"2024-10-07\"), Date(\"2024-10-08\"), Date(\"2024-10-09\"), Date(\"2024-10-10\"), Date(\"2024-10-11\"), Date(\"2024-10-12\"), Date(\"2024-10-13\"), Date(\"2024-10-14\"), Date(\"2024-10-15\"), Date(\"2024-10-16\"), Date(\"2024-10-17\"), Date(\"2024-10-18\"), Date(\"2024-10-19\"), Date(\"2024-10-20\"), Date(\"2024-10-21\"), Date(\"2024-10-22\"), Date(\"2024-10-23\")])"
     ]
    },
    {
     "data": {
      "text/html": [
       "<div><div style = \"float: left;\"><span>1×13 DataFrame</span></div><div style = \"clear: both;\"></div></div><div class = \"data-frame\" style = \"overflow-x: scroll;\"><table class = \"data-frame\" style = \"margin-bottom: 6px;\"><thead><tr class = \"header\"><th class = \"rowNumber\" style = \"font-weight: bold; text-align: right;\">Row</th><th style = \"text-align: left;\">table_catalog</th><th style = \"text-align: left;\">table_schema</th><th style = \"text-align: left;\">table_name</th><th style = \"text-align: left;\">table_type</th><th style = \"text-align: left;\">self_referencing_column_name</th><th style = \"text-align: left;\">reference_generation</th><th style = \"text-align: left;\">user_defined_type_catalog</th><th style = \"text-align: left;\">user_defined_type_schema</th><th style = \"text-align: left;\">user_defined_type_name</th><th style = \"text-align: left;\">is_insertable_into</th><th style = \"text-align: left;\">is_typed</th><th style = \"text-align: left;\">commit_action</th><th style = \"text-align: left;\">TABLE_COMMENT</th></tr><tr class = \"subheader headerLastRow\"><th class = \"rowNumber\" style = \"font-weight: bold; text-align: right;\"></th><th title = \"Union{Missing, String}\" style = \"text-align: left;\">String?</th><th title = \"Union{Missing, String}\" style = \"text-align: left;\">String?</th><th title = \"Union{Missing, String}\" style = \"text-align: left;\">String?</th><th title = \"Union{Missing, String}\" style = \"text-align: left;\">String?</th><th title = \"Union{Missing, String}\" style = \"text-align: left;\">String?</th><th title = \"Union{Missing, String}\" style = \"text-align: left;\">String?</th><th title = \"Union{Missing, String}\" style = \"text-align: left;\">String?</th><th title = \"Union{Missing, String}\" style = \"text-align: left;\">String?</th><th title = \"Union{Missing, String}\" style = \"text-align: left;\">String?</th><th title = \"Union{Missing, String}\" style = \"text-align: left;\">String?</th><th title = \"Union{Missing, String}\" style = \"text-align: left;\">String?</th><th title = \"Union{Missing, String}\" style = \"text-align: left;\">String?</th><th title = \"Union{Missing, String}\" style = \"text-align: left;\">String?</th></tr></thead><tbody><tr><td class = \"rowNumber\" style = \"font-weight: bold; text-align: right;\">1</td><td style = \"text-align: left;\">memory</td><td style = \"text-align: left;\">main</td><td style = \"text-align: left;\">data</td><td style = \"text-align: left;\">BASE TABLE</td><td style = \"font-style: italic; text-align: left;\">missing</td><td style = \"font-style: italic; text-align: left;\">missing</td><td style = \"font-style: italic; text-align: left;\">missing</td><td style = \"font-style: italic; text-align: left;\">missing</td><td style = \"font-style: italic; text-align: left;\">missing</td><td style = \"text-align: left;\">YES</td><td style = \"text-align: left;\">NO</td><td style = \"font-style: italic; text-align: left;\">missing</td><td style = \"font-style: italic; text-align: left;\">missing</td></tr></tbody></table></div>"
      ],
      "text/latex": [
       "\\begin{tabular}{r|cccccc}\n",
       "\t& table\\_catalog & table\\_schema & table\\_name & table\\_type & self\\_referencing\\_column\\_name & \\\\\n",
       "\t\\hline\n",
       "\t& String? & String? & String? & String? & String? & \\\\\n",
       "\t\\hline\n",
       "\t1 & memory & main & data & BASE TABLE & \\emph{missing} & $\\dots$ \\\\\n",
       "\\end{tabular}\n"
      ],
      "text/plain": [
       "\u001b[1m1×13 DataFrame\u001b[0m\n",
       "\u001b[1m Row \u001b[0m│\u001b[1m table_catalog \u001b[0m\u001b[1m table_schema \u001b[0m\u001b[1m table_name \u001b[0m\u001b[1m table_type \u001b[0m\u001b[1m self_referencing_c\u001b[0m ⋯\n",
       "     │\u001b[90m String?       \u001b[0m\u001b[90m String?      \u001b[0m\u001b[90m String?    \u001b[0m\u001b[90m String?    \u001b[0m\u001b[90m String?           \u001b[0m ⋯\n",
       "─────┼──────────────────────────────────────────────────────────────────────────\n",
       "   1 │ memory         main          data        BASE TABLE \u001b[90m missing           \u001b[0m ⋯\n",
       "\u001b[36m                                                               9 columns omitted\u001b[0m"
      ]
     },
     "execution_count": 20,
     "metadata": {},
     "output_type": "execute_result"
    }
   ],
   "source": [
    "using DuckDB, DataFrames, Dates\n",
    "\n",
    "db = DuckDB.DB()\n",
    "# create a table\n",
    "DBInterface.execute(db,\n",
    "    \"CREATE OR REPLACE TABLE data(id INTEGER PRIMARY KEY, value FLOAT, timestamp TIMESTAMP, date DATE)\")\n",
    "# create data to insert\n",
    "len = 100\n",
    "df = DataFrames.DataFrame(\n",
    "        id = collect(1:len),\n",
    "        value = rand(len),\n",
    "        timestamp = Dates.now() + Dates.Second.(1:len),\n",
    "        date = Dates.today() + Dates.Day.(1:len)\n",
    "    )\n",
    "# append data by row\n",
    "appender = DuckDB.Appender(db, \"data\")\n",
    "for i in eachrow(df)\n",
    "    for j in i\n",
    "        DuckDB.append(appender, j)\n",
    "    end\n",
    "    DuckDB.end_row(appender)\n",
    "end\n",
    "\n",
    "\n",
    "# flush the appender after all rows\n",
    "DuckDB.flush(appender)\n",
    "\n",
    "results = DBInterface.execute(db, \"SELECT * FROM data\")\n",
    "print(results)\n",
    "\n",
    "\n",
    "# db_1 = TidierDB.connect(:duckdb);\n",
    "\n",
    "@chain db_table(db.main_connection, Symbol(\"information_schema.tables\")) begin\n",
    "    @collect\n",
    "end\n",
    "\n",
    "# DuckDB.close(appender)"
   ]
  }
 ],
 "metadata": {
  "kernelspec": {
   "display_name": "Julia 1.10.4",
   "language": "julia",
   "name": "julia-1.10"
  },
  "language_info": {
   "file_extension": ".jl",
   "mimetype": "application/julia",
   "name": "julia",
   "version": "1.10.4"
  }
 },
 "nbformat": 4,
 "nbformat_minor": 2
}
