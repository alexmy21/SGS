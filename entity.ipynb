{
 "cells": [
  {
   "cell_type": "markdown",
   "metadata": {},
   "source": [
    "# Testing entity.jl\n",
    "\n",
    "This notebook is dedicated to experimenting with a new structure called Entity, designed to encapsulate metadata using HllSets. This initiative builds on the innovative work by Mike Saint-Antoine of SimpleGrad.jl, who adapted Andrey Karpathy's foundational MicroGrad project. While the original frameworks by Mike S-A and Andrey K utilize Numbers as the fundamental components of their neural networks, our approach replaces Numbers with HllSets.\n",
    "\n",
    "It is often argued that Numbers in conventional neural network models are derived by transforming \"real\" entities through numerical embedding. This method is effective for those entities. However, we aim to shift our focus from data to metadata, thereby describing entities more abstractly. A significant advantage of using metadata is its inherent ability to categorically separate entities into semantically similar groups. These groups are not strictly distinct; the sets of entities described by different metadata often overlap.\n",
    "\n",
    "The most crucial aspect for us is that each piece of metadata correlates with a specific set of entities. In the realm of metadata, an HllSet serves as an embedding for a collection of entities. This embedding is represented not as a numerical value but as a fixed-size bit-vector, specifically a 2-dimensional Tensor (64, P). In Julia, this is expressed as Vector{BitVector}, where each vector has a fixed length of 64 bits and the number of these bit-sets is determined by P. The parameter P defines the precision of the HyperLogLog approximation of the collection of entities.\n"
   ]
  },
  {
   "cell_type": "code",
   "execution_count": 1,
   "metadata": {},
   "outputs": [
    {
     "name": "stderr",
     "output_type": "stream",
     "text": [
      "WARNING: could not import Base.comp into HllGrad\n",
      "WARNING: could not import Base.negation into HllGrad\n",
      "WARNING: could not import Base.adv into HllGrad\n"
     ]
    }
   ],
   "source": [
    "include(\"src/entity.jl\")\n",
    "\n",
    "using .HllGrad\n",
    "using .HllSets\n",
    "\n",
    "using Random\n",
    "using Base"
   ]
  },
  {
   "cell_type": "code",
   "execution_count": 2,
   "metadata": {},
   "outputs": [],
   "source": [
    "# Initialize test HllSets\n",
    "hll1 = HllSets.HllSet{10}()\n",
    "hll2 = HllSets.HllSet{10}()\n",
    "hll3 = HllSets.HllSet{10}()\n",
    "hll4 = HllSets.HllSet{10}()\n",
    "hll5 = HllSets.HllSet{10}()\n",
    "\n",
    "# Generate datasets from random strings\n",
    "s1 = Set(randstring(7) for _ in 1:10)\n",
    "s2 = Set(randstring(7) for _ in 1:15)\n",
    "s3 = Set(randstring(7) for _ in 1:100)\n",
    "s4 = Set(randstring(7) for _ in 1:20)\n",
    "s5 = Set(randstring(7) for _ in 1:130)\n",
    "\n",
    "# Add datasets to HllSets\n",
    "HllSets.add!(hll1, s1)\n",
    "HllSets.add!(hll2, s2)\n",
    "HllSets.add!(hll3, s3)\n",
    "HllSets.add!(hll4, s4)\n",
    "HllSets.add!(hll5, s5)"
   ]
  },
  {
   "cell_type": "code",
   "execution_count": 3,
   "metadata": {},
   "outputs": [
    {
     "name": "stdout",
     "output_type": "stream",
     "text": [
      "The type parameter P is: 10\n"
     ]
    },
    {
     "data": {
      "text/plain": [
       "\n",
       "Entity(sha1: 8fe6a17a8c280a6716da73b194812b0ff02e1d61;\n",
       " hll_count: 11;\n",
       " grad: 0.0;\n",
       " op: nothing);\n",
       "\n"
      ]
     },
     "execution_count": 3,
     "metadata": {},
     "output_type": "execute_result"
    }
   ],
   "source": [
    "entity1 = HllGrad.Entity{10}(hll1)\n",
    "entity2 = HllGrad.Entity{10}(hll2)\n",
    "HllGrad.isequal(entity1, entity2)\n",
    "\n",
    "# Access the type parameter P\n",
    "P_type = typeof(entity1).parameters[1]\n",
    "\n",
    "println(\"The type parameter P is: \", P_type)\n",
    "\n",
    "entity1"
   ]
  },
  {
   "cell_type": "code",
   "execution_count": 4,
   "metadata": {},
   "outputs": [
    {
     "name": "stdout",
     "output_type": "stream",
     "text": [
      "\n",
      "Entity(sha1: 04abb4ce6da6da921a395c74dc8f585e91c9580f;\n",
      " hll_count: 27;\n",
      " grad: 0.0;\n",
      " op: Main.HllGrad.Operation{typeof(union), Tuple{Entity{10}, Entity{10}}}(union, (\n",
      "Entity(sha1: 8fe6a17a8c280a6716da73b194812b0ff02e1d61;\n",
      " hll_count: 11;\n",
      " grad: 0.0;\n",
      " op: nothing);\n",
      "\n",
      ", \n",
      "Entity(sha1: aaadde0638b68333c4384820a6d505f4081a20fe;\n",
      " hll_count: 16;\n",
      " grad: 0.0;\n",
      " op: nothing);\n",
      "\n",
      ")));\n",
      "\n",
      "\n"
     ]
    }
   ],
   "source": [
    "c = HllGrad.union(entity1, entity2)\n",
    "c\n",
    "println(c)"
   ]
  },
  {
   "cell_type": "code",
   "execution_count": 5,
   "metadata": {},
   "outputs": [
    {
     "name": "stdout",
     "output_type": "stream",
     "text": [
      "Entity 1: 11\n"
     ]
    }
   ],
   "source": [
    "println(\"Entity 1: \", HllSets.count(entity1.hll))"
   ]
  },
  {
   "cell_type": "code",
   "execution_count": 6,
   "metadata": {},
   "outputs": [
    {
     "name": "stdout",
     "output_type": "stream",
     "text": [
      "Main.HllGrad.Operation{typeof(union), Tuple{Entity{10}, Entity{10}}}(union, (\n",
      "Entity(sha1: 8fe6a17a8c280a6716da73b194812b0ff02e1d61;\n",
      " hll_count: 11;\n",
      " grad: 0.0;\n",
      " op: nothing);\n",
      "\n",
      ", \n",
      "Entity(sha1: aaadde0638b68333c4384820a6d505f4081a20fe;\n",
      " hll_count: 16;\n",
      " grad: 0.0;\n",
      " op: nothing);\n",
      "\n",
      "))\n",
      "Main.HllGrad.Operation{typeof(union), Tuple{Entity{10}, Entity{10}}}(union, (\n",
      "Entity(sha1: 8fe6a17a8c280a6716da73b194812b0ff02e1d61;\n",
      " hll_count: 11;\n",
      " grad: 0.0;\n",
      " op: nothing);\n",
      "\n",
      ", \n",
      "Entity(sha1: aaadde0638b68333c4384820a6d505f4081a20fe;\n",
      " hll_count: 16;\n",
      " grad: 0.0;\n",
      " op: nothing);\n",
      "\n",
      "))\n"
     ]
    },
    {
     "data": {
      "text/plain": [
       "\n",
       "Entity(sha1: 04abb4ce6da6da921a395c74dc8f585e91c9580f;\n",
       " hll_count: 27;\n",
       " grad: 0.0;\n",
       " op: Main.HllGrad.Operation{typeof(union), Tuple{Entity{10}, Entity{10}}}(union, (\n",
       "Entity(sha1: 8fe6a17a8c280a6716da73b194812b0ff02e1d61;\n",
       " hll_count: 11;\n",
       " grad: 0.0;\n",
       " op: nothing);\n",
       "\n",
       ", \n",
       "Entity(sha1: aaadde0638b68333c4384820a6d505f4081a20fe;\n",
       " hll_count: 16;\n",
       " grad: 0.0;\n",
       " op: nothing);\n",
       "\n",
       ")));\n",
       "\n"
      ]
     },
     "execution_count": 6,
     "metadata": {},
     "output_type": "execute_result"
    }
   ],
   "source": [
    "println(c.op)\n",
    "HllGrad.backprop!(c, c.op)\n",
    "println(c.op)\n",
    "c"
   ]
  },
  {
   "cell_type": "code",
   "execution_count": 7,
   "metadata": {},
   "outputs": [
    {
     "name": "stdout",
     "output_type": "stream",
     "text": [
      "1\n"
     ]
    }
   ],
   "source": [
    "d = HllGrad.intersect(entity1, entity2)\n",
    "\n",
    "println(HllSets.count(d.hll))"
   ]
  },
  {
   "cell_type": "code",
   "execution_count": 8,
   "metadata": {},
   "outputs": [
    {
     "name": "stdout",
     "output_type": "stream",
     "text": [
      "Main.HllGrad.Operation{typeof(intersect), Tuple{Entity{10}, Entity{10}}}(intersect, (\n",
      "Entity(sha1: 8fe6a17a8c280a6716da73b194812b0ff02e1d61;\n",
      " hll_count: 11;\n",
      " grad: 0.0;\n",
      " op: nothing);\n",
      "\n",
      ", \n",
      "Entity(sha1: aaadde0638b68333c4384820a6d505f4081a20fe;\n",
      " hll_count: 16;\n",
      " grad: 0.0;\n",
      " op: nothing);\n",
      "\n",
      "))\n",
      "Main.HllGrad.Operation{typeof(intersect), Tuple{Entity{10}, Entity{10}}}(intersect, (\n",
      "Entity(sha1: 8fe6a17a8c280a6716da73b194812b0ff02e1d61;\n",
      " hll_count: 11;\n",
      " grad: 0.0;\n",
      " op: nothing);\n",
      "\n",
      ", \n",
      "Entity(sha1: aaadde0638b68333c4384820a6d505f4081a20fe;\n",
      " hll_count: 16;\n",
      " grad: 0.0;\n",
      " op: nothing);\n",
      "\n",
      "))\n"
     ]
    },
    {
     "data": {
      "text/plain": [
       "\n",
       "Entity(sha1: 4a9b66603d1b6446899a1e7fcbbd2bd8378d4e61;\n",
       " hll_count: 1;\n",
       " grad: 0.0;\n",
       " op: Main.HllGrad.Operation{typeof(intersect), Tuple{Entity{10}, Entity{10}}}(intersect, (\n",
       "Entity(sha1: 8fe6a17a8c280a6716da73b194812b0ff02e1d61;\n",
       " hll_count: 11;\n",
       " grad: 0.0;\n",
       " op: nothing);\n",
       "\n",
       ", \n",
       "Entity(sha1: aaadde0638b68333c4384820a6d505f4081a20fe;\n",
       " hll_count: 16;\n",
       " grad: 0.0;\n",
       " op: nothing);\n",
       "\n",
       ")));\n",
       "\n"
      ]
     },
     "execution_count": 8,
     "metadata": {},
     "output_type": "execute_result"
    }
   ],
   "source": [
    "println(d.op)\n",
    "HllGrad.backprop!(d, d.op)\n",
    "println(d.op)\n",
    "d"
   ]
  },
  {
   "cell_type": "code",
   "execution_count": 9,
   "metadata": {},
   "outputs": [
    {
     "name": "stdout",
     "output_type": "stream",
     "text": [
      "27\n"
     ]
    }
   ],
   "source": [
    "e = HllGrad.xor(entity1, entity2)\n",
    "\n",
    "\n",
    "println(HllSets.count(e.hll))"
   ]
  },
  {
   "cell_type": "code",
   "execution_count": 10,
   "metadata": {},
   "outputs": [
    {
     "name": "stdout",
     "output_type": "stream",
     "text": [
      "Main.HllGrad.Operation{typeof(xor), Tuple{Entity{10}, Entity{10}}}(xor, (\n",
      "Entity(sha1: 8fe6a17a8c280a6716da73b194812b0ff02e1d61;\n",
      " hll_count: 11;\n",
      " grad: 0.0;\n",
      " op: nothing);\n",
      "\n",
      ", \n",
      "Entity(sha1: aaadde0638b68333c4384820a6d505f4081a20fe;\n",
      " hll_count: 16;\n",
      " grad: 0.0;\n",
      " op: nothing);\n",
      "\n",
      "))\n",
      "Main.HllGrad.Operation{typeof(xor), Tuple{Entity{10}, Entity{10}}}(xor, (\n",
      "Entity(sha1: 8fe6a17a8c280a6716da73b194812b0ff02e1d61;\n",
      " hll_count: 11;\n",
      " grad: 0.0;\n",
      " op: nothing);\n",
      "\n",
      ", \n",
      "Entity(sha1: aaadde0638b68333c4384820a6d505f4081a20fe;\n",
      " hll_count: 16;\n",
      " grad: 0.0;\n",
      " op: nothing);\n",
      "\n",
      "))\n"
     ]
    },
    {
     "data": {
      "text/plain": [
       "\n",
       "Entity(sha1: 04abb4ce6da6da921a395c74dc8f585e91c9580f;\n",
       " hll_count: 27;\n",
       " grad: 0.0;\n",
       " op: Main.HllGrad.Operation{typeof(xor), Tuple{Entity{10}, Entity{10}}}(xor, (\n",
       "Entity(sha1: 8fe6a17a8c280a6716da73b194812b0ff02e1d61;\n",
       " hll_count: 11;\n",
       " grad: 0.0;\n",
       " op: nothing);\n",
       "\n",
       ", \n",
       "Entity(sha1: aaadde0638b68333c4384820a6d505f4081a20fe;\n",
       " hll_count: 16;\n",
       " grad: 0.0;\n",
       " op: nothing);\n",
       "\n",
       ")));\n",
       "\n"
      ]
     },
     "execution_count": 10,
     "metadata": {},
     "output_type": "execute_result"
    }
   ],
   "source": [
    "println(e.op)\n",
    "HllGrad.backprop!(e, e.op)\n",
    "println(e.op)\n",
    "e"
   ]
  },
  {
   "cell_type": "code",
   "execution_count": 11,
   "metadata": {},
   "outputs": [
    {
     "name": "stdout",
     "output_type": "stream",
     "text": [
      "\n",
      "Entity(sha1: 4a9b66603d1b6446899a1e7fcbbd2bd8378d4e61;\n",
      " hll_count: 1;\n",
      " grad: 1.0;\n",
      " op: Main.HllGrad.Operation{typeof(Main.HllGrad.added), Tuple{Entity{10}, Entity{10}}}(Main.HllGrad.added, (\n",
      "Entity(sha1: 04abb4ce6da6da921a395c74dc8f585e91c9580f;\n",
      " hll_count: 27;\n",
      " grad: 0.0;\n",
      " op: Main.HllGrad.Operation{typeof(union), Tuple{Entity{10}, Entity{10}}}(union, (\n",
      "Entity(sha1: 8fe6a17a8c280a6716da73b194812b0ff02e1d61;\n",
      " hll_count: 11;\n",
      " grad: 0.0;\n",
      " op: nothing);\n",
      "\n",
      ", \n",
      "Entity(sha1: aaadde0638b68333c4384820a6d505f4081a20fe;\n",
      " hll_count: 16;\n",
      " grad: 0.0;\n",
      " op: nothing);\n",
      "\n",
      ")));\n",
      "\n",
      ", \n",
      "Entity(sha1: 4a9b66603d1b6446899a1e7fcbbd2bd8378d4e61;\n",
      " hll_count: 1;\n",
      " grad: 0.0;\n",
      " op: Main.HllGrad.Operation{typeof(intersect), Tuple{Entity{10}, Entity{10}}}(intersect, (\n",
      "Entity(sha1: 8fe6a17a8c280a6716da73b194812b0ff02e1d61;\n",
      " hll_count: 11;\n",
      " grad: 0.0;\n",
      " op: nothing);\n",
      "\n",
      ", \n",
      "Entity(sha1: aaadde0638b68333c4384820a6d505f4081a20fe;\n",
      " hll_count: 16;\n",
      " grad: 0.0;\n",
      " op: nothing);\n",
      "\n",
      ")));\n",
      "\n",
      ")));\n",
      "\n",
      "\n",
      "\n",
      "Entity(sha1: 4a9b66603d1b6446899a1e7fcbbd2bd8378d4e61;\n",
      " hll_count: 1;\n",
      " grad: 1.0;\n",
      " op: Main.HllGrad.Operation{typeof(Main.HllGrad.retained), Tuple{Entity{10}, Entity{10}}}(Main.HllGrad.retained, (\n",
      "Entity(sha1: 04abb4ce6da6da921a395c74dc8f585e91c9580f;\n",
      " hll_count: 27;\n",
      " grad: 0.0;\n",
      " op: Main.HllGrad.Operation{typeof(union), Tuple{Entity{10}, Entity{10}}}(union, (\n",
      "Entity(sha1: 8fe6a17a8c280a6716da73b194812b0ff02e1d61;\n",
      " hll_count: 11;\n",
      " grad: 0.0;\n",
      " op: nothing);\n",
      "\n",
      ", \n",
      "Entity(sha1: aaadde0638b68333c4384820a6d505f4081a20fe;\n",
      " hll_count: 16;\n",
      " grad: 0.0;\n",
      " op: nothing);\n",
      "\n",
      ")));\n",
      "\n",
      ", \n",
      "Entity(sha1: 4a9b66603d1b6446899a1e7fcbbd2bd8378d4e61;\n",
      " hll_count: 1;\n",
      " grad: 0.0;\n",
      " op: Main.HllGrad.Operation{typeof(intersect), Tuple{Entity{10}, Entity{10}}}(intersect, (\n",
      "Entity(sha1: 8fe6a17a8c280a6716da73b194812b0ff02e1d61;\n",
      " hll_count: 11;\n",
      " grad: 0.0;\n",
      " op: nothing);\n",
      "\n",
      ", \n",
      "Entity(sha1: aaadde0638b68333c4384820a6d505f4081a20fe;\n",
      " hll_count: 16;\n",
      " grad: 0.0;\n",
      " op: nothing);\n",
      "\n",
      ")));\n",
      "\n",
      ")));\n",
      "\n",
      "\n",
      "\n",
      "Entity(sha1: 04abb4ce6da6da921a395c74dc8f585e91c9580f;\n",
      " hll_count: 27;\n",
      " grad: 27.0;\n",
      " op: Main.HllGrad.Operation{typeof(Main.HllGrad.deleted), Tuple{Entity{10}, Entity{10}}}(Main.HllGrad.deleted, (\n",
      "Entity(sha1: 04abb4ce6da6da921a395c74dc8f585e91c9580f;\n",
      " hll_count: 27;\n",
      " grad: 0.0;\n",
      " op: Main.HllGrad.Operation{typeof(union), Tuple{Entity{10}, Entity{10}}}(union, (\n",
      "Entity(sha1: 8fe6a17a8c280a6716da73b194812b0ff02e1d61;\n",
      " hll_count: 11;\n",
      " grad: 0.0;\n",
      " op: nothing);\n",
      "\n",
      ", \n",
      "Entity(sha1: aaadde0638b68333c4384820a6d505f4081a20fe;\n",
      " hll_count: 16;\n",
      " grad: 0.0;\n",
      " op: nothing);\n",
      "\n",
      ")));\n",
      "\n",
      ", \n",
      "Entity(sha1: 4a9b66603d1b6446899a1e7fcbbd2bd8378d4e61;\n",
      " hll_count: 1;\n",
      " grad: 0.0;\n",
      " op: Main.HllGrad.Operation{typeof(intersect), Tuple{Entity{10}, Entity{10}}}(intersect, (\n",
      "Entity(sha1: 8fe6a17a8c280a6716da73b194812b0ff02e1d61;\n",
      " hll_count: 11;\n",
      " grad: 0.0;\n",
      " op: nothing);\n",
      "\n",
      ", \n",
      "Entity(sha1: aaadde0638b68333c4384820a6d505f4081a20fe;\n",
      " hll_count: 16;\n",
      " grad: 0.0;\n",
      " op: nothing);\n",
      "\n",
      ")));\n",
      "\n",
      ")));\n",
      "\n",
      "\n"
     ]
    }
   ],
   "source": [
    "n, rem, del = HllGrad.diff(c,d)\n",
    "println(del)\n",
    "println(rem)\n",
    "println(n)\n"
   ]
  },
  {
   "cell_type": "code",
   "execution_count": 12,
   "metadata": {},
   "outputs": [
    {
     "ename": "LoadError",
     "evalue": "UndefVarError: `adv` not defined",
     "output_type": "error",
     "traceback": [
      "UndefVarError: `adv` not defined",
      "",
      "Stacktrace:",
      " [1] getproperty(x::Module, f::Symbol)",
      "   @ Base ./Base.jl:31",
      " [2] top-level scope",
      "   @ In[12]:1"
     ]
    }
   ],
   "source": [
    "f = HllGrad.adv(c,d)\n",
    "\n",
    "println(f)"
   ]
  },
  {
   "cell_type": "code",
   "execution_count": null,
   "metadata": {},
   "outputs": [],
   "source": [
    "g = HllGrad.adv(d,f)\n",
    "println(f.op.args[3])"
   ]
  },
  {
   "cell_type": "code",
   "execution_count": null,
   "metadata": {},
   "outputs": [],
   "source": [
    "h = HllGrad.adv(f,g)\n",
    "\n",
    "println(h.op.args[1])"
   ]
  },
  {
   "cell_type": "code",
   "execution_count": null,
   "metadata": {},
   "outputs": [],
   "source": [
    "using Random\n",
    "\n",
    "function remove_random_bits(bitvectors::Vector{BitVector}, N::Int)\n",
    "    # Filter out empty BitVectors\n",
    "    non_empty_bitvectors = filter(bv -> !isempty(bv), bitvectors)\n",
    "    \n",
    "    total_bits = sum(count(b -> b, bv) for bv in non_empty_bitvectors)\n",
    "    if N > total_bits\n",
    "        error(\"N is greater than the total number of true bits in the BitVectors\")\n",
    "    end\n",
    "\n",
    "    for _ in 1:N\n",
    "        # Randomly select a non-empty BitVector\n",
    "        bv_index = rand(1:length(non_empty_bitvectors))\n",
    "        bv = non_empty_bitvectors[bv_index]\n",
    "\n",
    "        # Get indices with true values\n",
    "        true_indices = findall(bv)\n",
    "\n",
    "        # Randomly select one of the true indices\n",
    "        if !isempty(true_indices)\n",
    "            bit_index = rand(true_indices)\n",
    "\n",
    "            # Set the selected bit to false\n",
    "            bv[bit_index] = false\n",
    "        end\n",
    "    end\n",
    "\n",
    "    return bitvectors\n",
    "end\n",
    "\n",
    "# Example usage\n",
    "bitvectors = [BitVector([true, false, true]), BitVector([true, true, false]), BitVector([false, true, true]), BitVector([])]\n",
    "N = 3\n",
    "modified_bitvectors = remove_random_bits(bitvectors, N)\n",
    "println(modified_bitvectors)"
   ]
  }
 ],
 "metadata": {
  "kernelspec": {
   "display_name": "Julia 1.10.4",
   "language": "julia",
   "name": "julia-1.10"
  },
  "language_info": {
   "file_extension": ".jl",
   "mimetype": "application/julia",
   "name": "julia",
   "version": "1.10.4"
  }
 },
 "nbformat": 4,
 "nbformat_minor": 2
}
