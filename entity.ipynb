{
 "cells": [
  {
   "cell_type": "markdown",
   "metadata": {},
   "source": [
    "# Testing entity.jl\n",
    "\n",
    "This notebook is dedicated to experimenting with a new structure called Entity, designed to encapsulate metadata using HllSets. This initiative builds on the innovative work by Mike Saint-Antoine of SimpleGrad.jl, who adapted Andrey Karpathy's foundational MicroGrad project. While the original frameworks by Mike S-A and Andrey K utilize Numbers as the fundamental components of their neural networks, our approach replaces Numbers with HllSets.\n",
    "\n",
    "It is often argued that Numbers in conventional neural network models are derived by transforming \"real\" entities through numerical embedding. This method is effective for those entities. However, we aim to shift our focus from data to metadata, thereby describing entities more abstractly. A significant advantage of using metadata is its inherent ability to categorically separate entities into semantically similar groups. These groups are not strictly distinct; the sets of entities described by different metadata often overlap.\n",
    "\n",
    "The most crucial aspect for us is that each piece of metadata correlates with a specific set of entities. In the realm of metadata, an HllSet serves as an embedding for a collection of entities. This embedding is represented not as a numerical value but as a fixed-size bit-vector, specifically a 2-dimensional Tensor (64, P). In Julia, this is expressed as Vector{BitVector}, where each vector has a fixed length of 64 bits and the number of these bit-sets is determined by P. The parameter P defines the precision of the HyperLogLog approximation of the collection of entities.\n"
   ]
  },
  {
   "cell_type": "code",
   "execution_count": 1,
   "metadata": {},
   "outputs": [],
   "source": [
    "include(\"src/entity.jl\")\n",
    "\n",
    "using .Entity\n",
    "using .HllSets\n",
    "\n",
    "using Random\n",
    "using Base"
   ]
  },
  {
   "cell_type": "code",
   "execution_count": 2,
   "metadata": {},
   "outputs": [],
   "source": [
    "# Initialize test HllSets\n",
    "hll1 = HllSets.HllSet{10}()\n",
    "hll2 = HllSets.HllSet{10}()\n",
    "hll3 = HllSets.HllSet{10}()\n",
    "hll4 = HllSets.HllSet{10}()\n",
    "hll5 = HllSets.HllSet{10}()\n",
    "\n",
    "# Generate datasets from random strings\n",
    "s1 = Set(randstring(7) for _ in 1:10)\n",
    "s2 = Set(randstring(7) for _ in 1:15)\n",
    "s3 = Set(randstring(7) for _ in 1:100)\n",
    "s4 = Set(randstring(7) for _ in 1:20)\n",
    "s5 = Set(randstring(7) for _ in 1:130)\n",
    "\n",
    "# Add datasets to HllSets\n",
    "HllSets.add!(hll1, s1)\n",
    "HllSets.add!(hll2, s2)\n",
    "HllSets.add!(hll3, s3)\n",
    "HllSets.add!(hll4, s4)\n",
    "HllSets.add!(hll5, s5)"
   ]
  },
  {
   "cell_type": "code",
   "execution_count": 3,
   "metadata": {},
   "outputs": [
    {
     "name": "stdout",
     "output_type": "stream",
     "text": [
      "The type parameter P is: 10\n"
     ]
    },
    {
     "data": {
      "text/plain": [
       "Instance{10}(\"63170f38e2dc6b43efffd200abc57ea7f93926b1\", HllSet{10}()\n",
       ", 0.0, nothing)"
      ]
     },
     "execution_count": 3,
     "metadata": {},
     "output_type": "execute_result"
    }
   ],
   "source": [
    "entity1 = Entity.Instance{10}(hll1)\n",
    "entity2 = Entity.Instance{10}(hll2)\n",
    "Entity.isequal(entity1, entity2)\n",
    "\n",
    "# Access the type parameter P\n",
    "P_type = typeof(entity1).parameters[1]\n",
    "\n",
    "println(\"The type parameter P is: \", P_type)\n",
    "\n",
    "entity1"
   ]
  },
  {
   "cell_type": "code",
   "execution_count": 4,
   "metadata": {},
   "outputs": [
    {
     "name": "stdout",
     "output_type": "stream",
     "text": [
      "Instance{10}(\"9df2616be84f642652f642cda04cb7e296e37278\", HllSet{10}()\n",
      ", 0.0, Main.Entity.Operation{typeof(Main.Entity.union), Tuple{Instance{10}, Instance{10}}}(Main.Entity.union, (Instance{10}(\"63170f38e2dc6b43efffd200abc57ea7f93926b1\", HllSet{10}()\n",
      ", 0.0, nothing), Instance{10}(\"e94bf33b7408023ef2712340b6c8cb447a10ceeb\", HllSet{10}()\n",
      ", 0.0, nothing))))\n"
     ]
    }
   ],
   "source": [
    "c = Entity.union(entity1, entity2)\n",
    "c\n",
    "println(c)"
   ]
  },
  {
   "cell_type": "code",
   "execution_count": 5,
   "metadata": {},
   "outputs": [
    {
     "name": "stdout",
     "output_type": "stream",
     "text": [
      "Entity 1: 10\n"
     ]
    }
   ],
   "source": [
    "println(\"Entity 1: \", HllSets.count(entity1.hll))"
   ]
  },
  {
   "cell_type": "code",
   "execution_count": 6,
   "metadata": {},
   "outputs": [
    {
     "name": "stdout",
     "output_type": "stream",
     "text": [
      "Main.Entity.Operation{typeof(Main.Entity.union), Tuple{Instance{10}, Instance{10}}}(Main.Entity.union, (Instance{10}(\"63170f38e2dc6b43efffd200abc57ea7f93926b1\", HllSet{10}()\n",
      ", 0.0, nothing), Instance{10}(\"e94bf33b7408023ef2712340b6c8cb447a10ceeb\", HllSet{10}()\n",
      ", 0.0, nothing)))\n",
      "Main.Entity.Operation{typeof(Main.Entity.union), Tuple{Instance{10}, Instance{10}}}(Main.Entity.union, (Instance{10}(\"63170f38e2dc6b43efffd200abc57ea7f93926b1\", HllSet{10}()\n",
      ", 0.0, nothing), Instance{10}(\"e94bf33b7408023ef2712340b6c8cb447a10ceeb\", HllSet{10}()\n",
      ", 0.0, nothing)))\n"
     ]
    },
    {
     "data": {
      "text/plain": [
       "Instance{10}(\"9df2616be84f642652f642cda04cb7e296e37278\", HllSet{10}()\n",
       ", 0.0, Main.Entity.Operation{typeof(Main.Entity.union), Tuple{Instance{10}, Instance{10}}}(Main.Entity.union, (Instance{10}(\"63170f38e2dc6b43efffd200abc57ea7f93926b1\", HllSet{10}()\n",
       ", 0.0, nothing), Instance{10}(\"e94bf33b7408023ef2712340b6c8cb447a10ceeb\", HllSet{10}()\n",
       ", 0.0, nothing))))"
      ]
     },
     "execution_count": 6,
     "metadata": {},
     "output_type": "execute_result"
    }
   ],
   "source": [
    "println(c.op)\n",
    "Entity.backprop!(c, c.op)\n",
    "println(c.op)\n",
    "c"
   ]
  },
  {
   "cell_type": "code",
   "execution_count": 7,
   "metadata": {},
   "outputs": [
    {
     "name": "stdout",
     "output_type": "stream",
     "text": [
      "1\n"
     ]
    }
   ],
   "source": [
    "d = Entity.intersect(entity1, entity2)\n",
    "\n",
    "println(HllSets.count(d.hll))"
   ]
  },
  {
   "cell_type": "code",
   "execution_count": 8,
   "metadata": {},
   "outputs": [
    {
     "name": "stdout",
     "output_type": "stream",
     "text": [
      "Main.Entity.Operation{typeof(Main.Entity.intersect), Tuple{Instance{10}, Instance{10}}}(Main.Entity.intersect, (Instance{10}(\"63170f38e2dc6b43efffd200abc57ea7f93926b1\", HllSet{10}()\n",
      ", 0.0, nothing), Instance{10}(\"e94bf33b7408023ef2712340b6c8cb447a10ceeb\", HllSet{10}()\n",
      ", 0.0, nothing)))\n",
      "Main.Entity.Operation{typeof(Main.Entity.intersect), Tuple{Instance{10}, Instance{10}}}(Main.Entity.intersect, (Instance{10}(\"63170f38e2dc6b43efffd200abc57ea7f93926b1\", HllSet{10}()\n",
      ", 0.0, nothing), Instance{10}(\"e94bf33b7408023ef2712340b6c8cb447a10ceeb\", HllSet{10}()\n",
      ", 0.0, nothing)))\n"
     ]
    },
    {
     "data": {
      "text/plain": [
       "Instance{10}(\"4a9b66603d1b6446899a1e7fcbbd2bd8378d4e61\", HllSet{10}()\n",
       ", 0.0, Main.Entity.Operation{typeof(Main.Entity.intersect), Tuple{Instance{10}, Instance{10}}}(Main.Entity.intersect, (Instance{10}(\"63170f38e2dc6b43efffd200abc57ea7f93926b1\", HllSet{10}()\n",
       ", 0.0, nothing), Instance{10}(\"e94bf33b7408023ef2712340b6c8cb447a10ceeb\", HllSet{10}()\n",
       ", 0.0, nothing))))"
      ]
     },
     "execution_count": 8,
     "metadata": {},
     "output_type": "execute_result"
    }
   ],
   "source": [
    "println(d.op)\n",
    "Entity.backprop!(d, d.op)\n",
    "println(d.op)\n",
    "d"
   ]
  },
  {
   "cell_type": "code",
   "execution_count": 9,
   "metadata": {},
   "outputs": [
    {
     "name": "stdout",
     "output_type": "stream",
     "text": [
      "23\n"
     ]
    }
   ],
   "source": [
    "e = Entity.xor(entity1, entity2)\n",
    "\n",
    "\n",
    "println(HllSets.count(e.hll))"
   ]
  },
  {
   "cell_type": "code",
   "execution_count": 10,
   "metadata": {},
   "outputs": [
    {
     "name": "stdout",
     "output_type": "stream",
     "text": [
      "Main.Entity.Operation{typeof(Main.Entity.xor), Tuple{Instance{10}, Instance{10}}}(Main.Entity.xor, (Instance{10}(\"63170f38e2dc6b43efffd200abc57ea7f93926b1\", HllSet{10}()\n",
      ", 0.0, nothing), Instance{10}(\"e94bf33b7408023ef2712340b6c8cb447a10ceeb\", HllSet{10}()\n",
      ", 0.0, nothing)))\n",
      "Main.Entity.Operation{typeof(Main.Entity.xor), Tuple{Instance{10}, Instance{10}}}(Main.Entity.xor, (Instance{10}(\"63170f38e2dc6b43efffd200abc57ea7f93926b1\", HllSet{10}()\n",
      ", 0.0, nothing), Instance{10}(\"e94bf33b7408023ef2712340b6c8cb447a10ceeb\", HllSet{10}()\n",
      ", 0.0, nothing)))\n"
     ]
    },
    {
     "data": {
      "text/plain": [
       "Instance{10}(\"9df2616be84f642652f642cda04cb7e296e37278\", HllSet{10}()\n",
       ", 0.0, Main.Entity.Operation{typeof(Main.Entity.xor), Tuple{Instance{10}, Instance{10}}}(Main.Entity.xor, (Instance{10}(\"63170f38e2dc6b43efffd200abc57ea7f93926b1\", HllSet{10}()\n",
       ", 0.0, nothing), Instance{10}(\"e94bf33b7408023ef2712340b6c8cb447a10ceeb\", HllSet{10}()\n",
       ", 0.0, nothing))))"
      ]
     },
     "execution_count": 10,
     "metadata": {},
     "output_type": "execute_result"
    }
   ],
   "source": [
    "println(e.op)\n",
    "Entity.backprop!(e, e.op)\n",
    "println(e.op)\n",
    "e"
   ]
  },
  {
   "cell_type": "code",
   "execution_count": 11,
   "metadata": {},
   "outputs": [
    {
     "name": "stdout",
     "output_type": "stream",
     "text": [
      "Instance{10}(\"4a9b66603d1b6446899a1e7fcbbd2bd8378d4e61\", HllSet{10}()\n",
      ", 1.0, Main.Entity.Operation{typeof(Main.Entity.added), Tuple{Instance{10}, Instance{10}}}(Main.Entity.added, (Instance{10}(\"9df2616be84f642652f642cda04cb7e296e37278\", HllSet{10}()\n",
      ", 0.0, Main.Entity.Operation{typeof(Main.Entity.union), Tuple{Instance{10}, Instance{10}}}(Main.Entity.union, (Instance{10}(\"63170f38e2dc6b43efffd200abc57ea7f93926b1\", HllSet{10}()\n",
      ", 0.0, nothing), Instance{10}(\"e94bf33b7408023ef2712340b6c8cb447a10ceeb\", HllSet{10}()\n",
      ", 0.0, nothing)))), Instance{10}(\"4a9b66603d1b6446899a1e7fcbbd2bd8378d4e61\", HllSet{10}()\n",
      ", 0.0, Main.Entity.Operation{typeof(Main.Entity.intersect), Tuple{Instance{10}, Instance{10}}}(Main.Entity.intersect, (Instance{10}(\"63170f38e2dc6b43efffd200abc57ea7f93926b1\", HllSet{10}()\n",
      ", 0.0, nothing), Instance{10}(\"e94bf33b7408023ef2712340b6c8cb447a10ceeb\", HllSet{10}()\n",
      ", 0.0, nothing)))))))\n",
      "Instance{10}(\"4a9b66603d1b6446899a1e7fcbbd2bd8378d4e61\", HllSet{10}()\n",
      ", 0.043478260869565216, Main.Entity.Operation{typeof(Main.Entity.retained), Tuple{Instance{10}, Instance{10}}}(Main.Entity.retained, (Instance{10}(\"9df2616be84f642652f642cda04cb7e296e37278\", HllSet{10}()\n",
      ", 0.0, Main.Entity.Operation{typeof(Main.Entity.union), Tuple{Instance{10}, Instance{10}}}(Main.Entity.union, (Instance{10}(\"63170f38e2dc6b43efffd200abc57ea7f93926b1\", HllSet{10}()\n",
      ", 0.0, nothing), Instance{10}(\"e94bf33b7408023ef2712340b6c8cb447a10ceeb\", HllSet{10}()\n",
      ", 0.0, nothing)))), Instance{10}(\"4a9b66603d1b6446899a1e7fcbbd2bd8378d4e61\", HllSet{10}()\n",
      ", 0.0, Main.Entity.Operation{typeof(Main.Entity.intersect), Tuple{Instance{10}, Instance{10}}}(Main.Entity.intersect, (Instance{10}(\"63170f38e2dc6b43efffd200abc57ea7f93926b1\", HllSet{10}()\n",
      ", 0.0, nothing), Instance{10}(\"e94bf33b7408023ef2712340b6c8cb447a10ceeb\", HllSet{10}()\n",
      ", 0.0, nothing)))))))\n",
      "Instance{10}(\"9df2616be84f642652f642cda04cb7e296e37278\", HllSet{10}()\n",
      ", 1.0, Main.Entity.Operation{typeof(Main.Entity.deleted), Tuple{Instance{10}, Instance{10}}}(Main.Entity.deleted, (Instance{10}(\"9df2616be84f642652f642cda04cb7e296e37278\", HllSet{10}()\n",
      ", 0.0, Main.Entity.Operation{typeof(Main.Entity.union), Tuple{Instance{10}, Instance{10}}}(Main.Entity.union, (Instance{10}(\"63170f38e2dc6b43efffd200abc57ea7f93926b1\", HllSet{10}()\n",
      ", 0.0, nothing), Instance{10}(\"e94bf33b7408023ef2712340b6c8cb447a10ceeb\", HllSet{10}()\n",
      ", 0.0, nothing)))), Instance{10}(\"4a9b66603d1b6446899a1e7fcbbd2bd8378d4e61\", HllSet{10}()\n",
      ", 0.0, Main.Entity.Operation{typeof(Main.Entity.intersect), Tuple{Instance{10}, Instance{10}}}(Main.Entity.intersect, (Instance{10}(\"63170f38e2dc6b43efffd200abc57ea7f93926b1\", HllSet{10}()\n",
      ", 0.0, nothing), Instance{10}(\"e94bf33b7408023ef2712340b6c8cb447a10ceeb\", HllSet{10}()\n",
      ", 0.0, nothing)))))))\n"
     ]
    }
   ],
   "source": [
    "n, rem, del = Entity.diff(c,d)\n",
    "println(del)\n",
    "println(rem)\n",
    "println(n)\n"
   ]
  },
  {
   "cell_type": "code",
   "execution_count": 12,
   "metadata": {},
   "outputs": [
    {
     "name": "stdout",
     "output_type": "stream",
     "text": [
      "Instance{10}(\"4a9b66603d1b6446899a1e7fcbbd2bd8378d4e61\", HllSet{10}()\n",
      ", 23.0, Main.Entity.Operation{typeof(Main.Entity.advance), Tuple{Instance{10}, Instance{10}, Instance{10}}}(Main.Entity.advance, (Instance{10}(\"9df2616be84f642652f642cda04cb7e296e37278\", HllSet{10}()\n",
      ", 1.0, Main.Entity.Operation{typeof(Main.Entity.deleted), Tuple{Instance{10}, Instance{10}}}(Main.Entity.deleted, (Instance{10}(\"9df2616be84f642652f642cda04cb7e296e37278\", HllSet{10}()\n",
      ", 0.0, Main.Entity.Operation{typeof(Main.Entity.union), Tuple{Instance{10}, Instance{10}}}(Main.Entity.union, (Instance{10}(\"63170f38e2dc6b43efffd200abc57ea7f93926b1\", HllSet{10}()\n",
      ", 0.0, nothing), Instance{10}(\"e94bf33b7408023ef2712340b6c8cb447a10ceeb\", HllSet{10}()\n",
      ", 0.0, nothing)))), Instance{10}(\"4a9b66603d1b6446899a1e7fcbbd2bd8378d4e61\", HllSet{10}()\n",
      ", 0.0, Main.Entity.Operation{typeof(Main.Entity.intersect), Tuple{Instance{10}, Instance{10}}}(Main.Entity.intersect, (Instance{10}(\"63170f38e2dc6b43efffd200abc57ea7f93926b1\", HllSet{10}()\n",
      ", 0.0, nothing), Instance{10}(\"e94bf33b7408023ef2712340b6c8cb447a10ceeb\", HllSet{10}()\n",
      ", 0.0, nothing))))))), Instance{10}(\"4a9b66603d1b6446899a1e7fcbbd2bd8378d4e61\", HllSet{10}()\n",
      ", 0.043478260869565216, Main.Entity.Operation{typeof(Main.Entity.retained), Tuple{Instance{10}, Instance{10}}}(Main.Entity.retained, (Instance{10}(\"9df2616be84f642652f642cda04cb7e296e37278\", HllSet{10}()\n",
      ", 0.0, Main.Entity.Operation{typeof(Main.Entity.union), Tuple{Instance{10}, Instance{10}}}(Main.Entity.union, (Instance{10}(\"63170f38e2dc6b43efffd200abc57ea7f93926b1\", HllSet{10}()\n",
      ", 0.0, nothing), Instance{10}(\"e94bf33b7408023ef2712340b6c8cb447a10ceeb\", HllSet{10}()\n",
      ", 0.0, nothing)))), Instance{10}(\"4a9b66603d1b6446899a1e7fcbbd2bd8378d4e61\", HllSet{10}()\n",
      ", 0.0, Main.Entity.Operation{typeof(Main.Entity.intersect), Tuple{Instance{10}, Instance{10}}}(Main.Entity.intersect, (Instance{10}(\"63170f38e2dc6b43efffd200abc57ea7f93926b1\", HllSet{10}()\n",
      ", 0.0, nothing), Instance{10}(\"e94bf33b7408023ef2712340b6c8cb447a10ceeb\", HllSet{10}()\n",
      ", 0.0, nothing))))))), Instance{10}(\"4a9b66603d1b6446899a1e7fcbbd2bd8378d4e61\", HllSet{10}()\n",
      ", 1.0, Main.Entity.Operation{typeof(Main.Entity.added), Tuple{Instance{10}, Instance{10}}}(Main.Entity.added, (Instance{10}(\"9df2616be84f642652f642cda04cb7e296e37278\", HllSet{10}()\n",
      ", 0.0, Main.Entity.Operation{typeof(Main.Entity.union), Tuple{Instance{10}, Instance{10}}}(Main.Entity.union, (Instance{10}(\"63170f38e2dc6b43efffd200abc57ea7f93926b1\", HllSet{10}()\n",
      ", 0.0, nothing), Instance{10}(\"e94bf33b7408023ef2712340b6c8cb447a10ceeb\", HllSet{10}()\n",
      ", 0.0, nothing)))), Instance{10}(\"4a9b66603d1b6446899a1e7fcbbd2bd8378d4e61\", HllSet{10}()\n",
      ", 0.0, Main.Entity.Operation{typeof(Main.Entity.intersect), Tuple{Instance{10}, Instance{10}}}(Main.Entity.intersect, (Instance{10}(\"63170f38e2dc6b43efffd200abc57ea7f93926b1\", HllSet{10}()\n",
      ", 0.0, nothing), Instance{10}(\"e94bf33b7408023ef2712340b6c8cb447a10ceeb\", HllSet{10}()\n",
      ", 0.0, nothing))))))))))\n"
     ]
    }
   ],
   "source": [
    "f = Entity.advance(c,d)\n",
    "\n",
    "println(f)"
   ]
  },
  {
   "cell_type": "code",
   "execution_count": 13,
   "metadata": {},
   "outputs": [
    {
     "name": "stdout",
     "output_type": "stream",
     "text": [
      "Instance{10}(\"4a9b66603d1b6446899a1e7fcbbd2bd8378d4e61\", HllSet{10}()\n",
      ", 1.0, Main.Entity.Operation{typeof(Main.Entity.added), Tuple{Instance{10}, Instance{10}}}(Main.Entity.added, (Instance{10}(\"9df2616be84f642652f642cda04cb7e296e37278\", HllSet{10}()\n",
      ", 0.0, Main.Entity.Operation{typeof(Main.Entity.union), Tuple{Instance{10}, Instance{10}}}(Main.Entity.union, (Instance{10}(\"63170f38e2dc6b43efffd200abc57ea7f93926b1\", HllSet{10}()\n",
      ", 0.0, nothing), Instance{10}(\"e94bf33b7408023ef2712340b6c8cb447a10ceeb\", HllSet{10}()\n",
      ", 0.0, nothing)))), Instance{10}(\"4a9b66603d1b6446899a1e7fcbbd2bd8378d4e61\", HllSet{10}()\n",
      ", 0.0, Main.Entity.Operation{typeof(Main.Entity.intersect), Tuple{Instance{10}, Instance{10}}}(Main.Entity.intersect, (Instance{10}(\"63170f38e2dc6b43efffd200abc57ea7f93926b1\", HllSet{10}()\n",
      ", 0.0, nothing), Instance{10}(\"e94bf33b7408023ef2712340b6c8cb447a10ceeb\", HllSet{10}()\n",
      ", 0.0, nothing)))))))\n"
     ]
    }
   ],
   "source": [
    "g = Entity.advance(d,f)\n",
    "println(f.op.args[3])"
   ]
  },
  {
   "cell_type": "code",
   "execution_count": 14,
   "metadata": {},
   "outputs": [
    {
     "name": "stdout",
     "output_type": "stream",
     "text": [
      "Instance{10}(\"4a9b66603d1b6446899a1e7fcbbd2bd8378d4e61\", HllSet{10}()\n",
      ", 1.0, Main.Entity.Operation{typeof(Main.Entity.deleted), Tuple{Instance{10}, Instance{10}}}(Main.Entity.deleted, (Instance{10}(\"4a9b66603d1b6446899a1e7fcbbd2bd8378d4e61\", HllSet{10}()\n",
      ", 23.0, Main.Entity.Operation{typeof(Main.Entity.advance), Tuple{Instance{10}, Instance{10}, Instance{10}}}(Main.Entity.advance, (Instance{10}(\"9df2616be84f642652f642cda04cb7e296e37278\", HllSet{10}()\n",
      ", 1.0, Main.Entity.Operation{typeof(Main.Entity.deleted), Tuple{Instance{10}, Instance{10}}}(Main.Entity.deleted, (Instance{10}(\"9df2616be84f642652f642cda04cb7e296e37278\", HllSet{10}()\n",
      ", 0.0, Main.Entity.Operation{typeof(Main.Entity.union), Tuple{Instance{10}, Instance{10}}}(Main.Entity.union, (Instance{10}(\"63170f38e2dc6b43efffd200abc57ea7f93926b1\", HllSet{10}()\n",
      ", 0.0, nothing), Instance{10}(\"e94bf33b7408023ef2712340b6c8cb447a10ceeb\", HllSet{10}()\n",
      ", 0.0, nothing)))), Instance{10}(\"4a9b66603d1b6446899a1e7fcbbd2bd8378d4e61\", HllSet{10}()\n",
      ", 0.0, Main.Entity.Operation{typeof(Main.Entity.intersect), Tuple{Instance{10}, Instance{10}}}(Main.Entity.intersect, (Instance{10}(\"63170f38e2dc6b43efffd200abc57ea7f93926b1\", HllSet{10}()\n",
      ", 0.0, nothing), Instance{10}(\"e94bf33b7408023ef2712340b6c8cb447a10ceeb\", HllSet{10}()\n",
      ", 0.0, nothing))))))), Instance{10}(\"4a9b66603d1b6446899a1e7fcbbd2bd8378d4e61\", HllSet{10}()\n",
      ", 0.043478260869565216, Main.Entity.Operation{typeof(Main.Entity.retained), Tuple{Instance{10}, Instance{10}}}(Main.Entity.retained, (Instance{10}(\"9df2616be84f642652f642cda04cb7e296e37278\", HllSet{10}()\n",
      ", 0.0, Main.Entity.Operation{typeof(Main.Entity.union), Tuple{Instance{10}, Instance{10}}}(Main.Entity.union, (Instance{10}(\"63170f38e2dc6b43efffd200abc57ea7f93926b1\", HllSet{10}()\n",
      ", 0.0, nothing), Instance{10}(\"e94bf33b7408023ef2712340b6c8cb447a10ceeb\", HllSet{10}()\n",
      ", 0.0, nothing)))), Instance{10}(\"4a9b66603d1b6446899a1e7fcbbd2bd8378d4e61\", HllSet{10}()\n",
      ", 0.0, Main.Entity.Operation{typeof(Main.Entity.intersect), Tuple{Instance{10}, Instance{10}}}(Main.Entity.intersect, (Instance{10}(\"63170f38e2dc6b43efffd200abc57ea7f93926b1\", HllSet{10}()\n",
      ", 0.0, nothing), Instance{10}(\"e94bf33b7408023ef2712340b6c8cb447a10ceeb\", HllSet{10}()\n",
      ", 0.0, nothing))))))), Instance{10}(\"4a9b66603d1b6446899a1e7fcbbd2bd8378d4e61\", HllSet{10}()\n",
      ", 1.0, Main.Entity.Operation{typeof(Main.Entity.added), Tuple{Instance{10}, Instance{10}}}(Main.Entity.added, (Instance{10}(\"9df2616be84f642652f642cda04cb7e296e37278\", HllSet{10}()\n",
      ", 0.0, Main.Entity.Operation{typeof(Main.Entity.union), Tuple{Instance{10}, Instance{10}}}(Main.Entity.union, (Instance{10}(\"63170f38e2dc6b43efffd200abc57ea7f93926b1\", HllSet{10}()\n",
      ", 0.0, nothing), Instance{10}(\"e94bf33b7408023ef2712340b6c8cb447a10ceeb\", HllSet{10}()\n",
      ", 0.0, nothing)))), Instance{10}(\"4a9b66603d1b6446899a1e7fcbbd2bd8378d4e61\", HllSet{10}()\n",
      ", 0.0, Main.Entity.Operation{typeof(Main.Entity.intersect), Tuple{Instance{10}, Instance{10}}}(Main.Entity.intersect, (Instance{10}(\"63170f38e2dc6b43efffd200abc57ea7f93926b1\", HllSet{10}()\n",
      ", 0.0, nothing), Instance{10}(\"e94bf33b7408023ef2712340b6c8cb447a10ceeb\", HllSet{10}()\n",
      ", 0.0, nothing)))))))))), Instance{10}(\"4a9b66603d1b6446899a1e7fcbbd2bd8378d4e61\", HllSet{10}()\n",
      ", 1.0, Main.Entity.Operation{typeof(Main.Entity.advance), Tuple{Instance{10}, Instance{10}, Instance{10}}}(Main.Entity.advance, (Instance{10}(\"4a9b66603d1b6446899a1e7fcbbd2bd8378d4e61\", HllSet{10}()\n",
      ", 1.0, Main.Entity.Operation{typeof(Main.Entity.deleted), Tuple{Instance{10}, Instance{10}}}(Main.Entity.deleted, (Instance{10}(\"4a9b66603d1b6446899a1e7fcbbd2bd8378d4e61\", HllSet{10}()\n",
      ", 0.0, Main.Entity.Operation{typeof(Main.Entity.intersect), Tuple{Instance{10}, Instance{10}}}(Main.Entity.intersect, (Instance{10}(\"63170f38e2dc6b43efffd200abc57ea7f93926b1\", HllSet{10}()\n",
      ", 0.0, nothing), Instance{10}(\"e94bf33b7408023ef2712340b6c8cb447a10ceeb\", HllSet{10}()\n",
      ", 0.0, nothing)))), Instance{10}(\"4a9b66603d1b6446899a1e7fcbbd2bd8378d4e61\", HllSet{10}()\n",
      ", 23.0, Main.Entity.Operation{typeof(Main.Entity.advance), Tuple{Instance{10}, Instance{10}, Instance{10}}}(Main.Entity.advance, (Instance{10}(\"9df2616be84f642652f642cda04cb7e296e37278\", HllSet{10}()\n",
      ", 1.0, Main.Entity.Operation{typeof(Main.Entity.deleted), Tuple{Instance{10}, Instance{10}}}(Main.Entity.deleted, (Instance{10}(\"9df2616be84f642652f642cda04cb7e296e37278\", HllSet{10}()\n",
      ", 0.0, Main.Entity.Operation{typeof(Main.Entity.union), Tuple{Instance{10}, Instance{10}}}(Main.Entity.union, (Instance{10}(\"63170f38e2dc6b43efffd200abc57ea7f93926b1\", HllSet{10}()\n",
      ", 0.0, nothing), Instance{10}(\"e94bf33b7408023ef2712340b6c8cb447a10ceeb\", HllSet{10}()\n",
      ", 0.0, nothing)))), Instance{10}(\"4a9b66603d1b6446899a1e7fcbbd2bd8378d4e61\", HllSet{10}()\n",
      ", 0.0, Main.Entity.Operation{typeof(Main.Entity.intersect), Tuple{Instance{10}, Instance{10}}}(Main.Entity.intersect, (Instance{10}(\"63170f38e2dc6b43efffd200abc57ea7f93926b1\", HllSet{10}()\n",
      ", 0.0, nothing), Instance{10}(\"e94bf33b7408023ef2712340b6c8cb447a10ceeb\", HllSet{10}()\n",
      ", 0.0, nothing))))))), Instance{10}(\"4a9b66603d1b6446899a1e7fcbbd2bd8378d4e61\", HllSet{10}()\n",
      ", 0.043478260869565216, Main.Entity.Operation{typeof(Main.Entity.retained), Tuple{Instance{10}, Instance{10}}}(Main.Entity.retained, (Instance{10}(\"9df2616be84f642652f642cda04cb7e296e37278\", HllSet{10}()\n",
      ", 0.0, Main.Entity.Operation{typeof(Main.Entity.union), Tuple{Instance{10}, Instance{10}}}(Main.Entity.union, (Instance{10}(\"63170f38e2dc6b43efffd200abc57ea7f93926b1\", HllSet{10}()\n",
      ", 0.0, nothing), Instance{10}(\"e94bf33b7408023ef2712340b6c8cb447a10ceeb\", HllSet{10}()\n",
      ", 0.0, nothing)))), Instance{10}(\"4a9b66603d1b6446899a1e7fcbbd2bd8378d4e61\", HllSet{10}()\n",
      ", 0.0, Main.Entity.Operation{typeof(Main.Entity.intersect), Tuple{Instance{10}, Instance{10}}}(Main.Entity.intersect, (Instance{10}(\"63170f38e2dc6b43efffd200abc57ea7f93926b1\", HllSet{10}()\n",
      ", 0.0, nothing), Instance{10}(\"e94bf33b7408023ef2712340b6c8cb447a10ceeb\", HllSet{10}()\n",
      ", 0.0, nothing))))))), Instance{10}(\"4a9b66603d1b6446899a1e7fcbbd2bd8378d4e61\", HllSet{10}()\n",
      ", 1.0, Main.Entity.Operation{typeof(Main.Entity.added), Tuple{Instance{10}, Instance{10}}}(Main.Entity.added, (Instance{10}(\"9df2616be84f642652f642cda04cb7e296e37278\", HllSet{10}()\n",
      ", 0.0, Main.Entity.Operation{typeof(Main.Entity.union), Tuple{Instance{10}, Instance{10}}}(Main.Entity.union, (Instance{10}(\"63170f38e2dc6b43efffd200abc57ea7f93926b1\", HllSet{10}()\n",
      ", 0.0, nothing), Instance{10}(\"e94bf33b7408023ef2712340b6c8cb447a10ceeb\", HllSet{10}()\n",
      ", 0.0, nothing)))), Instance{10}(\"4a9b66603d1b6446899a1e7fcbbd2bd8378d4e61\", HllSet{10}()\n",
      ", 0.0, Main.Entity.Operation{typeof(Main.Entity.intersect), Tuple{Instance{10}, Instance{10}}}(Main.Entity.intersect, (Instance{10}(\"63170f38e2dc6b43efffd200abc57ea7f93926b1\", HllSet{10}()\n",
      ", 0.0, nothing), Instance{10}(\"e94bf33b7408023ef2712340b6c8cb447a10ceeb\", HllSet{10}()\n",
      ", 0.0, nothing))))))))))))), Instance{10}(\"4a9b66603d1b6446899a1e7fcbbd2bd8378d4e61\", HllSet{10}()\n",
      ", 1.0, Main.Entity.Operation{typeof(Main.Entity.retained), Tuple{Instance{10}, Instance{10}}}(Main.Entity.retained, (Instance{10}(\"4a9b66603d1b6446899a1e7fcbbd2bd8378d4e61\", HllSet{10}()\n",
      ", 0.0, Main.Entity.Operation{typeof(Main.Entity.intersect), Tuple{Instance{10}, Instance{10}}}(Main.Entity.intersect, (Instance{10}(\"63170f38e2dc6b43efffd200abc57ea7f93926b1\", HllSet{10}()\n",
      ", 0.0, nothing), Instance{10}(\"e94bf33b7408023ef2712340b6c8cb447a10ceeb\", HllSet{10}()\n",
      ", 0.0, nothing)))), Instance{10}(\"4a9b66603d1b6446899a1e7fcbbd2bd8378d4e61\", HllSet{10}()\n",
      ", 23.0, Main.Entity.Operation{typeof(Main.Entity.advance), Tuple{Instance{10}, Instance{10}, Instance{10}}}(Main.Entity.advance, (Instance{10}(\"9df2616be84f642652f642cda04cb7e296e37278\", HllSet{10}()\n",
      ", 1.0, Main.Entity.Operation{typeof(Main.Entity.deleted), Tuple{Instance{10}, Instance{10}}}(Main.Entity.deleted, (Instance{10}(\"9df2616be84f642652f642cda04cb7e296e37278\", HllSet{10}()\n",
      ", 0.0, Main.Entity.Operation{typeof(Main.Entity.union), Tuple{Instance{10}, Instance{10}}}(Main.Entity.union, (Instance{10}(\"63170f38e2dc6b43efffd200abc57ea7f93926b1\", HllSet{10}()\n",
      ", 0.0, nothing), Instance{10}(\"e94bf33b7408023ef2712340b6c8cb447a10ceeb\", HllSet{10}()\n",
      ", 0.0, nothing)))), Instance{10}(\"4a9b66603d1b6446899a1e7fcbbd2bd8378d4e61\", HllSet{10}()\n",
      ", 0.0, Main.Entity.Operation{typeof(Main.Entity.intersect), Tuple{Instance{10}, Instance{10}}}(Main.Entity.intersect, (Instance{10}(\"63170f38e2dc6b43efffd200abc57ea7f93926b1\", HllSet{10}()\n",
      ", 0.0, nothing), Instance{10}(\"e94bf33b7408023ef2712340b6c8cb447a10ceeb\", HllSet{10}()\n",
      ", 0.0, nothing))))))), Instance{10}(\"4a9b66603d1b6446899a1e7fcbbd2bd8378d4e61\", HllSet{10}()\n",
      ", 0.043478260869565216, Main.Entity.Operation{typeof(Main.Entity.retained), Tuple{Instance{10}, Instance{10}}}(Main.Entity.retained, (Instance{10}(\"9df2616be84f642652f642cda04cb7e296e37278\", HllSet{10}()\n",
      ", 0.0, Main.Entity.Operation{typeof(Main.Entity.union), Tuple{Instance{10}, Instance{10}}}(Main.Entity.union, (Instance{10}(\"63170f38e2dc6b43efffd200abc57ea7f93926b1\", HllSet{10}()\n",
      ", 0.0, nothing), Instance{10}(\"e94bf33b7408023ef2712340b6c8cb447a10ceeb\", HllSet{10}()\n",
      ", 0.0, nothing)))), Instance{10}(\"4a9b66603d1b6446899a1e7fcbbd2bd8378d4e61\", HllSet{10}()\n",
      ", 0.0, Main.Entity.Operation{typeof(Main.Entity.intersect), Tuple{Instance{10}, Instance{10}}}(Main.Entity.intersect, (Instance{10}(\"63170f38e2dc6b43efffd200abc57ea7f93926b1\", HllSet{10}()\n",
      ", 0.0, nothing), Instance{10}(\"e94bf33b7408023ef2712340b6c8cb447a10ceeb\", HllSet{10}()\n",
      ", 0.0, nothing))))))), Instance{10}(\"4a9b66603d1b6446899a1e7fcbbd2bd8378d4e61\", HllSet{10}()\n",
      ", 1.0, Main.Entity.Operation{typeof(Main.Entity.added), Tuple{Instance{10}, Instance{10}}}(Main.Entity.added, (Instance{10}(\"9df2616be84f642652f642cda04cb7e296e37278\", HllSet{10}()\n",
      ", 0.0, Main.Entity.Operation{typeof(Main.Entity.union), Tuple{Instance{10}, Instance{10}}}(Main.Entity.union, (Instance{10}(\"63170f38e2dc6b43efffd200abc57ea7f93926b1\", HllSet{10}()\n",
      ", 0.0, nothing), Instance{10}(\"e94bf33b7408023ef2712340b6c8cb447a10ceeb\", HllSet{10}()\n",
      ", 0.0, nothing)))), Instance{10}(\"4a9b66603d1b6446899a1e7fcbbd2bd8378d4e61\", HllSet{10}()\n",
      ", 0.0, Main.Entity.Operation{typeof(Main.Entity.intersect), Tuple{Instance{10}, Instance{10}}}(Main.Entity.intersect, (Instance{10}(\"63170f38e2dc6b43efffd200abc57ea7f93926b1\", HllSet{10}()\n",
      ", 0.0, nothing), Instance{10}(\"e94bf33b7408023ef2712340b6c8cb447a10ceeb\", HllSet{10}()\n",
      ", 0.0, nothing))))))))))))), Instance{10}(\"4a9b66603d1b6446899a1e7fcbbd2bd8378d4e61\", HllSet{10}()\n",
      ", 1.0, Main.Entity.Operation{typeof(Main.Entity.added), Tuple{Instance{10}, Instance{10}}}(Main.Entity.added, (Instance{10}(\"4a9b66603d1b6446899a1e7fcbbd2bd8378d4e61\", HllSet{10}()\n",
      ", 0.0, Main.Entity.Operation{typeof(Main.Entity.intersect), Tuple{Instance{10}, Instance{10}}}(Main.Entity.intersect, (Instance{10}(\"63170f38e2dc6b43efffd200abc57ea7f93926b1\", HllSet{10}()\n",
      ", 0.0, nothing), Instance{10}(\"e94bf33b7408023ef2712340b6c8cb447a10ceeb\", HllSet{10}()\n",
      ", 0.0, nothing)))), Instance{10}(\"4a9b66603d1b6446899a1e7fcbbd2bd8378d4e61\", HllSet{10}()\n",
      ", 23.0, Main.Entity.Operation{typeof(Main.Entity.advance), Tuple{Instance{10}, Instance{10}, Instance{10}}}(Main.Entity.advance, (Instance{10}(\"9df2616be84f642652f642cda04cb7e296e37278\", HllSet{10}()\n",
      ", 1.0, Main.Entity.Operation{typeof(Main.Entity.deleted), Tuple{Instance{10}, Instance{10}}}(Main.Entity.deleted, (Instance{10}(\"9df2616be84f642652f642cda04cb7e296e37278\", HllSet{10}()\n",
      ", 0.0, Main.Entity.Operation{typeof(Main.Entity.union), Tuple{Instance{10}, Instance{10}}}(Main.Entity.union, (Instance{10}(\"63170f38e2dc6b43efffd200abc57ea7f93926b1\", HllSet{10}()\n",
      ", 0.0, nothing), Instance{10}(\"e94bf33b7408023ef2712340b6c8cb447a10ceeb\", HllSet{10}()\n",
      ", 0.0, nothing)))), Instance{10}(\"4a9b66603d1b6446899a1e7fcbbd2bd8378d4e61\", HllSet{10}()\n",
      ", 0.0, Main.Entity.Operation{typeof(Main.Entity.intersect), Tuple{Instance{10}, Instance{10}}}(Main.Entity.intersect, (Instance{10}(\"63170f38e2dc6b43efffd200abc57ea7f93926b1\", HllSet{10}()\n",
      ", 0.0, nothing), Instance{10}(\"e94bf33b7408023ef2712340b6c8cb447a10ceeb\", HllSet{10}()\n",
      ", 0.0, nothing))))))), Instance{10}(\"4a9b66603d1b6446899a1e7fcbbd2bd8378d4e61\", HllSet{10}()\n",
      ", 0.043478260869565216, Main.Entity.Operation{typeof(Main.Entity.retained), Tuple{Instance{10}, Instance{10}}}(Main.Entity.retained, (Instance{10}(\"9df2616be84f642652f642cda04cb7e296e37278\", HllSet{10}()\n",
      ", 0.0, Main.Entity.Operation{typeof(Main.Entity.union), Tuple{Instance{10}, Instance{10}}}(Main.Entity.union, (Instance{10}(\"63170f38e2dc6b43efffd200abc57ea7f93926b1\", HllSet{10}()\n",
      ", 0.0, nothing), Instance{10}(\"e94bf33b7408023ef2712340b6c8cb447a10ceeb\", HllSet{10}()\n",
      ", 0.0, nothing)))), Instance{10}(\"4a9b66603d1b6446899a1e7fcbbd2bd8378d4e61\", HllSet{10}()\n",
      ", 0.0, Main.Entity.Operation{typeof(Main.Entity.intersect), Tuple{Instance{10}, Instance{10}}}(Main.Entity.intersect, (Instance{10}(\"63170f38e2dc6b43efffd200abc57ea7f93926b1\", HllSet{10}()\n",
      ", 0.0, nothing), Instance{10}(\"e94bf33b7408023ef2712340b6c8cb447a10ceeb\", HllSet{10}()\n",
      ", 0.0, nothing))))))), Instance{10}(\"4a9b66603d1b6446899a1e7fcbbd2bd8378d4e61\", HllSet{10}()\n",
      ", 1.0, Main.Entity.Operation{typeof(Main.Entity.added), Tuple{Instance{10}, Instance{10}}}(Main.Entity.added, (Instance{10}(\"9df2616be84f642652f642cda04cb7e296e37278\", HllSet{10}()\n",
      ", 0.0, Main.Entity.Operation{typeof(Main.Entity.union), Tuple{Instance{10}, Instance{10}}}(Main.Entity.union, (Instance{10}(\"63170f38e2dc6b43efffd200abc57ea7f93926b1\", HllSet{10}()\n",
      ", 0.0, nothing), Instance{10}(\"e94bf33b7408023ef2712340b6c8cb447a10ceeb\", HllSet{10}()\n",
      ", 0.0, nothing)))), Instance{10}(\"4a9b66603d1b6446899a1e7fcbbd2bd8378d4e61\", HllSet{10}()\n",
      ", 0.0, Main.Entity.Operation{typeof(Main.Entity.intersect), Tuple{Instance{10}, Instance{10}}}(Main.Entity.intersect, (Instance{10}(\"63170f38e2dc6b43efffd200abc57ea7f93926b1\", HllSet{10}()\n",
      ", 0.0, nothing), Instance{10}(\"e94bf33b7408023ef2712340b6c8cb447a10ceeb\", HllSet{10}()\n",
      ", 0.0, nothing)))))))))))))))))))\n"
     ]
    }
   ],
   "source": [
    "h = Entity.advance(f,g)\n",
    "\n",
    "println(h.op.args[1])"
   ]
  },
  {
   "cell_type": "code",
   "execution_count": 15,
   "metadata": {},
   "outputs": [
    {
     "name": "stdout",
     "output_type": "stream",
     "text": [
      "BitVector[[0, 0, 1], [1, 0, 0], [0, 1, 0], []]\n"
     ]
    }
   ],
   "source": [
    "using Random\n",
    "\n",
    "function remove_random_bits(bitvectors::Vector{BitVector}, N::Int)\n",
    "    # Filter out empty BitVectors\n",
    "    non_empty_bitvectors = filter(bv -> !isempty(bv), bitvectors)\n",
    "    \n",
    "    total_bits = sum(count(b -> b, bv) for bv in non_empty_bitvectors)\n",
    "    if N > total_bits\n",
    "        error(\"N is greater than the total number of true bits in the BitVectors\")\n",
    "    end\n",
    "\n",
    "    for _ in 1:N\n",
    "        # Randomly select a non-empty BitVector\n",
    "        bv_index = rand(1:length(non_empty_bitvectors))\n",
    "        bv = non_empty_bitvectors[bv_index]\n",
    "\n",
    "        # Get indices with true values\n",
    "        true_indices = findall(bv)\n",
    "\n",
    "        # Randomly select one of the true indices\n",
    "        if !isempty(true_indices)\n",
    "            bit_index = rand(true_indices)\n",
    "\n",
    "            # Set the selected bit to false\n",
    "            bv[bit_index] = false\n",
    "        end\n",
    "    end\n",
    "\n",
    "    return bitvectors\n",
    "end\n",
    "\n",
    "# Example usage\n",
    "bitvectors = [BitVector([true, false, true]), BitVector([true, true, false]), BitVector([false, true, true]), BitVector([])]\n",
    "N = 3\n",
    "modified_bitvectors = remove_random_bits(bitvectors, N)\n",
    "println(modified_bitvectors)"
   ]
  }
 ],
 "metadata": {
  "kernelspec": {
   "display_name": "Julia 1.10.4",
   "language": "julia",
   "name": "julia-1.10"
  },
  "language_info": {
   "file_extension": ".jl",
   "mimetype": "application/julia",
   "name": "julia",
   "version": "1.10.4"
  }
 },
 "nbformat": 4,
 "nbformat_minor": 2
}
