{
 "cells": [
  {
   "cell_type": "code",
   "execution_count": 1,
   "metadata": {},
   "outputs": [
    {
     "name": "stderr",
     "output_type": "stream",
     "text": [
      "WARNING: replacing module HllSets.\n",
      "WARNING: replacing module Util.\n",
      "WARNING: replacing module HllSets.\n",
      "WARNING: replacing module Util.\n"
     ]
    },
    {
     "data": {
      "text/plain": [
       "\"OK\""
      ]
     },
     "execution_count": 1,
     "metadata": {},
     "output_type": "execute_result"
    }
   ],
   "source": [
    "\"\"\"\n",
    "    TODO; Test passing to labels, r_type, token strings that have multiple items separated by commas\n",
    "    It should be as easy as to send to push! instead of node.labels (edge.r_type, token.token) split(node.labels, \",\")\n",
    "\"\"\"\n",
    "\n",
    "include(\"src//graph.jl\")\n",
    "include(\"src//tokens.jl\")\n",
    "include(\"src//search.jl\")\n",
    "\n",
    "using ..HllGraph\n",
    "using ..HllSets\n",
    "using ..Tokens\n",
    "using ..Search\n",
    "\n",
    "using Redis\n",
    "using EasyConfig\n",
    "using UUIDs\n",
    "using Random\n",
    "\n",
    "conn = Redis.RedisConnection()\n",
    "\n",
    "HllGraph.node_idx(conn, \"b:nodes\", \"b:n\")\n",
    "HllGraph.edge_idx(conn,\"b:edges\", \"b:e\")"
   ]
  },
  {
   "cell_type": "code",
   "execution_count": 2,
   "metadata": {},
   "outputs": [
    {
     "name": "stdout",
     "output_type": "stream",
     "text": [
      "HllSet{10}()\n"
     ]
    }
   ],
   "source": [
    "# Initialize test HllSets\n",
    "hll1 = HllSets.HllSet{10}()\n",
    "hll2 = HllSets.HllSet{10}()\n",
    "hll3 = HllSets.HllSet{10}()\n",
    "hll4 = HllSets.HllSet{10}()\n",
    "hll5 = HllSets.HllSet{10}()\n",
    "\n",
    "# Generate datasets from random strings\n",
    "s1 = Set(randstring(7) for _ in 1:10)\n",
    "s2 = Set(randstring(7) for _ in 1:15)\n",
    "s3 = Set(randstring(7) for _ in 1:100)\n",
    "s4 = Set(randstring(7) for _ in 1:20)\n",
    "s5 = Set(randstring(7) for _ in 1:130)\n",
    "\n",
    "# Add datasets to HllSets\n",
    "HllSets.add!(hll1, s1)\n",
    "HllSets.add!(hll2, s2)\n",
    "HllSets.add!(hll3, s3)\n",
    "HllSets.add!(hll4, s4)\n",
    "HllSets.add!(hll5, s5)\n",
    "\n",
    "print(hll1)"
   ]
  },
  {
   "cell_type": "code",
   "execution_count": 3,
   "metadata": {},
   "outputs": [
    {
     "name": "stdout",
     "output_type": "stream",
     "text": [
      "10 : 10\n",
      "15 : 14\n",
      "100 : 99\n",
      "20 : 18\n",
      "130 : 132\n",
      "\n",
      "275 : 276\n",
      "0 : 1\n"
     ]
    }
   ],
   "source": [
    "# Pr9nt cardinality of datasets and HllSets side by side\n",
    "print(length(s1), \" : \", HllSets.count(hll1), \"\\n\")\n",
    "print(length(s2), \" : \", HllSets.count(hll2), \"\\n\")\n",
    "print(length(s3), \" : \", HllSets.count(hll3), \"\\n\")\n",
    "print(length(s4), \" : \", HllSets.count(hll4), \"\\n\")\n",
    "print(length(s5), \" : \", HllSets.count(hll5), \"\\n\\n\")\n",
    "\n",
    "# union\n",
    "print(length(s1 ∪ s2 ∪ s3 ∪ s4 ∪ s5), \" : \", HllSets.count(hll1 ∪ hll2 ∪ hll3 ∪ hll4 ∪ hll5), \"\\n\")\n",
    "\n",
    "# intersection\n",
    "print(length(s1 ∩ s2 ∩ s3 ∩ s4 ∩ s5), \" : \", HllSets.count(hll1 ∩ hll2 ∩ hll3 ∩ hll4 ∩ hll5), \"\\n\")"
   ]
  },
  {
   "cell_type": "code",
   "execution_count": 4,
   "metadata": {},
   "outputs": [
    {
     "data": {
      "text/plain": [
       "Main.HllGraph.Graph(Main.HllGraph.Node[Node(5da690bfa7f1f0221f3bbcd581b33c9f7321e356; node1; 10), Node(0263a5ee90d2486ef7b786059101519dc7180ed9; node2; 14), Node(0d6579afb0a1a2bb9d303378c9534e0a583ea8a3; node3; 99), Node(70cd7da35abef4ec7d8670c16ce233be47a0c8d9; node4; 18), Node(b1321651af2fa744b57469f29178c03373cc6c02; node5; 132)], Main.HllGraph.Edge[])"
      ]
     },
     "execution_count": 4,
     "metadata": {},
     "output_type": "execute_result"
    }
   ],
   "source": [
    "node1 = HllGraph.Node(HllSets.id(hll1), \"node1\", HllSets.dump(hll1))\n",
    "node2 = HllGraph.Node(HllSets.id(hll2), \"node2\", HllSets.dump(hll2))\n",
    "node3 = HllGraph.Node(HllSets.id(hll3), \"node3\", HllSets.dump(hll3))\n",
    "node4 = HllGraph.Node(HllSets.id(hll4), \"node4\", HllSets.dump(hll4))\n",
    "node5 = HllGraph.Node(HllSets.id(hll5), \"node5\", HllSets.dump(hll5))\n",
    "\n",
    "# println(node1.searchable)\n",
    "\n",
    "graph = HllGraph.Graph([node1, node2, node3, node4, node5], [])"
   ]
  },
  {
   "cell_type": "code",
   "execution_count": 5,
   "metadata": {},
   "outputs": [],
   "source": [
    "using JSON3\n",
    "\n",
    "HllGraph.set_node(conn, node1, \"b\")\n",
    "HllGraph.set_node(conn, node2, \"b\")\n",
    "HllGraph.set_node(conn, node3, \"b\")\n",
    "HllGraph.set_node(conn, node4, \"b\")\n",
    "HllGraph.set_node(conn, node5, \"b\")\n",
    "# println(JSON3.read(s1, Set))\n",
    "Tokens.set_tokens(conn, s1, node1.sha1, \"b\")\n",
    "Tokens.set_tokens(conn, s2, node2.sha1, \"b\")\n",
    "Tokens.set_tokens(conn, s3, node3.sha1, \"b\")\n",
    "Tokens.set_tokens(conn, s4, node4.sha1, \"b\")\n",
    "Tokens.set_tokens(conn, s5, node5.sha1, \"b\")"
   ]
  },
  {
   "cell_type": "code",
   "execution_count": 6,
   "metadata": {},
   "outputs": [
    {
     "name": "stdout",
     "output_type": "stream",
     "text": [
      "Node(5da690bfa7f1f0221f3bbcd581b33c9f7321e356; node1; 10)\n",
      "5da690bfa7f1f0221f3bbcd581b33c9f7321e356\n",
      "node1\n",
      "Any[Node(0d6579afb0a1a2bb9d303378c9534e0a583ea8a3; node3; 99), Node(5da690bfa7f1f0221f3bbcd581b33c9f7321e356; node1; 10), Node(b1321651af2fa744b57469f29178c03373cc6c02; node5; 132), Node(70cd7da35abef4ec7d8670c16ce233be47a0c8d9; node4; 18), Node(0263a5ee90d2486ef7b786059101519dc7180ed9; node2; 14)]\n",
      "Any[]\n"
     ]
    },
    {
     "data": {
      "text/plain": [
       "Main.HllGraph.Graph(Main.HllGraph.Node[Node(0d6579afb0a1a2bb9d303378c9534e0a583ea8a3; node3; 99), Node(5da690bfa7f1f0221f3bbcd581b33c9f7321e356; node1; 10), Node(b1321651af2fa744b57469f29178c03373cc6c02; node5; 132), Node(70cd7da35abef4ec7d8670c16ce233be47a0c8d9; node4; 18), Node(0263a5ee90d2486ef7b786059101519dc7180ed9; node2; 14)], Main.HllGraph.Edge[])"
      ]
     },
     "execution_count": 6,
     "metadata": {},
     "output_type": "execute_result"
    }
   ],
   "source": [
    "println(HllGraph.get_node(conn, node1.sha1, \"b\"))\n",
    "println(node1.sha1)\n",
    "println(node1.labels)\n",
    "\n",
    "nodes = HllGraph.get_nodes(conn, \"b\")\n",
    "edges = HllGraph.get_edges(conn, \"b\")\n",
    "println(nodes)\n",
    "\n",
    "println(edges)\n",
    "\n",
    "HllGraph.Graph(nodes, edges)"
   ]
  },
  {
   "cell_type": "code",
   "execution_count": 7,
   "metadata": {},
   "outputs": [
    {
     "data": {
      "text/plain": [
       "Node(bb558567ef9d0a4044ec8c633861dbc497afe315; union; 24)"
      ]
     },
     "execution_count": 7,
     "metadata": {},
     "output_type": "execute_result"
    }
   ],
   "source": [
    "union_node = HllGraph.union_nodes(conn, node1, node2, \"union\", \"b\")"
   ]
  },
  {
   "cell_type": "code",
   "execution_count": 8,
   "metadata": {},
   "outputs": [
    {
     "name": "stdout",
     "output_type": "stream",
     "text": [
      "Any[Edge(5da690bfa7f1f0221f3bbcd581b33c9f7321e356, bb558567ef9d0a4044ec8c633861dbc497afe315, \"union\"), Edge(0263a5ee90d2486ef7b786059101519dc7180ed9, bb558567ef9d0a4044ec8c633861dbc497afe315, \"union\")]\n"
     ]
    }
   ],
   "source": [
    "println(HllGraph.get_edges(conn, \"b\"))"
   ]
  },
  {
   "cell_type": "code",
   "execution_count": 9,
   "metadata": {},
   "outputs": [
    {
     "name": "stdout",
     "output_type": "stream",
     "text": [
      "1024\n"
     ]
    }
   ],
   "source": [
    "value =\"0000000000010000000000000000000000000000000000000000000000000000000000000000000000000000000000000000000000000000000000000000000000000000000000000000000000000000000000000000000000000000000000000000000000000000000000000000000000000000000000000000000000000000000000000000000000000000000000000000000000000000000000000000000000000000000000000000000000000000000000000000000000000000000000000000000000000000000000000000000000000000000000000000000000000000000000000000000000000000000000000000000000000000000000000000000000000000000000000000000000000000000000000000000000000000000000000000000000000000000000000000000000000000000000000000000000000000000000000000000000000000000000000000000000000000000000000000000000000000000000000000000000000000000000000000000000000000000000000000000000000000000000000000000000000000000000000000000000000000000000000000000000000000000000000000000000000000000000000000000000000000000000000000000000000000000000000000000000000000000000000000000000000000000000000000000000000000000000000000000000000000\"\n",
    "\n",
    "println(length(value))"
   ]
  }
 ],
 "metadata": {
  "kernelspec": {
   "display_name": "Julia 1.10.4",
   "language": "julia",
   "name": "julia-1.10"
  },
  "language_info": {
   "file_extension": ".jl",
   "mimetype": "application/julia",
   "name": "julia",
   "version": "1.10.4"
  }
 },
 "nbformat": 4,
 "nbformat_minor": 2
}
