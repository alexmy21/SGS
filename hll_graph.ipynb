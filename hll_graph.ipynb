{
 "cells": [
  {
   "cell_type": "code",
   "execution_count": 1,
   "metadata": {},
   "outputs": [
    {
     "data": {
      "text/plain": [
       "RedisConnection(\"127.0.0.1\", 6379, \"\", 0, Redis.Transport.TCPTransport(Sockets.TCPSocket(RawFD(59) open, 0 bytes waiting)))"
      ]
     },
     "execution_count": 1,
     "metadata": {},
     "output_type": "execute_result"
    }
   ],
   "source": [
    "include(\"src//graph.jl\")\n",
    "\n",
    "using ..HllGraph\n",
    "using ..HllSets\n",
    "\n",
    "using Redis\n",
    "using EasyConfig\n",
    "using UUIDs\n",
    "using Random\n",
    "\n",
    "conn = Redis.RedisConnection()"
   ]
  },
  {
   "cell_type": "code",
   "execution_count": 2,
   "metadata": {},
   "outputs": [
    {
     "name": "stdout",
     "output_type": "stream",
     "text": [
      "HllSet{10}()\n"
     ]
    }
   ],
   "source": [
    "# Initialize test HllSets\n",
    "hll1 = HllSets.HllSet{10}()\n",
    "hll2 = HllSets.HllSet{10}()\n",
    "hll3 = HllSets.HllSet{10}()\n",
    "hll4 = HllSets.HllSet{10}()\n",
    "hll5 = HllSets.HllSet{10}()\n",
    "\n",
    "# Generate datasets from random strings\n",
    "s1 = Set(randstring(7) for _ in 1:10)\n",
    "s2 = Set(randstring(7) for _ in 1:15)\n",
    "s3 = Set(randstring(7) for _ in 1:100)\n",
    "s4 = Set(randstring(7) for _ in 1:20)\n",
    "s5 = Set(randstring(7) for _ in 1:130)\n",
    "\n",
    "# Add datasets to HllSets\n",
    "HllSets.add!(hll1, s1)\n",
    "HllSets.add!(hll2, s2)\n",
    "HllSets.add!(hll3, s3)\n",
    "HllSets.add!(hll4, s4)\n",
    "HllSets.add!(hll5, s5)\n",
    "\n",
    "print(hll1)"
   ]
  },
  {
   "cell_type": "code",
   "execution_count": 3,
   "metadata": {},
   "outputs": [
    {
     "name": "stdout",
     "output_type": "stream",
     "text": [
      "10 : 10\n",
      "15 : 16\n",
      "100 : 100\n",
      "20 : 18\n",
      "130 : 134\n",
      "\n",
      "275 : 281\n",
      "0 : 1\n"
     ]
    }
   ],
   "source": [
    "# Pr9nt cardinality of datasets and HllSets side by side\n",
    "print(length(s1), \" : \", HllSets.count(hll1), \"\\n\")\n",
    "print(length(s2), \" : \", HllSets.count(hll2), \"\\n\")\n",
    "print(length(s3), \" : \", HllSets.count(hll3), \"\\n\")\n",
    "print(length(s4), \" : \", HllSets.count(hll4), \"\\n\")\n",
    "print(length(s5), \" : \", HllSets.count(hll5), \"\\n\\n\")\n",
    "\n",
    "# union\n",
    "print(length(s1 ∪ s2 ∪ s3 ∪ s4 ∪ s5), \" : \", HllSets.count(hll1 ∪ hll2 ∪ hll3 ∪ hll4 ∪ hll5), \"\\n\")\n",
    "\n",
    "# intersection\n",
    "print(length(s1 ∩ s2 ∩ s3 ∩ s4 ∩ s5), \" : \", HllSets.count(hll1 ∩ hll2 ∩ hll3 ∩ hll4 ∩ hll5), \"\\n\")"
   ]
  },
  {
   "cell_type": "code",
   "execution_count": 4,
   "metadata": {},
   "outputs": [
    {
     "name": "stdout",
     "output_type": "stream",
     "text": [
      "to_blob: 1024; 4096\n",
      "to_blob: 1024; 4096\n",
      "to_blob: 1024; 4096\n",
      "to_blob: 1024; 4096\n",
      "to_blob: 1024; 4096\n"
     ]
    },
    {
     "data": {
      "text/plain": [
       "Main.HllGraph.Graph(Main.HllGraph.Node[Node(5c94a3ac94480f7b4c0e40294231b7ada6323388; [\"node1\"]; 10), Node(abb71c6a26339830f1d58fe63c09e5caae3b3705; [\"node2\"]; 16), Node(ce7cd9b5aa1aa0f26d571fa21346badb8080bb08; [\"node3\"]; 100), Node(6648e755fa0d54e4122227b2ab4b81d1b768d6fb; [\"node4\"]; 18), Node(2cd21d2debc73eeb9b8bffb7532cb08d176b7c95; [\"node5\"]; 134)], Main.HllGraph.Edge[])"
      ]
     },
     "execution_count": 4,
     "metadata": {},
     "output_type": "execute_result"
    }
   ],
   "source": [
    "node1 = HllGraph.Node(HllSets.id(hll1), [\"node1\"], HllSets.dump(hll1))\n",
    "node2 = HllGraph.Node(HllSets.id(hll2), [\"node2\"], HllSets.dump(hll2))\n",
    "node3 = HllGraph.Node(HllSets.id(hll3), [\"node3\"], HllSets.dump(hll3))\n",
    "node4 = HllGraph.Node(HllSets.id(hll4), [\"node4\"], HllSets.dump(hll4))\n",
    "node5 = HllGraph.Node(HllSets.id(hll5), [\"node5\"], HllSets.dump(hll5))\n",
    "\n",
    "# println(node1.searchable)\n",
    "\n",
    "graph = HllGraph.Graph([node1, node2, node3, node4, node5], [])"
   ]
  },
  {
   "cell_type": "code",
   "execution_count": 5,
   "metadata": {},
   "outputs": [
    {
     "data": {
      "text/plain": [
       "true"
      ]
     },
     "execution_count": 5,
     "metadata": {},
     "output_type": "execute_result"
    }
   ],
   "source": [
    "HllGraph.set_node(conn, node1, \"b\")\n",
    "HllGraph.set_node(conn, node2, \"b\")\n",
    "HllGraph.set_node(conn, node3, \"b\")\n",
    "HllGraph.set_node(conn, node4, \"b\")\n",
    "HllGraph.set_node(conn, node5, \"b\")"
   ]
  },
  {
   "cell_type": "code",
   "execution_count": 6,
   "metadata": {},
   "outputs": [
    {
     "name": "stdout",
     "output_type": "stream",
     "text": [
      "to_blob: 1024; 4096\n",
      "Node(5c94a3ac94480f7b4c0e40294231b7ada6323388; [\"node1\"]; 10)\n",
      "5c94a3ac94480f7b4c0e40294231b7ada6323388\n",
      "[\"node1\"]\n",
      "to_blob: 1024; 4096\n",
      "to_blob: 1024; 4096\n",
      "to_blob: 1024; 4096\n",
      "to_blob: 1024; 4096\n",
      "to_blob: 1024; 4096\n",
      "Any[Node(5c94a3ac94480f7b4c0e40294231b7ada6323388; [\"node1\"]; 10), Node(abb71c6a26339830f1d58fe63c09e5caae3b3705; [\"node2\"]; 16), Node(ce7cd9b5aa1aa0f26d571fa21346badb8080bb08; [\"node3\"]; 100), Node(6648e755fa0d54e4122227b2ab4b81d1b768d6fb; [\"node4\"]; 18), Node(2cd21d2debc73eeb9b8bffb7532cb08d176b7c95; [\"node5\"]; 134)]\n",
      "Any[]\n"
     ]
    }
   ],
   "source": [
    "println(HllGraph.get_node(conn, node1.sha1, \"b\"))\n",
    "println(node1.sha1)\n",
    "println(node1.labels)\n",
    "\n",
    "println(HllGraph.get_nodes(conn, \"b\"))\n",
    "\n",
    "println(HllGraph.get_edges(conn, \"b\"))"
   ]
  },
  {
   "cell_type": "code",
   "execution_count": 7,
   "metadata": {},
   "outputs": [
    {
     "name": "stdout",
     "output_type": "stream",
     "text": [
      "to_blob: 1024; 4096\n"
     ]
    },
    {
     "data": {
      "text/plain": [
       "Node(32af1fa7da9de76cda55e90d4ddecd9a87462f08; [\"union\"]; 26)"
      ]
     },
     "execution_count": 7,
     "metadata": {},
     "output_type": "execute_result"
    }
   ],
   "source": [
    "union_node = HllGraph.union_nodes(conn, node1, node2, [\"union\"], \"b\")"
   ]
  },
  {
   "cell_type": "code",
   "execution_count": 8,
   "metadata": {},
   "outputs": [
    {
     "name": "stdout",
     "output_type": "stream",
     "text": [
      "Any[Edge(5c94a3ac94480f7b4c0e40294231b7ada6323388, 32af1fa7da9de76cda55e90d4ddecd9a87462f08, \"union\"), Edge(abb71c6a26339830f1d58fe63c09e5caae3b3705, 32af1fa7da9de76cda55e90d4ddecd9a87462f08, \"union\")]\n"
     ]
    }
   ],
   "source": [
    "println(HllGraph.get_edges(conn, \"b\"))"
   ]
  }
 ],
 "metadata": {
  "kernelspec": {
   "display_name": "Julia 1.10.4",
   "language": "julia",
   "name": "julia-1.10"
  },
  "language_info": {
   "file_extension": ".jl",
   "mimetype": "application/julia",
   "name": "julia",
   "version": "1.10.4"
  }
 },
 "nbformat": 4,
 "nbformat_minor": 2
}
