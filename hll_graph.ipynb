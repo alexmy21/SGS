{
 "cells": [
  {
   "cell_type": "code",
   "execution_count": 1,
   "metadata": {},
   "outputs": [
    {
     "data": {
      "text/plain": [
       "RedisConnection(\"127.0.0.1\", 6379, \"\", 0, Redis.Transport.TCPTransport(Sockets.TCPSocket(RawFD(66) open, 0 bytes waiting)))"
      ]
     },
     "execution_count": 1,
     "metadata": {},
     "output_type": "execute_result"
    }
   ],
   "source": [
    "include(\"src//hll_graph.jl\")\n",
    "\n",
    "using ..Graph\n",
    "using Redis\n",
    "using EasyConfig\n",
    "using UUIDs\n",
    "\n",
    "conn = Redis.RedisConnection()"
   ]
  },
  {
   "cell_type": "code",
   "execution_count": 2,
   "metadata": {},
   "outputs": [
    {
     "data": {
      "text/plain": [
       "true"
      ]
     },
     "execution_count": 2,
     "metadata": {},
     "output_type": "execute_result"
    }
   ],
   "source": [
    "uuid = UUIDs.uuid4()\n",
    "\n",
    "edge_props = Config()\n",
    "edge_props[\"source\"] = string(uuid)\n",
    "edge_props[\"target\"] = \"assign.item\"\n",
    "edge_props[\"source_label\"] = \"csv_file\"\n",
    "edge_props[\"target_label\"] = \"csv_column\"\n",
    "edge = Graph.Edge(string(uuid), \"assign.id\", \"has_column\", edge_props)\n",
    "\n",
    "Graph.set_edge(conn, edge, \"b\")"
   ]
  },
  {
   "cell_type": "code",
   "execution_count": 3,
   "metadata": {},
   "outputs": [
    {
     "data": {
      "text/plain": [
       "true"
      ]
     },
     "execution_count": 3,
     "metadata": {},
     "output_type": "execute_result"
    }
   ],
   "source": [
    "\n",
    "node = Graph.Node(string(uuid), [\"csv_file\"], [])\n",
    "\n",
    "Graph.set_node(conn, node, \"b\")"
   ]
  },
  {
   "cell_type": "code",
   "execution_count": 4,
   "metadata": {},
   "outputs": [
    {
     "name": "stdout",
     "output_type": "stream",
     "text": [
      "node_dict: Dict{AbstractString, AbstractString}(\"labels\" => \"[\\\"csv_file\\\"]\", \"sha1\" => \"\\\"add75b61-b47d-4330-b568-366ed47f5a5a\\\"\", \"dataset\" => \"[]\")\n"
     ]
    },
    {
     "data": {
      "text/plain": [
       "Node(\"add75b61-b47d-4330-b568-366ed47f5a5a\"; [\"csv_file\"])"
      ]
     },
     "execution_count": 4,
     "metadata": {},
     "output_type": "execute_result"
    }
   ],
   "source": [
    "Graph.get_node(conn, \"add75b61-b47d-4330-b568-366ed47f5a5a\", \"b\")"
   ]
  },
  {
   "cell_type": "code",
   "execution_count": 5,
   "metadata": {},
   "outputs": [
    {
     "data": {
      "text/plain": [
       "Edge(\"add75b61-b47d-4330-b568-366ed47f5a5a\", \"assign.id\", \"\\\"has_column\\\"\"; source=\"add75b61-b47d-4330-b568-366ed47f5a5a\", target_label=\"csv_column\", source_label=\"csv_file\", target=\"assign.item\")"
      ]
     },
     "execution_count": 5,
     "metadata": {},
     "output_type": "execute_result"
    }
   ],
   "source": [
    "Graph.get_edge(conn, \"add75b61-b47d-4330-b568-366ed47f5a5a\",\"assign.id\", \"b\")"
   ]
  },
  {
   "cell_type": "code",
   "execution_count": 6,
   "metadata": {},
   "outputs": [
    {
     "data": {
      "text/plain": [
       "19-element Vector{Any}:\n",
       " Node(\"0674708a-0e96-4cf4-b7ec-519d23e524a5\"; [\"csv_file\"])\n",
       " Node(\"file.id\"; [\"csv_file\"])\n",
       " Node(\"a5e35028-93fe-471c-8ca4-622c74840ad6\"; [\"csv_file\"])\n",
       " Node(\"ccd42283-f255-42c8-b02b-4b9656c9eced\"; [\"csv_file\"])\n",
       " Node(\"add75b61-b47d-4330-b568-366ed47f5a5a\"; [\"csv_file\"])\n",
       " Node(\"63f114e0-b1f1-41e2-be51-6f760b9227a0\"; [\"csv_file\"])\n",
       " Node(\"339020ab-8efe-4bc3-9030-d63f0a3c60ed\"; [\"csv_file\"])\n",
       " Node(\"8cd706cf-7e13-4819-9c51-0fed445acbc8\"; [\"csv_file\"])\n",
       " Node(\"253b5c24-bc7c-4307-911b-e965b2ec5523\"; [\"csv_file\"])\n",
       " Node(\"4a2f51a9-68c2-4291-9d33-c83e3de31447\"; [\"csv_file\"])\n",
       " Node(\"a8311f89-2f34-4ca7-a180-b89198fdb989\"; [\"csv_file\"])\n",
       " Node(\"99603d58-ed7d-4695-af77-f4f5ed71681b\"; [\"csv_file\"])\n",
       " Node(\"07d00921-57d7-4b55-8d43-626f5d384313\"; [\"csv_file\"])\n",
       " Node(\"7767bc8f-e0fe-40e7-b76c-1a0ffde3ae19\"; [\"csv_file\"])\n",
       " Node(\"a71a3c7f-7fe5-470f-bab3-1e2012ae4d04\"; [\"csv_file\"])\n",
       " Node(\"46998f1a-3caa-4c19-8769-d091709784f2\"; [\"csv_file\"])\n",
       " Node(\"9a55ea92-7660-43ed-a225-946f3f59e971\"; [\"csv_file\"])\n",
       " Node(\"9ae8ebcc-ced8-4181-a187-2ef76c3835c8\"; [\"csv_file\"])\n",
       " Node(\"bed2f18b-6b91-434d-aa39-bc4257b7462f\"; [\"csv_file\"])"
      ]
     },
     "execution_count": 6,
     "metadata": {},
     "output_type": "execute_result"
    }
   ],
   "source": [
    "Graph.get_nodes(conn, \"b\")"
   ]
  },
  {
   "cell_type": "code",
   "execution_count": 7,
   "metadata": {},
   "outputs": [
    {
     "data": {
      "text/plain": [
       "18-element Vector{Any}:\n",
       " Edge(\"63f114e0-b1f1-41e2-be51-6f760b9227a0\", \"assign.id\", \"\\\"has_column\\\"\"; source=\"63f114e0-b1f1-41e2-be51-6f760b9227a0\", target_label=\"csv_column\", source_label=\"csv_file\", target=\"assign.item\")\n",
       " Edge(\"7767bc8f-e0fe-40e7-b76c-1a0ffde3ae19\", \"assign.id\", \"\\\"has_column\\\"\"; source=\"7767bc8f-e0fe-40e7-b76c-1a0ffde3ae19\", target_label=\"csv_column\", source_label=\"csv_file\", target=\"assign.item\")\n",
       " Edge(\"46998f1a-3caa-4c19-8769-d091709784f2\", \"assign.id\", \"\\\"has_column\\\"\"; source=\"46998f1a-3caa-4c19-8769-d091709784f2\", target_label=\"csv_column\", source_label=\"csv_file\", target=\"assign.item\")\n",
       " Edge(\"file.id\", \"assign.id\", \"\\\"has_column\\\"\"; source=\"a71a3c7f-7fe5-470f-bab3-1e2012ae4d04\", target_label=\"csv_column\", source_label=\"csv_file\", target=\"assign.item\")\n",
       " Edge(\"339020ab-8efe-4bc3-9030-d63f0a3c60ed\", \"assign.id\", \"\\\"has_column\\\"\"; source=\"339020ab-8efe-4bc3-9030-d63f0a3c60ed\", target_label=\"csv_column\", source_label=\"csv_file\", target=\"assign.item\")\n",
       " Edge(\"4a2f51a9-68c2-4291-9d33-c83e3de31447\", \"assign.id\", \"\\\"has_column\\\"\"; source=\"4a2f51a9-68c2-4291-9d33-c83e3de31447\", target_label=\"csv_column\", source_label=\"csv_file\", target=\"assign.item\")\n",
       " Edge(\"a5e35028-93fe-471c-8ca4-622c74840ad6\", \"assign.id\", \"\\\"has_column\\\"\"; source=\"a5e35028-93fe-471c-8ca4-622c74840ad6\", target_label=\"csv_column\", source_label=\"csv_file\", target=\"assign.item\")\n",
       " Edge(\"bed2f18b-6b91-434d-aa39-bc4257b7462f\", \"assign.id\", \"\\\"has_column\\\"\"; source=\"bed2f18b-6b91-434d-aa39-bc4257b7462f\", target_label=\"csv_column\", source_label=\"csv_file\", target=\"assign.item\")\n",
       " Edge(\"add75b61-b47d-4330-b568-366ed47f5a5a\", \"assign.id\", \"\\\"has_column\\\"\"; source=\"add75b61-b47d-4330-b568-366ed47f5a5a\", target_label=\"csv_column\", source_label=\"csv_file\", target=\"assign.item\")\n",
       " Edge(\"8cd706cf-7e13-4819-9c51-0fed445acbc8\", \"assign.id\", \"\\\"has_column\\\"\"; source=\"8cd706cf-7e13-4819-9c51-0fed445acbc8\", target_label=\"csv_column\", source_label=\"csv_file\", target=\"assign.item\")\n",
       " Edge(\"9a55ea92-7660-43ed-a225-946f3f59e971\", \"assign.id\", \"\\\"has_column\\\"\"; source=\"9a55ea92-7660-43ed-a225-946f3f59e971\", target_label=\"csv_column\", source_label=\"csv_file\", target=\"assign.item\")\n",
       " Edge(\"07d00921-57d7-4b55-8d43-626f5d384313\", \"assign.id\", \"\\\"has_column\\\"\"; source=\"07d00921-57d7-4b55-8d43-626f5d384313\", target_label=\"csv_column\", source_label=\"csv_file\", target=\"assign.item\")\n",
       " Edge(\"99603d58-ed7d-4695-af77-f4f5ed71681b\", \"assign.id\", \"\\\"has_column\\\"\"; source=\"99603d58-ed7d-4695-af77-f4f5ed71681b\", target_label=\"csv_column\", source_label=\"csv_file\", target=\"assign.item\")\n",
       " Edge(\"a8311f89-2f34-4ca7-a180-b89198fdb989\", \"assign.id\", \"\\\"has_column\\\"\"; source=\"a8311f89-2f34-4ca7-a180-b89198fdb989\", target_label=\"csv_column\", source_label=\"csv_file\", target=\"assign.item\")\n",
       " Edge(\"ccd42283-f255-42c8-b02b-4b9656c9eced\", \"assign.id\", \"\\\"has_column\\\"\"; source=\"ccd42283-f255-42c8-b02b-4b9656c9eced\", target_label=\"csv_column\", source_label=\"csv_file\", target=\"assign.item\")\n",
       " Edge(\"9ae8ebcc-ced8-4181-a187-2ef76c3835c8\", \"assign.id\", \"\\\"has_column\\\"\"; source=\"9ae8ebcc-ced8-4181-a187-2ef76c3835c8\", target_label=\"csv_column\", source_label=\"csv_file\", target=\"assign.item\")\n",
       " Edge(\"0674708a-0e96-4cf4-b7ec-519d23e524a5\", \"assign.id\", \"\\\"has_column\\\"\"; source=\"0674708a-0e96-4cf4-b7ec-519d23e524a5\", target_label=\"csv_column\", source_label=\"csv_file\", target=\"assign.item\")\n",
       " Edge(\"253b5c24-bc7c-4307-911b-e965b2ec5523\", \"assign.id\", \"\\\"has_column\\\"\"; source=\"253b5c24-bc7c-4307-911b-e965b2ec5523\", target_label=\"csv_column\", source_label=\"csv_file\", target=\"assign.item\")"
      ]
     },
     "execution_count": 7,
     "metadata": {},
     "output_type": "execute_result"
    }
   ],
   "source": [
    "Graph.get_edges(conn, \"b\")"
   ]
  }
 ],
 "metadata": {
  "kernelspec": {
   "display_name": "Julia 1.10.4",
   "language": "julia",
   "name": "julia-1.10"
  },
  "language_info": {
   "file_extension": ".jl",
   "mimetype": "application/julia",
   "name": "julia",
   "version": "1.10.4"
  }
 },
 "nbformat": 4,
 "nbformat_minor": 2
}
