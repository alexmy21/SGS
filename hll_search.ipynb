{
 "cells": [
  {
   "cell_type": "code",
   "execution_count": null,
   "metadata": {},
   "outputs": [],
   "source": [
    "using PyCall"
   ]
  },
  {
   "cell_type": "code",
   "execution_count": null,
   "metadata": {},
   "outputs": [],
   "source": [
    "redis = pyimport(\"redis\")\n",
    "query = pyimport(\"redis.commands.search.query\")\n",
    "r = redis.Redis(host=\"localhost\", port=6379)"
   ]
  },
  {
   "cell_type": "code",
   "execution_count": null,
   "metadata": {},
   "outputs": [],
   "source": [
    "_docs = r.ft(\"b:nodes\").search(\"*\").docs\n",
    "_docs"
   ]
  },
  {
   "cell_type": "code",
   "execution_count": null,
   "metadata": {},
   "outputs": [],
   "source": [
    "_query = (\n",
    "    query.Query(\"*\").return_fields(\"sha1\", \"labels\", \"searchable\").paging(0, 100)\n",
    ")\n",
    "\n",
    "_docs = r.ft(\"b:nodes\").search(_query).docs\n",
    "q_vector = _docs[1][\"searchable\"]"
   ]
  },
  {
   "cell_type": "code",
   "execution_count": null,
   "metadata": {},
   "outputs": [],
   "source": [
    "stmt = raw\"*=>[KNN 100 @searchable $vec as score]\"\n",
    "_query = (\n",
    "    query.Query(stmt).sort_by(\"score\").return_fields(\"sha1\", \"labels\", \"score\").paging(0, 100).dialect(2)\n",
    ")\n",
    "\n",
    "query_params = Dict(\"vec\" => q_vector)\n",
    "\n",
    "r.ft(\"b:nodes\").search(_query, query_params).docs"
   ]
  },
  {
   "cell_type": "markdown",
   "metadata": {},
   "source": [
    "# References\n",
    "1. https://juliapy.github.io/PythonCall.jl/stable/pythoncall/\n",
    "2. https://redis.io/docs/latest/develop/interact/search-and-query/advanced-concepts/tags/ "
   ]
  }
 ],
 "metadata": {
  "kernelspec": {
   "display_name": "Julia 1.10.4",
   "language": "julia",
   "name": "julia-1.10"
  },
  "language_info": {
   "file_extension": ".jl",
   "mimetype": "application/julia",
   "name": "julia",
   "version": "1.10.4"
  }
 },
 "nbformat": 4,
 "nbformat_minor": 2
}
