{
 "cells": [
  {
   "cell_type": "code",
   "execution_count": 1,
   "metadata": {},
   "outputs": [
    {
     "name": "stdout",
     "output_type": "stream",
     "text": [
      "HllSet{10}()\n",
      "\n",
      "Size of: 1024\n"
     ]
    }
   ],
   "source": [
    "using Random\n",
    "using FilePathsBase: extension, Path\n",
    "\n",
    "include(\"src/sets32.jl\")\n",
    "\n",
    "import .HllSets as set\n",
    "\n",
    "# Initialize test HllSets\n",
    "hll1 = set.HllSet{10}()\n",
    "hll2 = set.HllSet{10}()\n",
    "hll3 = set.HllSet{10}()\n",
    "hll4 = set.HllSet{10}()\n",
    "hll5 = set.HllSet{10}()\n",
    "\n",
    "# Generate datasets from random strings\n",
    "s1 = Set(randstring(7) for _ in 1:10)\n",
    "s2 = Set(randstring(7) for _ in 1:15)\n",
    "s3 = Set(randstring(7) for _ in 1:100)\n",
    "s4 = Set(randstring(7) for _ in 1:20)\n",
    "s5 = Set(randstring(7) for _ in 1:130)\n",
    "\n",
    "# Add datasets to HllSets\n",
    "set.add!(hll1, s1)\n",
    "set.add!(hll2, s2)\n",
    "set.add!(hll3, s3)\n",
    "set.add!(hll4, s4)\n",
    "set.add!(hll5, s5)\n",
    "\n",
    "println(hll1)\n",
    "\n",
    "println(\"Size of: \", set.sizeof(hll1))"
   ]
  },
  {
   "cell_type": "code",
   "execution_count": 2,
   "metadata": {},
   "outputs": [
    {
     "name": "stdout",
     "output_type": "stream",
     "text": [
      "10 : 9\n",
      "15 : 18\n",
      "100 : 99\n",
      "20 : 18\n",
      "130 : 132\n",
      "\n",
      "275 : 280\n",
      "0 : 1\n"
     ]
    }
   ],
   "source": [
    "# Print cardinality of datasets and HllSets side by side\n",
    "print(length(s1), \" : \", count(hll1), \"\\n\")\n",
    "print(length(s2), \" : \", count(hll2), \"\\n\")\n",
    "print(length(s3), \" : \", count(hll3), \"\\n\")\n",
    "print(length(s4), \" : \", count(hll4), \"\\n\")\n",
    "print(length(s5), \" : \", count(hll5), \"\\n\\n\")\n",
    "\n",
    "# union\n",
    "print(length(s1 ∪ s2 ∪ s3 ∪ s4 ∪ s5), \" : \", count(hll1 ∪ hll2 ∪ hll3 ∪ hll4 ∪ hll5), \"\\n\")\n",
    "\n",
    "# intersection\n",
    "print(length(s1 ∩ s2 ∩ s3 ∩ s4 ∩ s5), \" : \", count(hll1 ∩ hll2 ∩ hll3 ∩ hll4 ∩ hll5), \"\\n\")"
   ]
  },
  {
   "cell_type": "code",
   "execution_count": 3,
   "metadata": {},
   "outputs": [
    {
     "name": "stdout",
     "output_type": "stream",
     "text": [
      "A: 11\n",
      "B: 9\n",
      "C: 7\n",
      "U: 12\n",
      "\n",
      "AB = A ∩ B: 8\n",
      "AC = A ∩ C: 6\n",
      "BC = B ∩ C: 7\n",
      "\n",
      "P(A) = A / U: 0.9166666666666666\n",
      "P(B) = B / U: 0.75\n",
      "P(C) = C / U: 0.5833333333333334\n",
      "\n",
      "P(A | B) = AB / B: 0.8888888888888888\n",
      "P(B | A) = AB / A: 0.7272727272727273\n",
      "P(A | C) = AC / C: 0.8571428571428571\n",
      "P(C | A) = AC / A: 0.5454545454545454\n",
      "\n",
      "P(B | C) = BC / C: 1.0\n",
      "P(C | B) = BC / B: 0.7777777777777778\n",
      "\n"
     ]
    }
   ],
   "source": [
    "A = set.HllSet{10}()\n",
    "B = set.HllSet{10}()\n",
    "C = set.HllSet{10}()\n",
    "\n",
    "items_t1 = Set([\"string0\", \"string1\", \"string2\", \"string3\", \"string4\", \"string5\", \"string6\", \"string7\", \"string8\", \"string9\", \"string10\"])\n",
    "items_t2 = Set([\"string3\", \"string4\", \"string5\", \"string6\", \"string7\", \"string8\", \"string9\", \"string10\", \"string11\"])\n",
    "items_t3 = Set([\"string5\", \"string6\", \"string7\", \"string8\", \"string9\", \"string10\", \"string11\"])\n",
    "\n",
    "set.add!(A, items_t1)\n",
    "set.add!(B, items_t2)\n",
    "set.add!(C, items_t3)\n",
    "\n",
    "U = A ∪ B ∪ C\n",
    "\n",
    "println(\"A: \", count(A))\n",
    "println(\"B: \", count(B))\n",
    "println(\"C: \", count(C))\n",
    "println(\"U: \", count(U), \"\\n\")\n",
    "\n",
    "println(\"AB = A ∩ B: \", count(A ∩ B))\n",
    "println(\"AC = A ∩ C: \", count(A ∩ C))\n",
    "println(\"BC = B ∩ C: \", count(B ∩ C), \"\\n\")\n",
    "\n",
    "println(\"P(A) = A / U: \", count(A) / count(U))\n",
    "println(\"P(B) = B / U: \", count(B) / count(U))\n",
    "println(\"P(C) = C / U: \", count(C) / count(U), \"\\n\")\n",
    "\n",
    "println(\"P(A | B) = AB / B: \", count(A ∩ B) / count(B))\n",
    "println(\"P(B | A) = AB / A: \", count(A ∩ B) / count(A))\n",
    "println(\"P(A | C) = AC / C: \", count(A ∩ C) / count(C))\n",
    "println(\"P(C | A) = AC / A: \", count(A ∩ C) / count(A), \"\\n\")\n",
    "\n",
    "println(\"P(B | C) = BC / C: \", count(B ∩ C) / count(C))\n",
    "println(\"P(C | B) = BC / B: \", count(B ∩ C) / count(B), \"\\n\")\n",
    "\n",
    "# hll_diff = set.set_xor(hll_1, hll_2)\n",
    "# println(\"HLL xor: \", count(hll_diff))\n",
    "\n",
    "# hll_int = intersect(hll_1, hll_2)\n",
    "\n",
    "# println(\"hll_int: \", count(hll_int))\n",
    "\n",
    "# println()\n",
    "# println(\"=====================================\")\n",
    "# hll_comp_1 = set.set_comp(hll_1, hll_2)\n",
    "# println(\"Comp 1: \", count(hll_comp_1))\n",
    "# println(\"hll_1: \", count(hll_1))\n",
    "\n",
    "# println()\n",
    "# println(\"=====================================\")\n",
    "# hll_comp_2 = set.set_comp(hll_2, hll_1)\n",
    "# println(\"Comp 2: \", count(hll_comp_2))\n",
    "# println(\"hll_2: \", count(hll_2))"
   ]
  },
  {
   "cell_type": "code",
   "execution_count": 4,
   "metadata": {},
   "outputs": [
    {
     "name": "stdout",
     "output_type": "stream",
     "text": [
      "Bool[0, 0, 0, 1, 0, 0, 1, 0, 0, 0]\n"
     ]
    }
   ],
   "source": [
    "# Define two BitVectors\n",
    "bv1 = bitrand(10)\n",
    "bv2 = bitrand(10)\n",
    "\n",
    "# Find the complement of bv1 in bv2\n",
    "complement = .~bv1 .& bv2\n",
    "\n",
    "println(complement)"
   ]
  },
  {
   "cell_type": "code",
   "execution_count": 5,
   "metadata": {},
   "outputs": [
    {
     "data": {
      "text/plain": [
       "true"
      ]
     },
     "execution_count": 5,
     "metadata": {},
     "output_type": "execute_result"
    }
   ],
   "source": [
    "# vec = dump(hll_1)\n",
    "hll_3 = set.HllSet{10}()\n",
    "hll_res = set.restore(hll_3, hll1.counts)\n",
    "\n",
    "set.isequal(hll1, hll_res)"
   ]
  },
  {
   "cell_type": "code",
   "execution_count": 6,
   "metadata": {},
   "outputs": [
    {
     "name": "stdout",
     "output_type": "stream",
     "text": [
      "@NamedTuple{DEL::Main.HllSets.HllSet{10}, RET::Main.HllSets.HllSet{10}, NEW::Main.HllSets.HllSet{10}}\n",
      "DEL: 9\n",
      "RET: 1\n",
      "NEW: 15\n"
     ]
    }
   ],
   "source": [
    "delta1 = set.diff(hll1, hll2)\n",
    "println(typeof(delta1))\n",
    "\n",
    "for (name, value) in pairs(delta1)\n",
    "    println(name, \": \", count(value))\n",
    "end"
   ]
  },
  {
   "cell_type": "code",
   "execution_count": 7,
   "metadata": {},
   "outputs": [
    {
     "name": "stdout",
     "output_type": "stream",
     "text": [
      "9\n",
      "9\n"
     ]
    }
   ],
   "source": [
    "_dump = set.dump(hll_3)\n",
    "# println(_dump)\n",
    "hll_dump = set.HllSet{10}()\n",
    "restored = set.restore(hll_dump, Vector(_dump))\n",
    "println(set.count(hll_3))\n",
    "println(set.count(hll_dump))"
   ]
  },
  {
   "cell_type": "markdown",
   "metadata": {},
   "source": [
    "# Proving Fundamental Set properties\n",
    "## Fundamental properties:\n",
    "\n",
    "    Commutative property\n",
    "\n",
    "            1. (A ∪ B) = (B ∪ A)\n",
    "            2. (A ∩ B) = (B ∩ A)\n",
    "\n",
    "    Associative property\n",
    "\n",
    "            3. (A ∪ B) ∪ C) = (A ∪ (B ∪ C))\n",
    "            4. (A ∩ B) ∩ C) = (A ∩ (B ∩ C))\n",
    "\n",
    "    Distributive property:\n",
    "\n",
    "            5. ((A ∪ B) ∩ C) = (A ∩ C) ∪ (B ∩ C)\n",
    "            6.  ((A ∩ B) ∪ C) = (A ∪ C) ∩ (B ∪ C)\n",
    "\n",
    "    Identity:\n",
    "\n",
    "            7.  (A ∪ Z) = A   \n",
    "            8.  (A ∩ U) = A\n",
    "## Some additional laws:\n",
    "\n",
    "    Idempotent laws:\n",
    "\n",
    "            1. (A ∪ A) = A \n",
    "            3. (A ∩ U) = A"
   ]
  },
  {
   "cell_type": "code",
   "execution_count": 8,
   "metadata": {},
   "outputs": [
    {
     "name": "stdout",
     "output_type": "stream",
     "text": [
      "\n",
      " 1. (A ∪ B) = (B ∪ A): true\n",
      " 2. (A ∩ B) = (B ∩ A): true\n",
      " 3. (A ∪ B) ∪ C) = (A ∪ (B ∪ C)): true\n",
      " 4. (A ∩ B) ∩ C) = (A ∩ (B ∩ C)): true\n",
      " 5. ((A ∪ B) ∩ C) = (A ∩ C) ∪ (B ∩ C): true\n",
      " 6. ((A ∩ B) ∪ C) = (A ∪ C) ∩ (B ∪ C): true\n",
      " 7. (A ∪ Z) = A: true\n",
      " 8. (A ∩ U) = A: true\n",
      " 9. (A ∪ A) = A: true\n",
      "10. (A ∩ U) = A: true"
     ]
    }
   ],
   "source": [
    "A = hll1\n",
    "B = hll2\n",
    "C = hll_3\n",
    "\n",
    "# Defining local empty Set\n",
    "Z = set.HllSet{10}()\n",
    "\n",
    "# Defining local universal Set\n",
    "U = A ∪ B ∪ C\n",
    "\n",
    "print(\"\\n 1. (A ∪ B) = (B ∪ A): \", count(A ∪ B) == count(B ∪ A))\n",
    "print(\"\\n 2. (A ∩ B) = (B ∩ A): \", count(A ∩ B) == count(B ∩ A))\n",
    "print(\"\\n 3. (A ∪ B) ∪ C) = (A ∪ (B ∪ C)): \", count((A ∪ B) ∪ C) == count(A ∪ (B ∪ C)))\n",
    "print(\"\\n 4. (A ∩ B) ∩ C) = (A ∩ (B ∩ C)): \", count((A ∩ B) ∩ C) == count(A ∩ (B ∩ C)))\n",
    "print(\"\\n 5. ((A ∪ B) ∩ C) = (A ∩ C) ∪ (B ∩ C): \", count(((A ∪ B) ∩ C)) == count((A ∩ C) ∪ (B ∩ C)))\n",
    "print(\"\\n 6. ((A ∩ B) ∪ C) = (A ∪ C) ∩ (B ∪ C): \", count(((A ∩ B) ∪ C)) == count((A ∪ C) ∩ (B ∪ C)))\n",
    "print(\"\\n 7. (A ∪ Z) = A: \", count(A ∪ Z) == count(A))\n",
    "print(\"\\n 8. (A ∩ U) = A: \", count(A ∩ U) == count(A))\n",
    "print(\"\\n 9. (A ∪ A) = A: \", count(A ∪ A) == count(A))\n",
    "print(\"\\n10. (A ∩ U) = A: \", count(A ∩ U) == count(A))"
   ]
  }
 ],
 "metadata": {
  "kernelspec": {
   "display_name": "Julia 1.10.4",
   "language": "julia",
   "name": "julia-1.10"
  },
  "language_info": {
   "file_extension": ".jl",
   "mimetype": "application/julia",
   "name": "julia",
   "version": "1.10.4"
  }
 },
 "nbformat": 4,
 "nbformat_minor": 2
}
