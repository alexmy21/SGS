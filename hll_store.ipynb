{
 "cells": [
  {
   "cell_type": "code",
   "execution_count": 1,
   "metadata": {},
   "outputs": [
    {
     "data": {
      "text/plain": [
       "Main.Store"
      ]
     },
     "execution_count": 1,
     "metadata": {},
     "output_type": "execute_result"
    }
   ],
   "source": [
    "include(\"src//hll_store.jl\")"
   ]
  },
  {
   "cell_type": "code",
   "execution_count": 2,
   "metadata": {},
   "outputs": [
    {
     "data": {
      "text/html": [
       "<div><div style = \"float: left;\"><span>32×12 DataFrame</span></div><div style = \"float: right;\"><span style = \"font-style: italic;\">7 rows omitted</span></div><div style = \"clear: both;\"></div></div><div class = \"data-frame\" style = \"overflow-x: scroll;\"><table class = \"data-frame\" style = \"margin-bottom: 6px;\"><thead><tr class = \"header\"><th class = \"rowNumber\" style = \"font-weight: bold; text-align: right;\">Row</th><th style = \"text-align: left;\">model</th><th style = \"text-align: left;\">mpg</th><th style = \"text-align: left;\">cyl</th><th style = \"text-align: left;\">disp</th><th style = \"text-align: left;\">hp</th><th style = \"text-align: left;\">drat</th><th style = \"text-align: left;\">wt</th><th style = \"text-align: left;\">qsec</th><th style = \"text-align: left;\">vs</th><th style = \"text-align: left;\">am</th><th style = \"text-align: left;\">gear</th><th style = \"text-align: left;\">carb</th></tr><tr class = \"subheader headerLastRow\"><th class = \"rowNumber\" style = \"font-weight: bold; text-align: right;\"></th><th title = \"Union{Missing, String}\" style = \"text-align: left;\">String?</th><th title = \"Union{Missing, Float64}\" style = \"text-align: left;\">Float64?</th><th title = \"Union{Missing, Int64}\" style = \"text-align: left;\">Int64?</th><th title = \"Union{Missing, Float64}\" style = \"text-align: left;\">Float64?</th><th title = \"Union{Missing, Int64}\" style = \"text-align: left;\">Int64?</th><th title = \"Union{Missing, Float64}\" style = \"text-align: left;\">Float64?</th><th title = \"Union{Missing, Float64}\" style = \"text-align: left;\">Float64?</th><th title = \"Union{Missing, Float64}\" style = \"text-align: left;\">Float64?</th><th title = \"Union{Missing, Int64}\" style = \"text-align: left;\">Int64?</th><th title = \"Union{Missing, Int64}\" style = \"text-align: left;\">Int64?</th><th title = \"Union{Missing, Int64}\" style = \"text-align: left;\">Int64?</th><th title = \"Union{Missing, Int64}\" style = \"text-align: left;\">Int64?</th></tr></thead><tbody><tr><td class = \"rowNumber\" style = \"font-weight: bold; text-align: right;\">1</td><td style = \"text-align: left;\">Mazda RX4</td><td style = \"text-align: right;\">21.0</td><td style = \"text-align: right;\">6</td><td style = \"text-align: right;\">160.0</td><td style = \"text-align: right;\">110</td><td style = \"text-align: right;\">3.9</td><td style = \"text-align: right;\">2.62</td><td style = \"text-align: right;\">16.46</td><td style = \"text-align: right;\">0</td><td style = \"text-align: right;\">1</td><td style = \"text-align: right;\">4</td><td style = \"text-align: right;\">4</td></tr><tr><td class = \"rowNumber\" style = \"font-weight: bold; text-align: right;\">2</td><td style = \"text-align: left;\">Mazda RX4 Wag</td><td style = \"text-align: right;\">21.0</td><td style = \"text-align: right;\">6</td><td style = \"text-align: right;\">160.0</td><td style = \"text-align: right;\">110</td><td style = \"text-align: right;\">3.9</td><td style = \"text-align: right;\">2.875</td><td style = \"text-align: right;\">17.02</td><td style = \"text-align: right;\">0</td><td style = \"text-align: right;\">1</td><td style = \"text-align: right;\">4</td><td style = \"text-align: right;\">4</td></tr><tr><td class = \"rowNumber\" style = \"font-weight: bold; text-align: right;\">3</td><td style = \"text-align: left;\">Datsun 710</td><td style = \"text-align: right;\">22.8</td><td style = \"text-align: right;\">4</td><td style = \"text-align: right;\">108.0</td><td style = \"text-align: right;\">93</td><td style = \"text-align: right;\">3.85</td><td style = \"text-align: right;\">2.32</td><td style = \"text-align: right;\">18.61</td><td style = \"text-align: right;\">1</td><td style = \"text-align: right;\">1</td><td style = \"text-align: right;\">4</td><td style = \"text-align: right;\">1</td></tr><tr><td class = \"rowNumber\" style = \"font-weight: bold; text-align: right;\">4</td><td style = \"text-align: left;\">Hornet 4 Drive</td><td style = \"text-align: right;\">21.4</td><td style = \"text-align: right;\">6</td><td style = \"text-align: right;\">258.0</td><td style = \"text-align: right;\">110</td><td style = \"text-align: right;\">3.08</td><td style = \"text-align: right;\">3.215</td><td style = \"text-align: right;\">19.44</td><td style = \"text-align: right;\">1</td><td style = \"text-align: right;\">0</td><td style = \"text-align: right;\">3</td><td style = \"text-align: right;\">1</td></tr><tr><td class = \"rowNumber\" style = \"font-weight: bold; text-align: right;\">5</td><td style = \"text-align: left;\">Hornet Sportabout</td><td style = \"text-align: right;\">18.7</td><td style = \"text-align: right;\">8</td><td style = \"text-align: right;\">360.0</td><td style = \"text-align: right;\">175</td><td style = \"text-align: right;\">3.15</td><td style = \"text-align: right;\">3.44</td><td style = \"text-align: right;\">17.02</td><td style = \"text-align: right;\">0</td><td style = \"text-align: right;\">0</td><td style = \"text-align: right;\">3</td><td style = \"text-align: right;\">2</td></tr><tr><td class = \"rowNumber\" style = \"font-weight: bold; text-align: right;\">6</td><td style = \"text-align: left;\">Valiant</td><td style = \"text-align: right;\">18.1</td><td style = \"text-align: right;\">6</td><td style = \"text-align: right;\">225.0</td><td style = \"text-align: right;\">105</td><td style = \"text-align: right;\">2.76</td><td style = \"text-align: right;\">3.46</td><td style = \"text-align: right;\">20.22</td><td style = \"text-align: right;\">1</td><td style = \"text-align: right;\">0</td><td style = \"text-align: right;\">3</td><td style = \"text-align: right;\">1</td></tr><tr><td class = \"rowNumber\" style = \"font-weight: bold; text-align: right;\">7</td><td style = \"text-align: left;\">Duster 360</td><td style = \"text-align: right;\">14.3</td><td style = \"text-align: right;\">8</td><td style = \"text-align: right;\">360.0</td><td style = \"text-align: right;\">245</td><td style = \"text-align: right;\">3.21</td><td style = \"text-align: right;\">3.57</td><td style = \"text-align: right;\">15.84</td><td style = \"text-align: right;\">0</td><td style = \"text-align: right;\">0</td><td style = \"text-align: right;\">3</td><td style = \"text-align: right;\">4</td></tr><tr><td class = \"rowNumber\" style = \"font-weight: bold; text-align: right;\">8</td><td style = \"text-align: left;\">Merc 240D</td><td style = \"text-align: right;\">24.4</td><td style = \"text-align: right;\">4</td><td style = \"text-align: right;\">146.7</td><td style = \"text-align: right;\">62</td><td style = \"text-align: right;\">3.69</td><td style = \"text-align: right;\">3.19</td><td style = \"text-align: right;\">20.0</td><td style = \"text-align: right;\">1</td><td style = \"text-align: right;\">0</td><td style = \"text-align: right;\">4</td><td style = \"text-align: right;\">2</td></tr><tr><td class = \"rowNumber\" style = \"font-weight: bold; text-align: right;\">9</td><td style = \"text-align: left;\">Merc 230</td><td style = \"text-align: right;\">22.8</td><td style = \"text-align: right;\">4</td><td style = \"text-align: right;\">140.8</td><td style = \"text-align: right;\">95</td><td style = \"text-align: right;\">3.92</td><td style = \"text-align: right;\">3.15</td><td style = \"text-align: right;\">22.9</td><td style = \"text-align: right;\">1</td><td style = \"text-align: right;\">0</td><td style = \"text-align: right;\">4</td><td style = \"text-align: right;\">2</td></tr><tr><td class = \"rowNumber\" style = \"font-weight: bold; text-align: right;\">10</td><td style = \"text-align: left;\">Merc 280</td><td style = \"text-align: right;\">19.2</td><td style = \"text-align: right;\">6</td><td style = \"text-align: right;\">167.6</td><td style = \"text-align: right;\">123</td><td style = \"text-align: right;\">3.92</td><td style = \"text-align: right;\">3.44</td><td style = \"text-align: right;\">18.3</td><td style = \"text-align: right;\">1</td><td style = \"text-align: right;\">0</td><td style = \"text-align: right;\">4</td><td style = \"text-align: right;\">4</td></tr><tr><td class = \"rowNumber\" style = \"font-weight: bold; text-align: right;\">11</td><td style = \"text-align: left;\">Merc 280C</td><td style = \"text-align: right;\">17.8</td><td style = \"text-align: right;\">6</td><td style = \"text-align: right;\">167.6</td><td style = \"text-align: right;\">123</td><td style = \"text-align: right;\">3.92</td><td style = \"text-align: right;\">3.44</td><td style = \"text-align: right;\">18.9</td><td style = \"text-align: right;\">1</td><td style = \"text-align: right;\">0</td><td style = \"text-align: right;\">4</td><td style = \"text-align: right;\">4</td></tr><tr><td class = \"rowNumber\" style = \"font-weight: bold; text-align: right;\">12</td><td style = \"text-align: left;\">Merc 450SE</td><td style = \"text-align: right;\">16.4</td><td style = \"text-align: right;\">8</td><td style = \"text-align: right;\">275.8</td><td style = \"text-align: right;\">180</td><td style = \"text-align: right;\">3.07</td><td style = \"text-align: right;\">4.07</td><td style = \"text-align: right;\">17.4</td><td style = \"text-align: right;\">0</td><td style = \"text-align: right;\">0</td><td style = \"text-align: right;\">3</td><td style = \"text-align: right;\">3</td></tr><tr><td class = \"rowNumber\" style = \"font-weight: bold; text-align: right;\">13</td><td style = \"text-align: left;\">Merc 450SL</td><td style = \"text-align: right;\">17.3</td><td style = \"text-align: right;\">8</td><td style = \"text-align: right;\">275.8</td><td style = \"text-align: right;\">180</td><td style = \"text-align: right;\">3.07</td><td style = \"text-align: right;\">3.73</td><td style = \"text-align: right;\">17.6</td><td style = \"text-align: right;\">0</td><td style = \"text-align: right;\">0</td><td style = \"text-align: right;\">3</td><td style = \"text-align: right;\">3</td></tr><tr><td style = \"text-align: right;\">&vellip;</td><td style = \"text-align: right;\">&vellip;</td><td style = \"text-align: right;\">&vellip;</td><td style = \"text-align: right;\">&vellip;</td><td style = \"text-align: right;\">&vellip;</td><td style = \"text-align: right;\">&vellip;</td><td style = \"text-align: right;\">&vellip;</td><td style = \"text-align: right;\">&vellip;</td><td style = \"text-align: right;\">&vellip;</td><td style = \"text-align: right;\">&vellip;</td><td style = \"text-align: right;\">&vellip;</td><td style = \"text-align: right;\">&vellip;</td><td style = \"text-align: right;\">&vellip;</td></tr><tr><td class = \"rowNumber\" style = \"font-weight: bold; text-align: right;\">21</td><td style = \"text-align: left;\">Toyota Corona</td><td style = \"text-align: right;\">21.5</td><td style = \"text-align: right;\">4</td><td style = \"text-align: right;\">120.1</td><td style = \"text-align: right;\">97</td><td style = \"text-align: right;\">3.7</td><td style = \"text-align: right;\">2.465</td><td style = \"text-align: right;\">20.01</td><td style = \"text-align: right;\">1</td><td style = \"text-align: right;\">0</td><td style = \"text-align: right;\">3</td><td style = \"text-align: right;\">1</td></tr><tr><td class = \"rowNumber\" style = \"font-weight: bold; text-align: right;\">22</td><td style = \"text-align: left;\">Dodge Challenger</td><td style = \"text-align: right;\">15.5</td><td style = \"text-align: right;\">8</td><td style = \"text-align: right;\">318.0</td><td style = \"text-align: right;\">150</td><td style = \"text-align: right;\">2.76</td><td style = \"text-align: right;\">3.52</td><td style = \"text-align: right;\">16.87</td><td style = \"text-align: right;\">0</td><td style = \"text-align: right;\">0</td><td style = \"text-align: right;\">3</td><td style = \"text-align: right;\">2</td></tr><tr><td class = \"rowNumber\" style = \"font-weight: bold; text-align: right;\">23</td><td style = \"text-align: left;\">AMC Javelin</td><td style = \"text-align: right;\">15.2</td><td style = \"text-align: right;\">8</td><td style = \"text-align: right;\">304.0</td><td style = \"text-align: right;\">150</td><td style = \"text-align: right;\">3.15</td><td style = \"text-align: right;\">3.435</td><td style = \"text-align: right;\">17.3</td><td style = \"text-align: right;\">0</td><td style = \"text-align: right;\">0</td><td style = \"text-align: right;\">3</td><td style = \"text-align: right;\">2</td></tr><tr><td class = \"rowNumber\" style = \"font-weight: bold; text-align: right;\">24</td><td style = \"text-align: left;\">Camaro Z28</td><td style = \"text-align: right;\">13.3</td><td style = \"text-align: right;\">8</td><td style = \"text-align: right;\">350.0</td><td style = \"text-align: right;\">245</td><td style = \"text-align: right;\">3.73</td><td style = \"text-align: right;\">3.84</td><td style = \"text-align: right;\">15.41</td><td style = \"text-align: right;\">0</td><td style = \"text-align: right;\">0</td><td style = \"text-align: right;\">3</td><td style = \"text-align: right;\">4</td></tr><tr><td class = \"rowNumber\" style = \"font-weight: bold; text-align: right;\">25</td><td style = \"text-align: left;\">Pontiac Firebird</td><td style = \"text-align: right;\">19.2</td><td style = \"text-align: right;\">8</td><td style = \"text-align: right;\">400.0</td><td style = \"text-align: right;\">175</td><td style = \"text-align: right;\">3.08</td><td style = \"text-align: right;\">3.845</td><td style = \"text-align: right;\">17.05</td><td style = \"text-align: right;\">0</td><td style = \"text-align: right;\">0</td><td style = \"text-align: right;\">3</td><td style = \"text-align: right;\">2</td></tr><tr><td class = \"rowNumber\" style = \"font-weight: bold; text-align: right;\">26</td><td style = \"text-align: left;\">Fiat X1-9</td><td style = \"text-align: right;\">27.3</td><td style = \"text-align: right;\">4</td><td style = \"text-align: right;\">79.0</td><td style = \"text-align: right;\">66</td><td style = \"text-align: right;\">4.08</td><td style = \"text-align: right;\">1.935</td><td style = \"text-align: right;\">18.9</td><td style = \"text-align: right;\">1</td><td style = \"text-align: right;\">1</td><td style = \"text-align: right;\">4</td><td style = \"text-align: right;\">1</td></tr><tr><td class = \"rowNumber\" style = \"font-weight: bold; text-align: right;\">27</td><td style = \"text-align: left;\">Porsche 914-2</td><td style = \"text-align: right;\">26.0</td><td style = \"text-align: right;\">4</td><td style = \"text-align: right;\">120.3</td><td style = \"text-align: right;\">91</td><td style = \"text-align: right;\">4.43</td><td style = \"text-align: right;\">2.14</td><td style = \"text-align: right;\">16.7</td><td style = \"text-align: right;\">0</td><td style = \"text-align: right;\">1</td><td style = \"text-align: right;\">5</td><td style = \"text-align: right;\">2</td></tr><tr><td class = \"rowNumber\" style = \"font-weight: bold; text-align: right;\">28</td><td style = \"text-align: left;\">Lotus Europa</td><td style = \"text-align: right;\">30.4</td><td style = \"text-align: right;\">4</td><td style = \"text-align: right;\">95.1</td><td style = \"text-align: right;\">113</td><td style = \"text-align: right;\">3.77</td><td style = \"text-align: right;\">1.513</td><td style = \"text-align: right;\">16.9</td><td style = \"text-align: right;\">1</td><td style = \"text-align: right;\">1</td><td style = \"text-align: right;\">5</td><td style = \"text-align: right;\">2</td></tr><tr><td class = \"rowNumber\" style = \"font-weight: bold; text-align: right;\">29</td><td style = \"text-align: left;\">Ford Pantera L</td><td style = \"text-align: right;\">15.8</td><td style = \"text-align: right;\">8</td><td style = \"text-align: right;\">351.0</td><td style = \"text-align: right;\">264</td><td style = \"text-align: right;\">4.22</td><td style = \"text-align: right;\">3.17</td><td style = \"text-align: right;\">14.5</td><td style = \"text-align: right;\">0</td><td style = \"text-align: right;\">1</td><td style = \"text-align: right;\">5</td><td style = \"text-align: right;\">4</td></tr><tr><td class = \"rowNumber\" style = \"font-weight: bold; text-align: right;\">30</td><td style = \"text-align: left;\">Ferrari Dino</td><td style = \"text-align: right;\">19.7</td><td style = \"text-align: right;\">6</td><td style = \"text-align: right;\">145.0</td><td style = \"text-align: right;\">175</td><td style = \"text-align: right;\">3.62</td><td style = \"text-align: right;\">2.77</td><td style = \"text-align: right;\">15.5</td><td style = \"text-align: right;\">0</td><td style = \"text-align: right;\">1</td><td style = \"text-align: right;\">5</td><td style = \"text-align: right;\">6</td></tr><tr><td class = \"rowNumber\" style = \"font-weight: bold; text-align: right;\">31</td><td style = \"text-align: left;\">Maserati Bora</td><td style = \"text-align: right;\">15.0</td><td style = \"text-align: right;\">8</td><td style = \"text-align: right;\">301.0</td><td style = \"text-align: right;\">335</td><td style = \"text-align: right;\">3.54</td><td style = \"text-align: right;\">3.57</td><td style = \"text-align: right;\">14.6</td><td style = \"text-align: right;\">0</td><td style = \"text-align: right;\">1</td><td style = \"text-align: right;\">5</td><td style = \"text-align: right;\">8</td></tr><tr><td class = \"rowNumber\" style = \"font-weight: bold; text-align: right;\">32</td><td style = \"text-align: left;\">Volvo 142E</td><td style = \"text-align: right;\">21.4</td><td style = \"text-align: right;\">4</td><td style = \"text-align: right;\">121.0</td><td style = \"text-align: right;\">109</td><td style = \"text-align: right;\">4.11</td><td style = \"text-align: right;\">2.78</td><td style = \"text-align: right;\">18.6</td><td style = \"text-align: right;\">1</td><td style = \"text-align: right;\">1</td><td style = \"text-align: right;\">4</td><td style = \"text-align: right;\">2</td></tr></tbody></table></div>"
      ],
      "text/latex": [
       "\\begin{tabular}{r|ccccccccc}\n",
       "\t& model & mpg & cyl & disp & hp & drat & wt & qsec & \\\\\n",
       "\t\\hline\n",
       "\t& String? & Float64? & Int64? & Float64? & Int64? & Float64? & Float64? & Float64? & \\\\\n",
       "\t\\hline\n",
       "\t1 & Mazda RX4 & 21.0 & 6 & 160.0 & 110 & 3.9 & 2.62 & 16.46 & $\\dots$ \\\\\n",
       "\t2 & Mazda RX4 Wag & 21.0 & 6 & 160.0 & 110 & 3.9 & 2.875 & 17.02 & $\\dots$ \\\\\n",
       "\t3 & Datsun 710 & 22.8 & 4 & 108.0 & 93 & 3.85 & 2.32 & 18.61 & $\\dots$ \\\\\n",
       "\t4 & Hornet 4 Drive & 21.4 & 6 & 258.0 & 110 & 3.08 & 3.215 & 19.44 & $\\dots$ \\\\\n",
       "\t5 & Hornet Sportabout & 18.7 & 8 & 360.0 & 175 & 3.15 & 3.44 & 17.02 & $\\dots$ \\\\\n",
       "\t6 & Valiant & 18.1 & 6 & 225.0 & 105 & 2.76 & 3.46 & 20.22 & $\\dots$ \\\\\n",
       "\t7 & Duster 360 & 14.3 & 8 & 360.0 & 245 & 3.21 & 3.57 & 15.84 & $\\dots$ \\\\\n",
       "\t8 & Merc 240D & 24.4 & 4 & 146.7 & 62 & 3.69 & 3.19 & 20.0 & $\\dots$ \\\\\n",
       "\t9 & Merc 230 & 22.8 & 4 & 140.8 & 95 & 3.92 & 3.15 & 22.9 & $\\dots$ \\\\\n",
       "\t10 & Merc 280 & 19.2 & 6 & 167.6 & 123 & 3.92 & 3.44 & 18.3 & $\\dots$ \\\\\n",
       "\t11 & Merc 280C & 17.8 & 6 & 167.6 & 123 & 3.92 & 3.44 & 18.9 & $\\dots$ \\\\\n",
       "\t12 & Merc 450SE & 16.4 & 8 & 275.8 & 180 & 3.07 & 4.07 & 17.4 & $\\dots$ \\\\\n",
       "\t13 & Merc 450SL & 17.3 & 8 & 275.8 & 180 & 3.07 & 3.73 & 17.6 & $\\dots$ \\\\\n",
       "\t14 & Merc 450SLC & 15.2 & 8 & 275.8 & 180 & 3.07 & 3.78 & 18.0 & $\\dots$ \\\\\n",
       "\t15 & Cadillac Fleetwood & 10.4 & 8 & 472.0 & 205 & 2.93 & 5.25 & 17.98 & $\\dots$ \\\\\n",
       "\t16 & Lincoln Continental & 10.4 & 8 & 460.0 & 215 & 3.0 & 5.424 & 17.82 & $\\dots$ \\\\\n",
       "\t17 & Chrysler Imperial & 14.7 & 8 & 440.0 & 230 & 3.23 & 5.345 & 17.42 & $\\dots$ \\\\\n",
       "\t18 & Fiat 128 & 32.4 & 4 & 78.7 & 66 & 4.08 & 2.2 & 19.47 & $\\dots$ \\\\\n",
       "\t19 & Honda Civic & 30.4 & 4 & 75.7 & 52 & 4.93 & 1.615 & 18.52 & $\\dots$ \\\\\n",
       "\t20 & Toyota Corolla & 33.9 & 4 & 71.1 & 65 & 4.22 & 1.835 & 19.9 & $\\dots$ \\\\\n",
       "\t21 & Toyota Corona & 21.5 & 4 & 120.1 & 97 & 3.7 & 2.465 & 20.01 & $\\dots$ \\\\\n",
       "\t22 & Dodge Challenger & 15.5 & 8 & 318.0 & 150 & 2.76 & 3.52 & 16.87 & $\\dots$ \\\\\n",
       "\t23 & AMC Javelin & 15.2 & 8 & 304.0 & 150 & 3.15 & 3.435 & 17.3 & $\\dots$ \\\\\n",
       "\t24 & Camaro Z28 & 13.3 & 8 & 350.0 & 245 & 3.73 & 3.84 & 15.41 & $\\dots$ \\\\\n",
       "\t25 & Pontiac Firebird & 19.2 & 8 & 400.0 & 175 & 3.08 & 3.845 & 17.05 & $\\dots$ \\\\\n",
       "\t26 & Fiat X1-9 & 27.3 & 4 & 79.0 & 66 & 4.08 & 1.935 & 18.9 & $\\dots$ \\\\\n",
       "\t27 & Porsche 914-2 & 26.0 & 4 & 120.3 & 91 & 4.43 & 2.14 & 16.7 & $\\dots$ \\\\\n",
       "\t28 & Lotus Europa & 30.4 & 4 & 95.1 & 113 & 3.77 & 1.513 & 16.9 & $\\dots$ \\\\\n",
       "\t29 & Ford Pantera L & 15.8 & 8 & 351.0 & 264 & 4.22 & 3.17 & 14.5 & $\\dots$ \\\\\n",
       "\t30 & Ferrari Dino & 19.7 & 6 & 145.0 & 175 & 3.62 & 2.77 & 15.5 & $\\dots$ \\\\\n",
       "\t$\\dots$ & $\\dots$ & $\\dots$ & $\\dots$ & $\\dots$ & $\\dots$ & $\\dots$ & $\\dots$ & $\\dots$ &  \\\\\n",
       "\\end{tabular}\n"
      ],
      "text/plain": [
       "\u001b[1m32×12 DataFrame\u001b[0m\n",
       "\u001b[1m Row \u001b[0m│\u001b[1m model             \u001b[0m\u001b[1m mpg      \u001b[0m\u001b[1m cyl    \u001b[0m\u001b[1m disp     \u001b[0m\u001b[1m hp     \u001b[0m\u001b[1m drat     \u001b[0m\u001b[1m wt    \u001b[0m ⋯\n",
       "     │\u001b[90m String?           \u001b[0m\u001b[90m Float64? \u001b[0m\u001b[90m Int64? \u001b[0m\u001b[90m Float64? \u001b[0m\u001b[90m Int64? \u001b[0m\u001b[90m Float64? \u001b[0m\u001b[90m Float6\u001b[0m ⋯\n",
       "─────┼──────────────────────────────────────────────────────────────────────────\n",
       "   1 │ Mazda RX4              21.0       6     160.0     110      3.9      2.6 ⋯\n",
       "   2 │ Mazda RX4 Wag          21.0       6     160.0     110      3.9      2.8\n",
       "   3 │ Datsun 710             22.8       4     108.0      93      3.85     2.3\n",
       "   4 │ Hornet 4 Drive         21.4       6     258.0     110      3.08     3.2\n",
       "   5 │ Hornet Sportabout      18.7       8     360.0     175      3.15     3.4 ⋯\n",
       "   6 │ Valiant                18.1       6     225.0     105      2.76     3.4\n",
       "   7 │ Duster 360             14.3       8     360.0     245      3.21     3.5\n",
       "   8 │ Merc 240D              24.4       4     146.7      62      3.69     3.1\n",
       "   9 │ Merc 230               22.8       4     140.8      95      3.92     3.1 ⋯\n",
       "  10 │ Merc 280               19.2       6     167.6     123      3.92     3.4\n",
       "  11 │ Merc 280C              17.8       6     167.6     123      3.92     3.4\n",
       "  ⋮  │         ⋮             ⋮        ⋮        ⋮        ⋮        ⋮         ⋮   ⋱\n",
       "  23 │ AMC Javelin            15.2       8     304.0     150      3.15     3.4\n",
       "  24 │ Camaro Z28             13.3       8     350.0     245      3.73     3.8 ⋯\n",
       "  25 │ Pontiac Firebird       19.2       8     400.0     175      3.08     3.8\n",
       "  26 │ Fiat X1-9              27.3       4      79.0      66      4.08     1.9\n",
       "  27 │ Porsche 914-2          26.0       4     120.3      91      4.43     2.1\n",
       "  28 │ Lotus Europa           30.4       4      95.1     113      3.77     1.5 ⋯\n",
       "  29 │ Ford Pantera L         15.8       8     351.0     264      4.22     3.1\n",
       "  30 │ Ferrari Dino           19.7       6     145.0     175      3.62     2.7\n",
       "  31 │ Maserati Bora          15.0       8     301.0     335      3.54     3.5\n",
       "  32 │ Volvo 142E             21.4       4     121.0     109      4.11     2.7 ⋯\n",
       "\u001b[36m                                                   6 columns and 11 rows omitted\u001b[0m"
      ]
     },
     "execution_count": 2,
     "metadata": {},
     "output_type": "execute_result"
    }
   ],
   "source": [
    "using TidierData\n",
    "using TidierDB \n",
    "using DataFrames\n",
    "using CSV\n",
    "# using HTTP\n",
    "using ..Util \n",
    "\n",
    "db = TidierDB.connect(:duckdb);\n",
    "path = \"https://gist.githubusercontent.com/seankross/a412dfbd88b3db70b74b/raw/5f23f993cd87c283ce766e7ac6b329ee7cc2e1d1/mtcars.csv\"\n",
    "copy_to(db, path, \"mtcars\");\n",
    "\n",
    "TidierDB.@chain db_table(db, :mtcars) begin\n",
    "    TidierDB.@filter(!starts_with(model, \"M\"))\n",
    "    TidierDB.@group_by(cyl)\n",
    "    TidierDB.@summarize(mpg = mean(mpg))\n",
    "    TidierDB.@mutate(mpg_squared = mpg^2, \n",
    "               mpg_rounded = round(mpg), \n",
    "               mpg_efficiency = case_when(\n",
    "                                 mpg >= cyl^2 , \"efficient\",\n",
    "                                 mpg < 15.2 , \"inefficient\",\n",
    "                                 \"moderate\"))            \n",
    "    TidierDB.@filter(mpg_efficiency in (\"moderate\", \"efficient\"))\n",
    "    TidierDB.@arrange(desc(mpg_rounded))\n",
    "    TidierDB.@collect\n",
    "end\n",
    "\n",
    "TidierDB.@chain db_table(db, :mtcars) begin\n",
    "    # @distinct(Games)\n",
    "    # @count\n",
    "    @collect\n",
    "end"
   ]
  },
  {
   "cell_type": "code",
   "execution_count": 3,
   "metadata": {},
   "outputs": [
    {
     "data": {
      "text/plain": [
       "DuckDB.Connection"
      ]
     },
     "execution_count": 3,
     "metadata": {},
     "output_type": "execute_result"
    }
   ],
   "source": [
    "typeof(db)"
   ]
  },
  {
   "cell_type": "code",
   "execution_count": 4,
   "metadata": {},
   "outputs": [
    {
     "data": {
      "text/html": [
       "<div><div style = \"float: left;\"><span>1×4 DataFrame</span></div><div style = \"clear: both;\"></div></div><div class = \"data-frame\" style = \"overflow-x: scroll;\"><table class = \"data-frame\" style = \"margin-bottom: 6px;\"><thead><tr class = \"header\"><th class = \"rowNumber\" style = \"font-weight: bold; text-align: right;\">Row</th><th style = \"text-align: left;\">source</th><th style = \"text-align: left;\">target</th><th style = \"text-align: left;\">r_type</th><th style = \"text-align: left;\">props</th></tr><tr class = \"subheader headerLastRow\"><th class = \"rowNumber\" style = \"font-weight: bold; text-align: right;\"></th><th title = \"String\" style = \"text-align: left;\">String</th><th title = \"String\" style = \"text-align: left;\">String</th><th title = \"String\" style = \"text-align: left;\">String</th><th title = \"String\" style = \"text-align: left;\">String</th></tr></thead><tbody><tr><td class = \"rowNumber\" style = \"font-weight: bold; text-align: right;\">1</td><td style = \"text-align: left;\">&quot;file.id&quot;</td><td style = \"text-align: left;\">&quot;assign.id&quot;</td><td style = \"text-align: left;\">&quot;has_column&quot;</td><td style = \"text-align: left;\">{&quot;source&quot;:&quot;file.item&quot;,&quot;target&quot;:&quot;assign.item&quot;,&quot;source_label&quot;:&quot;csv_file&quot;,&quot;target_label&quot;:&quot;csv_column&quot;}</td></tr></tbody></table></div>"
      ],
      "text/latex": [
       "\\begin{tabular}{r|cccc}\n",
       "\t& source & target & r\\_type & props\\\\\n",
       "\t\\hline\n",
       "\t& String & String & String & String\\\\\n",
       "\t\\hline\n",
       "\t1 & \"file.id\" & \"assign.id\" & \"has\\_column\" & \\{\"source\":\"file.item\",\"target\":\"assign.item\",\"source\\_label\":\"csv\\_file\",\"target\\_label\":\"csv\\_column\"\\} \\\\\n",
       "\\end{tabular}\n"
      ],
      "text/plain": [
       "\u001b[1m1×4 DataFrame\u001b[0m\n",
       "\u001b[1m Row \u001b[0m│\u001b[1m source    \u001b[0m\u001b[1m target      \u001b[0m\u001b[1m r_type       \u001b[0m\u001b[1m props                            \u001b[0m ⋯\n",
       "     │\u001b[90m String    \u001b[0m\u001b[90m String      \u001b[0m\u001b[90m String       \u001b[0m\u001b[90m String                           \u001b[0m ⋯\n",
       "─────┼──────────────────────────────────────────────────────────────────────────\n",
       "   1 │ \"file.id\"  \"assign.id\"  \"has_column\"  {\"source\":\"file.item\",\"target\":\"… ⋯"
      ]
     },
     "execution_count": 4,
     "metadata": {},
     "output_type": "execute_result"
    }
   ],
   "source": [
    "using EasyConfig\n",
    "\n",
    "edge_props = Config()\n",
    "edge_props[\"source\"] = \"file.item\"\n",
    "edge_props[\"target\"] = \"assign.item\"\n",
    "edge_props[\"source_label\"] = \"csv_file\"\n",
    "edge_props[\"target_label\"] = \"csv_column\"\n",
    "edge = Graph.Edge(\"file.id\", \"assign.id\", \"has_column\", edge_props)\n",
    "\n",
    "df = struct_to_df(edge)"
   ]
  },
  {
   "cell_type": "code",
   "execution_count": 5,
   "metadata": {},
   "outputs": [
    {
     "data": {
      "text/html": [
       "<div><div style = \"float: left;\"><span>2×13 DataFrame</span></div><div style = \"clear: both;\"></div></div><div class = \"data-frame\" style = \"overflow-x: scroll;\"><table class = \"data-frame\" style = \"margin-bottom: 6px;\"><thead><tr class = \"header\"><th class = \"rowNumber\" style = \"font-weight: bold; text-align: right;\">Row</th><th style = \"text-align: left;\">table_catalog</th><th style = \"text-align: left;\">table_schema</th><th style = \"text-align: left;\">table_name</th><th style = \"text-align: left;\">table_type</th><th style = \"text-align: left;\">self_referencing_column_name</th><th style = \"text-align: left;\">reference_generation</th><th style = \"text-align: left;\">user_defined_type_catalog</th><th style = \"text-align: left;\">user_defined_type_schema</th><th style = \"text-align: left;\">user_defined_type_name</th><th style = \"text-align: left;\">is_insertable_into</th><th style = \"text-align: left;\">is_typed</th><th style = \"text-align: left;\">commit_action</th><th style = \"text-align: left;\">TABLE_COMMENT</th></tr><tr class = \"subheader headerLastRow\"><th class = \"rowNumber\" style = \"font-weight: bold; text-align: right;\"></th><th title = \"Union{Missing, String}\" style = \"text-align: left;\">String?</th><th title = \"Union{Missing, String}\" style = \"text-align: left;\">String?</th><th title = \"Union{Missing, String}\" style = \"text-align: left;\">String?</th><th title = \"Union{Missing, String}\" style = \"text-align: left;\">String?</th><th title = \"Union{Missing, String}\" style = \"text-align: left;\">String?</th><th title = \"Union{Missing, String}\" style = \"text-align: left;\">String?</th><th title = \"Union{Missing, String}\" style = \"text-align: left;\">String?</th><th title = \"Union{Missing, String}\" style = \"text-align: left;\">String?</th><th title = \"Union{Missing, String}\" style = \"text-align: left;\">String?</th><th title = \"Union{Missing, String}\" style = \"text-align: left;\">String?</th><th title = \"Union{Missing, String}\" style = \"text-align: left;\">String?</th><th title = \"Union{Missing, String}\" style = \"text-align: left;\">String?</th><th title = \"Union{Missing, String}\" style = \"text-align: left;\">String?</th></tr></thead><tbody><tr><td class = \"rowNumber\" style = \"font-weight: bold; text-align: right;\">1</td><td style = \"text-align: left;\">memory</td><td style = \"text-align: left;\">main</td><td style = \"text-align: left;\">mtcars</td><td style = \"text-align: left;\">BASE TABLE</td><td style = \"font-style: italic; text-align: left;\">missing</td><td style = \"font-style: italic; text-align: left;\">missing</td><td style = \"font-style: italic; text-align: left;\">missing</td><td style = \"font-style: italic; text-align: left;\">missing</td><td style = \"font-style: italic; text-align: left;\">missing</td><td style = \"text-align: left;\">YES</td><td style = \"text-align: left;\">NO</td><td style = \"font-style: italic; text-align: left;\">missing</td><td style = \"font-style: italic; text-align: left;\">missing</td></tr><tr><td class = \"rowNumber\" style = \"font-weight: bold; text-align: right;\">2</td><td style = \"text-align: left;\">memory</td><td style = \"text-align: left;\">main</td><td style = \"text-align: left;\">edges</td><td style = \"text-align: left;\">VIEW</td><td style = \"font-style: italic; text-align: left;\">missing</td><td style = \"font-style: italic; text-align: left;\">missing</td><td style = \"font-style: italic; text-align: left;\">missing</td><td style = \"font-style: italic; text-align: left;\">missing</td><td style = \"font-style: italic; text-align: left;\">missing</td><td style = \"text-align: left;\">NO</td><td style = \"text-align: left;\">NO</td><td style = \"font-style: italic; text-align: left;\">missing</td><td style = \"font-style: italic; text-align: left;\">missing</td></tr></tbody></table></div>"
      ],
      "text/latex": [
       "\\begin{tabular}{r|cccccc}\n",
       "\t& table\\_catalog & table\\_schema & table\\_name & table\\_type & self\\_referencing\\_column\\_name & \\\\\n",
       "\t\\hline\n",
       "\t& String? & String? & String? & String? & String? & \\\\\n",
       "\t\\hline\n",
       "\t1 & memory & main & mtcars & BASE TABLE & \\emph{missing} & $\\dots$ \\\\\n",
       "\t2 & memory & main & edges & VIEW & \\emph{missing} & $\\dots$ \\\\\n",
       "\\end{tabular}\n"
      ],
      "text/plain": [
       "\u001b[1m2×13 DataFrame\u001b[0m\n",
       "\u001b[1m Row \u001b[0m│\u001b[1m table_catalog \u001b[0m\u001b[1m table_schema \u001b[0m\u001b[1m table_name \u001b[0m\u001b[1m table_type \u001b[0m\u001b[1m self_referencing_c\u001b[0m ⋯\n",
       "     │\u001b[90m String?       \u001b[0m\u001b[90m String?      \u001b[0m\u001b[90m String?    \u001b[0m\u001b[90m String?    \u001b[0m\u001b[90m String?           \u001b[0m ⋯\n",
       "─────┼──────────────────────────────────────────────────────────────────────────\n",
       "   1 │ memory         main          mtcars      BASE TABLE \u001b[90m missing           \u001b[0m ⋯\n",
       "   2 │ memory         main          edges       VIEW       \u001b[90m missing           \u001b[0m\n",
       "\u001b[36m                                                               9 columns omitted\u001b[0m"
      ]
     },
     "execution_count": 5,
     "metadata": {},
     "output_type": "execute_result"
    }
   ],
   "source": [
    "Graph.add_edge(db, edge)\n",
    "\n",
    "@chain db_table(db, Symbol(\"information_schema.tables\")) begin\n",
    "    @collect\n",
    "end"
   ]
  },
  {
   "cell_type": "code",
   "execution_count": 6,
   "metadata": {},
   "outputs": [
    {
     "data": {
      "text/html": [
       "<div><div style = \"float: left;\"><span>10×2 DataFrame</span></div><div style = \"clear: both;\"></div></div><div class = \"data-frame\" style = \"overflow-x: scroll;\"><table class = \"data-frame\" style = \"margin-bottom: 6px;\"><thead><tr class = \"header\"><th class = \"rowNumber\" style = \"font-weight: bold; text-align: right;\">Row</th><th style = \"text-align: left;\">variable</th><th style = \"text-align: left;\">value</th></tr><tr class = \"subheader headerLastRow\"><th class = \"rowNumber\" style = \"font-weight: bold; text-align: right;\"></th><th title = \"String\" style = \"text-align: left;\">String</th><th title = \"Any\" style = \"text-align: left;\">Any</th></tr></thead><tbody><tr><td class = \"rowNumber\" style = \"font-weight: bold; text-align: right;\">1</td><td style = \"text-align: left;\">cyl</td><td style = \"text-align: left;\">4</td></tr><tr><td class = \"rowNumber\" style = \"font-weight: bold; text-align: right;\">2</td><td style = \"text-align: left;\">cyl</td><td style = \"text-align: left;\">6</td></tr><tr><td class = \"rowNumber\" style = \"font-weight: bold; text-align: right;\">3</td><td style = \"text-align: left;\">mpg</td><td style = \"text-align: left;\">27.3444</td></tr><tr><td class = \"rowNumber\" style = \"font-weight: bold; text-align: right;\">4</td><td style = \"text-align: left;\">mpg</td><td style = \"text-align: left;\">19.7333</td></tr><tr><td class = \"rowNumber\" style = \"font-weight: bold; text-align: right;\">5</td><td style = \"text-align: left;\">mpg_squared</td><td style = \"text-align: left;\">747.719</td></tr><tr><td class = \"rowNumber\" style = \"font-weight: bold; text-align: right;\">6</td><td style = \"text-align: left;\">mpg_squared</td><td style = \"text-align: left;\">389.404</td></tr><tr><td class = \"rowNumber\" style = \"font-weight: bold; text-align: right;\">7</td><td style = \"text-align: left;\">mpg_rounded</td><td style = \"text-align: left;\">27.0</td></tr><tr><td class = \"rowNumber\" style = \"font-weight: bold; text-align: right;\">8</td><td style = \"text-align: left;\">mpg_rounded</td><td style = \"text-align: left;\">20.0</td></tr><tr><td class = \"rowNumber\" style = \"font-weight: bold; text-align: right;\">9</td><td style = \"text-align: left;\">mpg_efficiency</td><td style = \"text-align: left;\">efficient</td></tr><tr><td class = \"rowNumber\" style = \"font-weight: bold; text-align: right;\">10</td><td style = \"text-align: left;\">mpg_efficiency</td><td style = \"text-align: left;\">moderate</td></tr></tbody></table></div>"
      ],
      "text/latex": [
       "\\begin{tabular}{r|cc}\n",
       "\t& variable & value\\\\\n",
       "\t\\hline\n",
       "\t& String & Any\\\\\n",
       "\t\\hline\n",
       "\t1 & cyl & 4 \\\\\n",
       "\t2 & cyl & 6 \\\\\n",
       "\t3 & mpg & 27.3444 \\\\\n",
       "\t4 & mpg & 19.7333 \\\\\n",
       "\t5 & mpg\\_squared & 747.719 \\\\\n",
       "\t6 & mpg\\_squared & 389.404 \\\\\n",
       "\t7 & mpg\\_rounded & 27.0 \\\\\n",
       "\t8 & mpg\\_rounded & 20.0 \\\\\n",
       "\t9 & mpg\\_efficiency & efficient \\\\\n",
       "\t10 & mpg\\_efficiency & moderate \\\\\n",
       "\\end{tabular}\n"
      ],
      "text/plain": [
       "\u001b[1m10×2 DataFrame\u001b[0m\n",
       "\u001b[1m Row \u001b[0m│\u001b[1m variable       \u001b[0m\u001b[1m value     \u001b[0m\n",
       "     │\u001b[90m String         \u001b[0m\u001b[90m Any       \u001b[0m\n",
       "─────┼───────────────────────────\n",
       "   1 │ cyl             4\n",
       "   2 │ cyl             6\n",
       "   3 │ mpg             27.3444\n",
       "   4 │ mpg             19.7333\n",
       "   5 │ mpg_squared     747.719\n",
       "   6 │ mpg_squared     389.404\n",
       "   7 │ mpg_rounded     27.0\n",
       "   8 │ mpg_rounded     20.0\n",
       "   9 │ mpg_efficiency  efficient\n",
       "  10 │ mpg_efficiency  moderate"
      ]
     },
     "execution_count": 6,
     "metadata": {},
     "output_type": "execute_result"
    }
   ],
   "source": [
    "@chain db_table(db, :mtcars) begin\n",
    "    TidierDB.@filter(!starts_with(model, \"M\"))\n",
    "    TidierDB.@group_by(cyl)\n",
    "    TidierDB.@summarize(mpg = mean(mpg))\n",
    "    TidierDB.@mutate(mpg_squared = mpg^2, \n",
    "               mpg_rounded = round(mpg), \n",
    "               mpg_efficiency = case_when(\n",
    "                                 mpg >= cyl^2 , \"efficient\",\n",
    "                                 mpg < 15.2 , \"inefficient\",\n",
    "                                 \"moderate\"))            \n",
    "    TidierDB.@filter(mpg_efficiency in (\"moderate\", \"efficient\"))\n",
    "    TidierDB.@arrange(desc(mpg_rounded))\n",
    "    TidierDB.@collect\n",
    "    TidierData.@pivot_longer(everything(), names_to = \"variable\", values_to = \"value\")\n",
    "end"
   ]
  },
  {
   "cell_type": "code",
   "execution_count": 7,
   "metadata": {},
   "outputs": [
    {
     "name": "stdout",
     "output_type": "stream",
     "text": [
      "WITH cte_1 AS (\n",
      "SELECT *\n",
      "\tFROM mtcars\n",
      "\tWHERE NOT (starts_with(model, 'M'))),\n",
      "cte_2 AS (\n",
      "SELECT cyl, AVG(mpg) AS mpg\n",
      "\tFROM cte_1\n",
      "\tGROUP BY cyl),\n",
      "cte_3 AS (\n",
      "SELECT  cyl, mpg, POWER(mpg, 2) AS mpg_squared, ROUND(mpg) AS mpg_rounded, CASE WHEN mpg >= POWER(cyl, 2) THEN 'efficient' WHEN mpg < 15.2 THEN 'inefficient' ELSE 'moderate' END AS mpg_efficiency\n",
      "\tFROM cte_2 ),\n",
      "cte_4 AS (\n",
      "SELECT *\n",
      "\tFROM cte_3\n",
      "\tWHERE mpg_efficiency in ('moderate', 'efficient'))  \n",
      "SELECT *\n",
      "\tFROM cte_4  \n",
      "\tORDER BY mpg_rounded DESC\n"
     ]
    }
   ],
   "source": [
    "@chain db_table(db, :mtcars) begin\n",
    "    TidierDB.@filter(!starts_with(model, \"M\"))\n",
    "    TidierDB.@group_by(cyl)\n",
    "    TidierDB.@summarize(mpg = mean(mpg))\n",
    "    TidierDB.@mutate(mpg_squared = mpg^2, \n",
    "               mpg_rounded = round(mpg), \n",
    "               mpg_efficiency = case_when(\n",
    "                                 mpg >= cyl^2 , \"efficient\",\n",
    "                                 mpg < 15.2 , \"inefficient\",\n",
    "                                 \"moderate\"))            \n",
    "    TidierDB.@filter(mpg_efficiency in (\"moderate\", \"efficient\"))\n",
    "    TidierDB.@arrange(desc(mpg_rounded))\n",
    "    TidierDB.@show_query\n",
    "end"
   ]
  },
  {
   "cell_type": "code",
   "execution_count": 8,
   "metadata": {},
   "outputs": [
    {
     "data": {
      "text/html": [
       "<div><div style = \"float: left;\"><span>3×5 DataFrame</span></div><div style = \"clear: both;\"></div></div><div class = \"data-frame\" style = \"overflow-x: scroll;\"><table class = \"data-frame\" style = \"margin-bottom: 6px;\"><thead><tr class = \"header\"><th class = \"rowNumber\" style = \"font-weight: bold; text-align: right;\">Row</th><th style = \"text-align: left;\">cyl</th><th style = \"text-align: left;\">mean_am</th><th style = \"text-align: left;\">mean_vs</th><th style = \"text-align: left;\">sum_am</th><th style = \"text-align: left;\">sum_vs</th></tr><tr class = \"subheader headerLastRow\"><th class = \"rowNumber\" style = \"font-weight: bold; text-align: right;\"></th><th title = \"Union{Missing, Int64}\" style = \"text-align: left;\">Int64?</th><th title = \"Union{Missing, Float64}\" style = \"text-align: left;\">Float64?</th><th title = \"Union{Missing, Float64}\" style = \"text-align: left;\">Float64?</th><th title = \"Union{Missing, Int128}\" style = \"text-align: left;\">Int128?</th><th title = \"Union{Missing, Int128}\" style = \"text-align: left;\">Int128?</th></tr></thead><tbody><tr><td class = \"rowNumber\" style = \"font-weight: bold; text-align: right;\">1</td><td style = \"text-align: right;\">4</td><td style = \"text-align: right;\">0.727273</td><td style = \"text-align: right;\">0.909091</td><td style = \"text-align: right;\">8</td><td style = \"text-align: right;\">10</td></tr><tr><td class = \"rowNumber\" style = \"font-weight: bold; text-align: right;\">2</td><td style = \"text-align: right;\">6</td><td style = \"text-align: right;\">0.428571</td><td style = \"text-align: right;\">0.571429</td><td style = \"text-align: right;\">3</td><td style = \"text-align: right;\">4</td></tr><tr><td class = \"rowNumber\" style = \"font-weight: bold; text-align: right;\">3</td><td style = \"text-align: right;\">8</td><td style = \"text-align: right;\">0.142857</td><td style = \"text-align: right;\">0.0</td><td style = \"text-align: right;\">2</td><td style = \"text-align: right;\">0</td></tr></tbody></table></div>"
      ],
      "text/latex": [
       "\\begin{tabular}{r|ccccc}\n",
       "\t& cyl & mean\\_am & mean\\_vs & sum\\_am & sum\\_vs\\\\\n",
       "\t\\hline\n",
       "\t& Int64? & Float64? & Float64? & Int128? & Int128?\\\\\n",
       "\t\\hline\n",
       "\t1 & 4 & 0.727273 & 0.909091 & 8 & 10 \\\\\n",
       "\t2 & 6 & 0.428571 & 0.571429 & 3 & 4 \\\\\n",
       "\t3 & 8 & 0.142857 & 0.0 & 2 & 0 \\\\\n",
       "\\end{tabular}\n"
      ],
      "text/plain": [
       "\u001b[1m3×5 DataFrame\u001b[0m\n",
       "\u001b[1m Row \u001b[0m│\u001b[1m cyl    \u001b[0m\u001b[1m mean_am  \u001b[0m\u001b[1m mean_vs  \u001b[0m\u001b[1m sum_am  \u001b[0m\u001b[1m sum_vs  \u001b[0m\n",
       "     │\u001b[90m Int64? \u001b[0m\u001b[90m Float64? \u001b[0m\u001b[90m Float64? \u001b[0m\u001b[90m Int128? \u001b[0m\u001b[90m Int128? \u001b[0m\n",
       "─────┼──────────────────────────────────────────────\n",
       "   1 │      4  0.727273  0.909091        8       10\n",
       "   2 │      6  0.428571  0.571429        3        4\n",
       "   3 │      8  0.142857  0.0             2        0"
      ]
     },
     "execution_count": 8,
     "metadata": {},
     "output_type": "execute_result"
    }
   ],
   "source": [
    "@chain db_table(db, :mtcars) begin\n",
    "    TidierDB.@group_by(cyl)\n",
    "    TidierDB.@summarize(across((starts_with(\"a\"), ends_with(\"s\")), (mean, sum)))\n",
    "    TidierDB.@collect\n",
    "end"
   ]
  },
  {
   "cell_type": "code",
   "execution_count": 9,
   "metadata": {},
   "outputs": [
    {
     "data": {
      "text/html": [
       "<div><div style = \"float: left;\"><span>5×2 DataFrame</span></div><div style = \"clear: both;\"></div></div><div class = \"data-frame\" style = \"overflow-x: scroll;\"><table class = \"data-frame\" style = \"margin-bottom: 6px;\"><thead><tr class = \"header\"><th class = \"rowNumber\" style = \"font-weight: bold; text-align: right;\">Row</th><th style = \"text-align: left;\">Title</th><th style = \"text-align: left;\">Budget</th></tr><tr class = \"subheader headerLastRow\"><th class = \"rowNumber\" style = \"font-weight: bold; text-align: right;\"></th><th title = \"String\" style = \"text-align: left;\">String</th><th title = \"Union{Missing, Float64}\" style = \"text-align: left;\">Float64?</th></tr></thead><tbody><tr><td class = \"rowNumber\" style = \"font-weight: bold; text-align: right;\">1</td><td style = \"text-align: left;\">&apos;Til There Was You</td><td style = \"text-align: right;\">23.0</td></tr><tr><td class = \"rowNumber\" style = \"font-weight: bold; text-align: right;\">2</td><td style = \"text-align: left;\">10 Things I Hate About You</td><td style = \"text-align: right;\">16.0</td></tr><tr><td class = \"rowNumber\" style = \"font-weight: bold; text-align: right;\">3</td><td style = \"text-align: left;\">102 Dalmatians</td><td style = \"text-align: right;\">85.0</td></tr><tr><td class = \"rowNumber\" style = \"font-weight: bold; text-align: right;\">4</td><td style = \"text-align: left;\">13 Going On 30</td><td style = \"text-align: right;\">37.0</td></tr><tr><td class = \"rowNumber\" style = \"font-weight: bold; text-align: right;\">5</td><td style = \"text-align: left;\">13th Warrior, The</td><td style = \"text-align: right;\">85.0</td></tr></tbody></table></div>"
      ],
      "text/latex": [
       "\\begin{tabular}{r|cc}\n",
       "\t& Title & Budget\\\\\n",
       "\t\\hline\n",
       "\t& String & Float64?\\\\\n",
       "\t\\hline\n",
       "\t1 & 'Til There Was You & 23.0 \\\\\n",
       "\t2 & 10 Things I Hate About You & 16.0 \\\\\n",
       "\t3 & 102 Dalmatians & 85.0 \\\\\n",
       "\t4 & 13 Going On 30 & 37.0 \\\\\n",
       "\t5 & 13th Warrior, The & 85.0 \\\\\n",
       "\\end{tabular}\n"
      ],
      "text/plain": [
       "\u001b[1m5×2 DataFrame\u001b[0m\n",
       "\u001b[1m Row \u001b[0m│\u001b[1m Title                      \u001b[0m\u001b[1m Budget   \u001b[0m\n",
       "     │\u001b[90m String                     \u001b[0m\u001b[90m Float64? \u001b[0m\n",
       "─────┼──────────────────────────────────────\n",
       "   1 │ 'Til There Was You              23.0\n",
       "   2 │ 10 Things I Hate About You      16.0\n",
       "   3 │ 102 Dalmatians                  85.0\n",
       "   4 │ 13 Going On 30                  37.0\n",
       "   5 │ 13th Warrior, The               85.0"
      ]
     },
     "execution_count": 9,
     "metadata": {},
     "output_type": "execute_result"
    }
   ],
   "source": [
    "using RDatasets\n",
    "using TidierDB\n",
    "using TidierData\n",
    "\n",
    "movies = dataset(\"ggplot2\", \"movies\");\n",
    "\n",
    "@chain movies begin\n",
    "    TidierData.@mutate(Budget = Budget / 1_000_000)\n",
    "    TidierData.@filter(Budget >= mean(skipmissing(Budget)))\n",
    "    TidierData.@select(Title, Budget)\n",
    "    @slice(1:5)\n",
    "end"
   ]
  },
  {
   "cell_type": "code",
   "execution_count": 10,
   "metadata": {},
   "outputs": [
    {
     "data": {
      "text/html": [
       "<div><div style = \"float: left;\"><span>5×24 DataFrame</span></div><div style = \"clear: both;\"></div></div><div class = \"data-frame\" style = \"overflow-x: scroll;\"><table class = \"data-frame\" style = \"margin-bottom: 6px;\"><thead><tr class = \"header\"><th class = \"rowNumber\" style = \"font-weight: bold; text-align: right;\">Row</th><th style = \"text-align: left;\">Title</th><th style = \"text-align: left;\">Year</th><th style = \"text-align: left;\">Length</th><th style = \"text-align: left;\">Budget</th><th style = \"text-align: left;\">Rating</th><th style = \"text-align: left;\">Votes</th><th style = \"text-align: left;\">R1</th><th style = \"text-align: left;\">R2</th><th style = \"text-align: left;\">R3</th><th style = \"text-align: left;\">R4</th><th style = \"text-align: left;\">R5</th><th style = \"text-align: left;\">R6</th><th style = \"text-align: left;\">R7</th><th style = \"text-align: left;\">R8</th><th style = \"text-align: left;\">R9</th><th style = \"text-align: left;\">R10</th><th style = \"text-align: left;\">MPAA</th><th style = \"text-align: left;\">Action</th><th style = \"text-align: left;\">Animation</th><th style = \"text-align: left;\">Comedy</th><th style = \"text-align: left;\">Drama</th><th style = \"text-align: left;\">Documentary</th><th style = \"text-align: left;\">Romance</th><th style = \"text-align: left;\">Short</th></tr><tr class = \"subheader headerLastRow\"><th class = \"rowNumber\" style = \"font-weight: bold; text-align: right;\"></th><th title = \"String\" style = \"text-align: left;\">String</th><th title = \"Int32\" style = \"text-align: left;\">Int32</th><th title = \"Int32\" style = \"text-align: left;\">Int32</th><th title = \"Union{Missing, Int32}\" style = \"text-align: left;\">Int32?</th><th title = \"Float64\" style = \"text-align: left;\">Float64</th><th title = \"Int32\" style = \"text-align: left;\">Int32</th><th title = \"Float64\" style = \"text-align: left;\">Float64</th><th title = \"Float64\" style = \"text-align: left;\">Float64</th><th title = \"Float64\" style = \"text-align: left;\">Float64</th><th title = \"Float64\" style = \"text-align: left;\">Float64</th><th title = \"Float64\" style = \"text-align: left;\">Float64</th><th title = \"Float64\" style = \"text-align: left;\">Float64</th><th title = \"Float64\" style = \"text-align: left;\">Float64</th><th title = \"Float64\" style = \"text-align: left;\">Float64</th><th title = \"Float64\" style = \"text-align: left;\">Float64</th><th title = \"Float64\" style = \"text-align: left;\">Float64</th><th title = \"CategoricalArrays.CategoricalValue{String, UInt8}\" style = \"text-align: left;\">Cat…</th><th title = \"Int32\" style = \"text-align: left;\">Int32</th><th title = \"Int32\" style = \"text-align: left;\">Int32</th><th title = \"Int32\" style = \"text-align: left;\">Int32</th><th title = \"Int32\" style = \"text-align: left;\">Int32</th><th title = \"Int32\" style = \"text-align: left;\">Int32</th><th title = \"Int32\" style = \"text-align: left;\">Int32</th><th title = \"Int32\" style = \"text-align: left;\">Int32</th></tr></thead><tbody><tr><td class = \"rowNumber\" style = \"font-weight: bold; text-align: right;\">1</td><td style = \"text-align: left;\">$</td><td style = \"text-align: right;\">1971</td><td style = \"text-align: right;\">121</td><td style = \"font-style: italic; text-align: right;\">missing</td><td style = \"text-align: right;\">6.4</td><td style = \"text-align: right;\">348</td><td style = \"text-align: right;\">4.5</td><td style = \"text-align: right;\">4.5</td><td style = \"text-align: right;\">4.5</td><td style = \"text-align: right;\">4.5</td><td style = \"text-align: right;\">14.5</td><td style = \"text-align: right;\">24.5</td><td style = \"text-align: right;\">24.5</td><td style = \"text-align: right;\">14.5</td><td style = \"text-align: right;\">4.5</td><td style = \"text-align: right;\">4.5</td><td style = \"text-align: left;\"></td><td style = \"text-align: right;\">0</td><td style = \"text-align: right;\">0</td><td style = \"text-align: right;\">1</td><td style = \"text-align: right;\">1</td><td style = \"text-align: right;\">0</td><td style = \"text-align: right;\">0</td><td style = \"text-align: right;\">0</td></tr><tr><td class = \"rowNumber\" style = \"font-weight: bold; text-align: right;\">2</td><td style = \"text-align: left;\">$1000 a Touchdown</td><td style = \"text-align: right;\">1939</td><td style = \"text-align: right;\">71</td><td style = \"font-style: italic; text-align: right;\">missing</td><td style = \"text-align: right;\">6.0</td><td style = \"text-align: right;\">20</td><td style = \"text-align: right;\">0.0</td><td style = \"text-align: right;\">14.5</td><td style = \"text-align: right;\">4.5</td><td style = \"text-align: right;\">24.5</td><td style = \"text-align: right;\">14.5</td><td style = \"text-align: right;\">14.5</td><td style = \"text-align: right;\">14.5</td><td style = \"text-align: right;\">4.5</td><td style = \"text-align: right;\">4.5</td><td style = \"text-align: right;\">14.5</td><td style = \"text-align: left;\"></td><td style = \"text-align: right;\">0</td><td style = \"text-align: right;\">0</td><td style = \"text-align: right;\">1</td><td style = \"text-align: right;\">0</td><td style = \"text-align: right;\">0</td><td style = \"text-align: right;\">0</td><td style = \"text-align: right;\">0</td></tr><tr><td class = \"rowNumber\" style = \"font-weight: bold; text-align: right;\">3</td><td style = \"text-align: left;\">$21 a Day Once a Month</td><td style = \"text-align: right;\">1941</td><td style = \"text-align: right;\">7</td><td style = \"font-style: italic; text-align: right;\">missing</td><td style = \"text-align: right;\">8.2</td><td style = \"text-align: right;\">5</td><td style = \"text-align: right;\">0.0</td><td style = \"text-align: right;\">0.0</td><td style = \"text-align: right;\">0.0</td><td style = \"text-align: right;\">0.0</td><td style = \"text-align: right;\">0.0</td><td style = \"text-align: right;\">24.5</td><td style = \"text-align: right;\">0.0</td><td style = \"text-align: right;\">44.5</td><td style = \"text-align: right;\">24.5</td><td style = \"text-align: right;\">24.5</td><td style = \"text-align: left;\"></td><td style = \"text-align: right;\">0</td><td style = \"text-align: right;\">1</td><td style = \"text-align: right;\">0</td><td style = \"text-align: right;\">0</td><td style = \"text-align: right;\">0</td><td style = \"text-align: right;\">0</td><td style = \"text-align: right;\">1</td></tr><tr><td class = \"rowNumber\" style = \"font-weight: bold; text-align: right;\">4</td><td style = \"text-align: left;\">$40,000</td><td style = \"text-align: right;\">1996</td><td style = \"text-align: right;\">70</td><td style = \"font-style: italic; text-align: right;\">missing</td><td style = \"text-align: right;\">8.2</td><td style = \"text-align: right;\">6</td><td style = \"text-align: right;\">14.5</td><td style = \"text-align: right;\">0.0</td><td style = \"text-align: right;\">0.0</td><td style = \"text-align: right;\">0.0</td><td style = \"text-align: right;\">0.0</td><td style = \"text-align: right;\">0.0</td><td style = \"text-align: right;\">0.0</td><td style = \"text-align: right;\">0.0</td><td style = \"text-align: right;\">34.5</td><td style = \"text-align: right;\">45.5</td><td style = \"text-align: left;\"></td><td style = \"text-align: right;\">0</td><td style = \"text-align: right;\">0</td><td style = \"text-align: right;\">1</td><td style = \"text-align: right;\">0</td><td style = \"text-align: right;\">0</td><td style = \"text-align: right;\">0</td><td style = \"text-align: right;\">0</td></tr><tr><td class = \"rowNumber\" style = \"font-weight: bold; text-align: right;\">5</td><td style = \"text-align: left;\">$50,000 Climax Show, The</td><td style = \"text-align: right;\">1975</td><td style = \"text-align: right;\">71</td><td style = \"font-style: italic; text-align: right;\">missing</td><td style = \"text-align: right;\">3.4</td><td style = \"text-align: right;\">17</td><td style = \"text-align: right;\">24.5</td><td style = \"text-align: right;\">4.5</td><td style = \"text-align: right;\">0.0</td><td style = \"text-align: right;\">14.5</td><td style = \"text-align: right;\">14.5</td><td style = \"text-align: right;\">4.5</td><td style = \"text-align: right;\">0.0</td><td style = \"text-align: right;\">0.0</td><td style = \"text-align: right;\">0.0</td><td style = \"text-align: right;\">24.5</td><td style = \"text-align: left;\"></td><td style = \"text-align: right;\">0</td><td style = \"text-align: right;\">0</td><td style = \"text-align: right;\">0</td><td style = \"text-align: right;\">0</td><td style = \"text-align: right;\">0</td><td style = \"text-align: right;\">0</td><td style = \"text-align: right;\">0</td></tr></tbody></table></div>"
      ],
      "text/latex": [
       "\\begin{tabular}{r|ccccccccc}\n",
       "\t& Title & Year & Length & Budget & Rating & Votes & R1 & R2 & \\\\\n",
       "\t\\hline\n",
       "\t& String & Int32 & Int32 & Int32? & Float64 & Int32 & Float64 & Float64 & \\\\\n",
       "\t\\hline\n",
       "\t1 & \\$ & 1971 & 121 & \\emph{missing} & 6.4 & 348 & 4.5 & 4.5 & $\\dots$ \\\\\n",
       "\t2 & \\$1000 a Touchdown & 1939 & 71 & \\emph{missing} & 6.0 & 20 & 0.0 & 14.5 & $\\dots$ \\\\\n",
       "\t3 & \\$21 a Day Once a Month & 1941 & 7 & \\emph{missing} & 8.2 & 5 & 0.0 & 0.0 & $\\dots$ \\\\\n",
       "\t4 & \\$40,000 & 1996 & 70 & \\emph{missing} & 8.2 & 6 & 14.5 & 0.0 & $\\dots$ \\\\\n",
       "\t5 & \\$50,000 Climax Show, The & 1975 & 71 & \\emph{missing} & 3.4 & 17 & 24.5 & 4.5 & $\\dots$ \\\\\n",
       "\\end{tabular}\n"
      ],
      "text/plain": [
       "\u001b[1m5×24 DataFrame\u001b[0m\n",
       "\u001b[1m Row \u001b[0m│\u001b[1m Title                    \u001b[0m\u001b[1m Year  \u001b[0m\u001b[1m Length \u001b[0m\u001b[1m Budget  \u001b[0m\u001b[1m Rating  \u001b[0m\u001b[1m Votes \u001b[0m\u001b[1m R1   \u001b[0m ⋯\n",
       "     │\u001b[90m String                   \u001b[0m\u001b[90m Int32 \u001b[0m\u001b[90m Int32  \u001b[0m\u001b[90m Int32?  \u001b[0m\u001b[90m Float64 \u001b[0m\u001b[90m Int32 \u001b[0m\u001b[90m Float\u001b[0m ⋯\n",
       "─────┼──────────────────────────────────────────────────────────────────────────\n",
       "   1 │ $                          1971     121 \u001b[90m missing \u001b[0m     6.4    348      4 ⋯\n",
       "   2 │ $1000 a Touchdown          1939      71 \u001b[90m missing \u001b[0m     6.0     20      0\n",
       "   3 │ $21 a Day Once a Month     1941       7 \u001b[90m missing \u001b[0m     8.2      5      0\n",
       "   4 │ $40,000                    1996      70 \u001b[90m missing \u001b[0m     8.2      6     14\n",
       "   5 │ $50,000 Climax Show, The   1975      71 \u001b[90m missing \u001b[0m     3.4     17     24 ⋯\n",
       "\u001b[36m                                                              18 columns omitted\u001b[0m"
      ]
     },
     "execution_count": 10,
     "metadata": {},
     "output_type": "execute_result"
    }
   ],
   "source": [
    "@chain movies begin\n",
    "    @slice(1:5)\n",
    "end"
   ]
  },
  {
   "cell_type": "code",
   "execution_count": 11,
   "metadata": {},
   "outputs": [
    {
     "name": "stdout",
     "output_type": "stream",
     "text": [
      "Rows: 58788\n",
      "Columns: 24\n",
      ".Title         String         $, $1000 a Touchdown, $21 a Day Once a Month, $40,\n",
      ".Year          Int32          1971, 1939, 1941, 1996, 1975, 2000, 2002, 2002, 19\n",
      ".Length        Int32          121, 71, 7, 70, 71, 91, 93, 25, 97, 61, 99, 96, 10\n",
      ".Budget        Union{Missing, Int32}missing, missing, missing, missing, missing,\n",
      ".Rating        Float64        6.4, 6.0, 8.2, 8.2, 3.4, 4.3, 5.3, 6.7, 6.6, 6.0, \n",
      ".Votes         Int32          348, 20, 5, 6, 17, 45, 200, 24, 18, 51, 23, 53, 44\n",
      ".R1            Float64        4.5, 0.0, 0.0, 14.5, 24.5, 4.5, 4.5, 4.5, 4.5, 4.5\n",
      ".R2            Float64        4.5, 14.5, 0.0, 0.0, 4.5, 4.5, 0.0, 4.5, 4.5, 0.0,\n",
      ".R3            Float64        4.5, 4.5, 0.0, 0.0, 0.0, 4.5, 4.5, 4.5, 4.5, 4.5, \n",
      ".R4            Float64        4.5, 24.5, 0.0, 0.0, 14.5, 14.5, 4.5, 4.5, 0.0, 4.\n",
      ".R5            Float64        14.5, 14.5, 0.0, 0.0, 14.5, 14.5, 24.5, 4.5, 0.0, \n",
      ".R6            Float64        24.5, 14.5, 24.5, 0.0, 4.5, 14.5, 24.5, 14.5, 0.0,\n",
      ".R7            Float64        24.5, 14.5, 0.0, 0.0, 0.0, 4.5, 14.5, 14.5, 34.5, \n",
      ".R8            Float64        14.5, 4.5, 44.5, 0.0, 0.0, 4.5, 4.5, 14.5, 14.5, 4\n",
      ".R9            Float64        4.5, 4.5, 24.5, 34.5, 0.0, 14.5, 4.5, 4.5, 4.5, 4.\n",
      ".R10           Float64        4.5, 14.5, 24.5, 45.5, 24.5, 14.5, 14.5, 14.5, 24.\n",
      ".MPAA          CategoricalArrays.CategoricalValue{String, UInt8}, , , , , , R, ,\n",
      ".Action        Int32          0, 0, 0, 0, 0, 0, 1, 0, 0, 0, 0, 0, 0, 0, 1, 1, 0,\n",
      ".Animation     Int32          0, 0, 1, 0, 0, 0, 0, 0, 0, 0, 0, 0, 0, 0, 0, 0, 0,\n",
      ".Comedy        Int32          1, 1, 0, 1, 0, 0, 0, 0, 0, 0, 0, 0, 1, 0, 1, 1, 0,\n",
      ".Drama         Int32          1, 0, 0, 0, 0, 1, 1, 0, 1, 0, 1, 0, 0, 0, 0, 0, 1,\n",
      ".Documentary   Int32          0, 0, 0, 0, 0, 0, 0, 1, 0, 0, 0, 0, 0, 0, 0, 0, 0,\n",
      ".Romance       Int32          0, 0, 0, 0, 0, 0, 0, 0, 0, 0, 0, 0, 0, 0, 0, 0, 0,\n",
      ".Short         Int32          0, 0, 1, 0, 0, 0, 0, 1, 0, 0, 0, 0, 1, 1, 0, 0, 0,\n"
     ]
    }
   ],
   "source": [
    "@glimpse(movies)"
   ]
  },
  {
   "cell_type": "code",
   "execution_count": 12,
   "metadata": {},
   "outputs": [
    {
     "name": "stderr",
     "output_type": "stream",
     "text": [
      "\u001b[36m\u001b[1m[ \u001b[22m\u001b[39m\u001b[36m\u001b[1mInfo: \u001b[22m\u001b[39mThere are $(length(_)) elements after filtering\n"
     ]
    },
    {
     "data": {
      "text/plain": [
       "4"
      ]
     },
     "execution_count": 12,
     "metadata": {},
     "output_type": "execute_result"
    }
   ],
   "source": [
    "@chain begin\n",
    "    [1, 2, 3]\n",
    "    filter(isodd, _)\n",
    "    @aside @info \"There are \\$(length(_)) elements after filtering\"\n",
    "    sum\n",
    "end"
   ]
  },
  {
   "cell_type": "code",
   "execution_count": 13,
   "metadata": {},
   "outputs": [
    {
     "data": {
      "text/plain": [
       "true"
      ]
     },
     "execution_count": 13,
     "metadata": {},
     "output_type": "execute_result"
    }
   ],
   "source": [
    "@chain begin\n",
    "    [1, 2, 3]\n",
    "    filtered = filter(isodd, _)\n",
    "    sum\n",
    "end\n",
    "filtered == [1, 3]"
   ]
  },
  {
   "cell_type": "code",
   "execution_count": 14,
   "metadata": {},
   "outputs": [
    {
     "data": {
      "text/plain": [
       "3-element Vector{Float64}:\n",
       " 1.0\n",
       " 1.4142135623730951\n",
       " 1.7320508075688772"
      ]
     },
     "execution_count": 14,
     "metadata": {},
     "output_type": "execute_result"
    }
   ],
   "source": [
    "@chain begin\n",
    "    [1, 2, 3]\n",
    "    @. sqrt\n",
    "end"
   ]
  },
  {
   "cell_type": "code",
   "execution_count": 15,
   "metadata": {},
   "outputs": [
    {
     "data": {
      "text/html": [
       "<div><div style = \"float: left;\"><span>2×2 DataFrame</span></div><div style = \"clear: both;\"></div></div><div class = \"data-frame\" style = \"overflow-x: scroll;\"><table class = \"data-frame\" style = \"margin-bottom: 6px;\"><thead><tr class = \"header\"><th class = \"rowNumber\" style = \"font-weight: bold; text-align: right;\">Row</th><th style = \"text-align: left;\">group</th><th style = \"text-align: left;\">total_weight</th></tr><tr class = \"subheader headerLastRow\"><th class = \"rowNumber\" style = \"font-weight: bold; text-align: right;\"></th><th title = \"Int64\" style = \"text-align: left;\">Int64</th><th title = \"Int64\" style = \"text-align: left;\">Int64</th></tr></thead><tbody><tr><td class = \"rowNumber\" style = \"font-weight: bold; text-align: right;\">1</td><td style = \"text-align: right;\">1</td><td style = \"text-align: right;\">6</td></tr><tr><td class = \"rowNumber\" style = \"font-weight: bold; text-align: right;\">2</td><td style = \"text-align: right;\">2</td><td style = \"text-align: right;\">3</td></tr></tbody></table></div>"
      ],
      "text/latex": [
       "\\begin{tabular}{r|cc}\n",
       "\t& group & total\\_weight\\\\\n",
       "\t\\hline\n",
       "\t& Int64 & Int64\\\\\n",
       "\t\\hline\n",
       "\t1 & 1 & 6 \\\\\n",
       "\t2 & 2 & 3 \\\\\n",
       "\\end{tabular}\n"
      ],
      "text/plain": [
       "\u001b[1m2×2 DataFrame\u001b[0m\n",
       "\u001b[1m Row \u001b[0m│\u001b[1m group \u001b[0m\u001b[1m total_weight \u001b[0m\n",
       "     │\u001b[90m Int64 \u001b[0m\u001b[90m Int64        \u001b[0m\n",
       "─────┼─────────────────────\n",
       "   1 │     1             6\n",
       "   2 │     2             3"
      ]
     },
     "execution_count": 15,
     "metadata": {},
     "output_type": "execute_result"
    }
   ],
   "source": [
    "using DataFrames, Chain\n",
    "\n",
    "df = DataFrame(group = [1, 2, 1, 2, missing], weight = [1, 3, 5, 7, missing])\n",
    "\n",
    "result = @chain df begin\n",
    "    dropmissing\n",
    "    filter(r -> r.weight < 6, _)\n",
    "    groupby(:group)\n",
    "    combine(:weight => sum => :total_weight)\n",
    "end"
   ]
  },
  {
   "cell_type": "code",
   "execution_count": 16,
   "metadata": {},
   "outputs": [
    {
     "data": {
      "text/html": [
       "<div><div style = \"float: left;\"><span>2×2 DataFrame</span></div><div style = \"clear: both;\"></div></div><div class = \"data-frame\" style = \"overflow-x: scroll;\"><table class = \"data-frame\" style = \"margin-bottom: 6px;\"><thead><tr class = \"header\"><th class = \"rowNumber\" style = \"font-weight: bold; text-align: right;\">Row</th><th style = \"text-align: left;\">group</th><th style = \"text-align: left;\">total_weight</th></tr><tr class = \"subheader headerLastRow\"><th class = \"rowNumber\" style = \"font-weight: bold; text-align: right;\"></th><th title = \"Int64\" style = \"text-align: left;\">Int64</th><th title = \"Int64\" style = \"text-align: left;\">Int64</th></tr></thead><tbody><tr><td class = \"rowNumber\" style = \"font-weight: bold; text-align: right;\">1</td><td style = \"text-align: right;\">1</td><td style = \"text-align: right;\">6</td></tr><tr><td class = \"rowNumber\" style = \"font-weight: bold; text-align: right;\">2</td><td style = \"text-align: right;\">2</td><td style = \"text-align: right;\">3</td></tr></tbody></table></div>"
      ],
      "text/latex": [
       "\\begin{tabular}{r|cc}\n",
       "\t& group & total\\_weight\\\\\n",
       "\t\\hline\n",
       "\t& Int64 & Int64\\\\\n",
       "\t\\hline\n",
       "\t1 & 1 & 6 \\\\\n",
       "\t2 & 2 & 3 \\\\\n",
       "\\end{tabular}\n"
      ],
      "text/plain": [
       "\u001b[1m2×2 DataFrame\u001b[0m\n",
       "\u001b[1m Row \u001b[0m│\u001b[1m group \u001b[0m\u001b[1m total_weight \u001b[0m\n",
       "     │\u001b[90m Int64 \u001b[0m\u001b[90m Int64        \u001b[0m\n",
       "─────┼─────────────────────\n",
       "   1 │     1             6\n",
       "   2 │     2             3"
      ]
     },
     "execution_count": 16,
     "metadata": {},
     "output_type": "execute_result"
    }
   ],
   "source": [
    "using CSV\n",
    "\n",
    "@chain df begin\n",
    "    dropmissing\n",
    "    filter(r -> r.weight < 6, _)\n",
    "    @aside @chain _ begin\n",
    "            select(:group)\n",
    "            CSV.write(\"filtered_groups.csv\", _)\n",
    "        end\n",
    "    groupby(:group)\n",
    "    combine(:weight => sum => :total_weight)\n",
    "end"
   ]
  }
 ],
 "metadata": {
  "kernelspec": {
   "display_name": "Julia 1.10.4",
   "language": "julia",
   "name": "julia-1.10"
  },
  "language_info": {
   "file_extension": ".jl",
   "mimetype": "application/julia",
   "name": "julia",
   "version": "1.10.4"
  }
 },
 "nbformat": 4,
 "nbformat_minor": 2
}
