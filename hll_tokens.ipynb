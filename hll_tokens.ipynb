{
 "cells": [
  {
   "cell_type": "code",
   "execution_count": 1,
   "metadata": {},
   "outputs": [
    {
     "data": {
      "text/plain": [
       "\"OK\""
      ]
     },
     "execution_count": 1,
     "metadata": {},
     "output_type": "execute_result"
    }
   ],
   "source": [
    "include(\"src//tokens.jl\")\n",
    "\n",
    "using ..HllSets\n",
    "using ..Tokens\n",
    "using ..Util\n",
    "\n",
    "using Redis\n",
    "using EasyConfig\n",
    "using UUIDs\n",
    "using Random\n",
    "using JSON3\n",
    "\n",
    "conn = Redis.RedisConnection()\n",
    "\n",
    "Tokens.token_idx(conn, \"b:tokens\", \"b:token\")"
   ]
  },
  {
   "cell_type": "code",
   "execution_count": 2,
   "metadata": {},
   "outputs": [
    {
     "data": {
      "text/plain": [
       "true"
      ]
     },
     "execution_count": 2,
     "metadata": {},
     "output_type": "execute_result"
    }
   ],
   "source": [
    "name = \"masha\"\n",
    "token_id = Tokens.create_token_id(name, \"b\")\n",
    "node_sha1 = \"d6a088fc288h866b0e5e46b9375afe402dfe6b62\"\n",
    "\n",
    "_hash = Redis.hgetall(conn, token_id)\n",
    "if _hash == nothing || isempty(_hash)\n",
    "    token = Tokens.create_token(name, node_sha1)\n",
    "else\n",
    "    token = Tokens.Token(_hash)\n",
    "end\n",
    "\n",
    "Tokens.set_token(conn, token, node_sha1, \"b\")"
   ]
  }
 ],
 "metadata": {
  "kernelspec": {
   "display_name": "Julia 1.10.4",
   "language": "julia",
   "name": "julia-1.10"
  },
  "language_info": {
   "file_extension": ".jl",
   "mimetype": "application/julia",
   "name": "julia",
   "version": "1.10.4"
  }
 },
 "nbformat": 4,
 "nbformat_minor": 2
}
