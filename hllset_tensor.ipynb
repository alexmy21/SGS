{
 "cells": [
  {
   "cell_type": "code",
   "execution_count": 1,
   "metadata": {},
   "outputs": [],
   "source": [
    "import torch\n",
    "\n",
    "def bitwise_addition(a, b):\n",
    "    while b != 0:\n",
    "        carry = a & b\n",
    "        a = a ^ b\n",
    "        b = carry << 1\n",
    "    return a\n",
    "\n",
    "def elementwise_union(tensor1, tensor2):\n",
    "    assert tensor1.shape == tensor2.shape, \"Tensors must have the same shape\"\n",
    "    result = torch.zeros_like(tensor1)\n",
    "    for i in range(tensor1.shape[0]):\n",
    "        for j in range(tensor1.shape[1]):\n",
    "            result[i, j] = bitwise_addition(tensor1[i, j], tensor2[i, j])\n",
    "    return result"
   ]
  },
  {
   "cell_type": "code",
   "execution_count": 2,
   "metadata": {},
   "outputs": [],
   "source": [
    "def elementwise_intersection(tensor1, tensor2):\n",
    "    assert tensor1.shape == tensor2.shape, \"Tensors must have the same shape\"\n",
    "    return tensor1 & tensor2"
   ]
  },
  {
   "cell_type": "code",
   "execution_count": 3,
   "metadata": {},
   "outputs": [],
   "source": [
    "def top_index_reversed_binary(tensor):\n",
    "    assert tensor.dtype == torch.int64, \"Tensor must be of dtype torch.int64\"\n",
    "    result = torch.zeros(tensor.shape[0], dtype=torch.int64, device=tensor.device)\n",
    "    for i in range(tensor.shape[0]):\n",
    "        binary_str = ''.join([bin(tensor[i, j].item())[2:].zfill(64) for j in range(tensor.shape[1])])\n",
    "        reversed_binary_str = binary_str[::-1]  # Reverse the binary string\n",
    "        top_index = reversed_binary_str.find('1')  # Find the index of the highest set bit\n",
    "        result[i] = top_index\n",
    "    return result"
   ]
  },
  {
   "cell_type": "code",
   "execution_count": null,
   "metadata": {},
   "outputs": [],
   "source": [
    "# Example tensors\n",
    "tensor1 = torch.tensor([[1, 2], [3, 4]], dtype=torch.int64).cuda()  # Move tensor to GPU\n",
    "tensor2 = torch.tensor([[5, 6], [7, 8]], dtype=torch.int64).cuda()  # Move tensor to GPU\n",
    "\n",
    "# Perform union\n",
    "union_result = elementwise_union(tensor1, tensor2)\n",
    "print(\"Union Result:\\n\", union_result)\n",
    "\n",
    "# Perform intersection\n",
    "intersection_result = elementwise_intersection(tensor1, tensor2)\n",
    "print(\"Intersection Result:\\n\", intersection_result)\n",
    "\n",
    "# Convert to integer vector\n",
    "int_vector = top_index_reversed_binary(tensor1)\n",
    "print(\"Integer Vector:\\n\", int_vector)"
   ]
  },
  {
   "cell_type": "code",
   "execution_count": 5,
   "metadata": {},
   "outputs": [],
   "source": [
    "class Entity:\n",
    "    def __init__(self, hllset, references=None):\n",
    "        self.hllset = hllset\n",
    "        self.references = references if references is not None else []\n",
    "\n",
    "    def add_reference(self, entity):\n",
    "        self.references.append(entity)"
   ]
  },
  {
   "cell_type": "code",
   "execution_count": 6,
   "metadata": {},
   "outputs": [],
   "source": [
    "# import torch\n",
    "\n",
    "def elementwise_union(tensor1, tensor2):\n",
    "    assert tensor1.shape == tensor2.shape, \"Tensors must have the same shape\"\n",
    "    return tensor1 | tensor2\n",
    "\n",
    "def elementwise_intersection(tensor1, tensor2):\n",
    "    assert tensor1.shape == tensor2.shape, \"Tensors must have the same shape\"\n",
    "    return tensor1 & tensor2\n",
    "\n",
    "def top_index_reversed_binary(tensor):\n",
    "    assert tensor.dtype == torch.int64, \"Tensor must be of dtype torch.int64\"\n",
    "    result = torch.zeros(tensor.shape[0], dtype=torch.int64, device=tensor.device)\n",
    "    for i in range(tensor.shape[0]):\n",
    "        row = tensor[i]\n",
    "        for j in range(tensor.shape[1]):\n",
    "            if row[j] != 0:\n",
    "                binary_str = bin(row[j].item())[2:].zfill(64)  # Convert to binary string and pad to 64 bits\n",
    "                reversed_binary_str = binary_str[::-1]  # Reverse the binary string\n",
    "                top_index = reversed_binary_str.find('1')  # Find the index of the highest set bit\n",
    "                result[i] = max(result[i], top_index)\n",
    "    return result"
   ]
  },
  {
   "cell_type": "code",
   "execution_count": 11,
   "metadata": {},
   "outputs": [
    {
     "name": "stdout",
     "output_type": "stream",
     "text": [
      "Union Result:\n",
      " tensor([[1, 1, 1,  ..., 1, 1, 1],\n",
      "        [1, 1, 1,  ..., 1, 1, 1],\n",
      "        [1, 0, 1,  ..., 1, 0, 1],\n",
      "        ...,\n",
      "        [0, 1, 1,  ..., 1, 1, 1],\n",
      "        [1, 0, 1,  ..., 1, 0, 1],\n",
      "        [1, 1, 1,  ..., 1, 1, 0]], device='cuda:0')\n",
      "Intersection Result:\n",
      " tensor([[0, 0, 0,  ..., 1, 0, 0],\n",
      "        [1, 0, 1,  ..., 0, 1, 0],\n",
      "        [1, 0, 0,  ..., 0, 0, 1],\n",
      "        ...,\n",
      "        [0, 1, 0,  ..., 1, 0, 0],\n",
      "        [1, 0, 0,  ..., 1, 0, 0],\n",
      "        [0, 0, 0,  ..., 1, 0, 0]], device='cuda:0')\n"
     ]
    }
   ],
   "source": [
    "# Example usage\n",
    "tensor1 = torch.randint(0, 2, (1024, 64), dtype=torch.int64).cuda()  # Random bit tensor on GPU\n",
    "tensor2 = torch.randint(0, 2, (1024, 64), dtype=torch.int64).cuda()  # Random bit tensor on GPU\n",
    "\n",
    "# Create entities\n",
    "entity1 = Entity(tensor1)\n",
    "entity2 = Entity(tensor2)\n",
    "\n",
    "# Perform union and create a new entity\n",
    "union_result = elementwise_union(entity1.hllset, entity2.hllset)\n",
    "entity_union = Entity(union_result, references=[entity1, entity2])\n",
    "print(\"Union Result:\\n\", union_result)\n",
    "\n",
    "# Perform intersection and create a new entity\n",
    "intersection_result = elementwise_intersection(entity1.hllset, entity2.hllset)\n",
    "entity_intersection = Entity(intersection_result, references=[entity1, entity2])\n",
    "print(\"Intersection Result:\\n\", intersection_result)\n",
    "\n",
    "# Convert to integer vector\n",
    "# int_vector = top_index_reversed_binary(entity1.hllset)\n",
    "# print(\"Integer Vector:\\n\", int_vector)"
   ]
  },
  {
   "cell_type": "code",
   "execution_count": 12,
   "metadata": {},
   "outputs": [
    {
     "name": "stdout",
     "output_type": "stream",
     "text": [
      "['/usr/lib64/python310.zip', '/usr/lib64/python3.10', '/usr/lib64/python3.10/lib-dynload', '', '/home/alexmy/JULIA/SGS/SGS/venv/lib64/python3.10/site-packages', '/home/alexmy/JULIA/SGS/SGS/venv/lib/python3.10/site-packages']\n"
     ]
    }
   ],
   "source": [
    "import sys\n",
    "print(sys.path)"
   ]
  }
 ],
 "metadata": {
  "kernelspec": {
   "display_name": "venv",
   "language": "python",
   "name": "python3"
  },
  "language_info": {
   "codemirror_mode": {
    "name": "ipython",
    "version": 3
   },
   "file_extension": ".py",
   "mimetype": "text/x-python",
   "name": "python",
   "nbconvert_exporter": "python",
   "pygments_lexer": "ipython3",
   "version": "3.10.14"
  }
 },
 "nbformat": 4,
 "nbformat_minor": 2
}
