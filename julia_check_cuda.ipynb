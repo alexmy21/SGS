{
 "cells": [
  {
   "cell_type": "code",
   "execution_count": null,
   "metadata": {},
   "outputs": [],
   "source": [
    "using CUDA\n",
    "\n",
    "# Check if CUDA is available\n",
    "if CUDA.has_cuda()\n",
    "    println(\"CUDA-enabled GPU is available.\")\n",
    "else\n",
    "    println(\"CUDA-enabled GPU is not available.\")\n",
    "end"
   ]
  },
  {
   "cell_type": "code",
   "execution_count": null,
   "metadata": {},
   "outputs": [],
   "source": [
    "# Check if CUDA is available\n",
    "if CUDA.has_cuda()\n",
    "    println(\"CUDA-enabled GPU is available.\")\n",
    "    # Optionally, you can get more information about the GPU\n",
    "    device = CUDA.device()\n",
    "    println(\"GPU Device: \", device)\n",
    "    println(\"GPU Name: \", CUDA.name(device))\n",
    "else\n",
    "    println(\"CUDA-enabled GPU is not available.\")\n",
    "end"
   ]
  },
  {
   "cell_type": "code",
   "execution_count": 1,
   "metadata": {},
   "outputs": [
    {
     "name": "stdout",
     "output_type": "stream",
     "text": [
      "Union Result:\n",
      "PyObject tensor([[0, 1, 1,  ..., 1, 1, 1],\n",
      "        [1, 0, 1,  ..., 0, 0, 1],\n",
      "        [0, 1, 1,  ..., 0, 1, 1],\n",
      "        ...,\n",
      "        [1, 1, 1,  ..., 1, 0, 0],\n",
      "        [0, 1, 1,  ..., 1, 1, 0],\n",
      "        [1, 1, 1,  ..., 0, 1, 1]], device='cuda:0')\n",
      "Intersection Result:\n",
      "PyObject tensor([[0, 0, 0,  ..., 0, 1, 0],\n",
      "        [0, 0, 0,  ..., 0, 0, 1],\n",
      "        [0, 0, 0,  ..., 0, 0, 0],\n",
      "        ...,\n",
      "        [0, 0, 0,  ..., 0, 0, 0],\n",
      "        [0, 1, 0,  ..., 0, 0, 0],\n",
      "        [1, 0, 0,  ..., 0, 0, 1]], device='cuda:0')\n",
      "Retrieved Entity Union:\n",
      "PyObject tensor([[0, 1, 1,  ..., 1, 1, 1],\n",
      "        [1, 0, 1,  ..., 0, 0, 1],\n",
      "        [0, 1, 1,  ..., 0, 1, 1],\n",
      "        ...,\n",
      "        [1, 1, 1,  ..., 1, 0, 0],\n",
      "        [0, 1, 1,  ..., 1, 1, 0],\n",
      "        [1, 1, 1,  ..., 0, 1, 1]], device='cuda:0')\n",
      "Retrieved Entity Intersection:\n",
      "PyObject tensor([[0, 0, 0,  ..., 0, 1, 0],\n",
      "        [0, 0, 0,  ..., 0, 0, 1],\n",
      "        [0, 0, 0,  ..., 0, 0, 0],\n",
      "        ...,\n",
      "        [0, 0, 0,  ..., 0, 0, 0],\n",
      "        [0, 1, 0,  ..., 0, 0, 0],\n",
      "        [1, 0, 0,  ..., 0, 0, 1]], device='cuda:0')\n"
     ]
    },
    {
     "name": "stderr",
     "output_type": "stream",
     "text": [
      "/home/alexmy/JULIA/SGS/SGS/./entity_module.py:35: FutureWarning: You are using `torch.load` with `weights_only=False` (the current default value), which uses the default pickle module implicitly. It is possible to construct malicious pickle data which will execute arbitrary code during unpickling (See https://github.com/pytorch/pytorch/blob/main/SECURITY.md#untrusted-models for more details). In a future release, the default value for `weights_only` will be flipped to `True`. This limits the functions that could be executed during unpickling. Arbitrary objects will no longer be allowed to be loaded via this mode unless they are explicitly allowlisted by the user via `torch.serialization.add_safe_globals`. We recommend you start setting `weights_only=True` for any use case where you don't have full control of the loaded file. Please open an issue on GitHub for any issues related to this experimental feature.\n",
      "  return torch.load(buffer)\n"
     ]
    }
   ],
   "source": [
    "using PyCall\n",
    "\n",
    "py\"\"\"\n",
    "import sys\n",
    "sys.path.append(\".\")\n",
    "from entity_module import Entity\n",
    "import torch\n",
    "import redis\n",
    "\"\"\"\n",
    "\n",
    "# Import the Python module\n",
    "entity_module = pyimport(\"entity_module\")\n",
    "\n",
    "# Connect to Redis\n",
    "r = entity_module.redis.Redis(host=\"localhost\", port=6379, db=0)\n",
    "\n",
    "# Create tensors\n",
    "tensor1 = entity_module.torch.randint(0, 2, (1024, 64), dtype=entity_module.torch.int64).cuda()\n",
    "tensor2 = entity_module.torch.randint(0, 2, (1024, 64), dtype=entity_module.torch.int64).cuda()\n",
    "\n",
    "# Create entities with identifiers\n",
    "entity1 = entity_module.Entity(tensor1, identifier=\"entity1\")\n",
    "entity2 = entity_module.Entity(tensor2, identifier=\"entity2\")\n",
    "\n",
    "# Save entities to Redis\n",
    "entity1.save_to_redis(r)\n",
    "entity2.save_to_redis(r)\n",
    "\n",
    "# Perform union and create a new entity\n",
    "union_result = entity_module.elementwise_union(entity1.hllset, entity2.hllset)\n",
    "entity_union = entity_module.Entity(union_result, identifier=\"entity_union\", references=[entity1, entity2])\n",
    "entity_union.save_to_redis(r)\n",
    "println(\"Union Result:\\n\", union_result)\n",
    "\n",
    "# Perform intersection and create a new entity\n",
    "intersection_result = entity_module.elementwise_intersection(entity1.hllset, entity2.hllset)\n",
    "entity_intersection = entity_module.Entity(intersection_result, identifier=\"entity_intersection\", references=[entity1, entity2])\n",
    "entity_intersection.save_to_redis(r)\n",
    "println(\"Intersection Result:\\n\", intersection_result)\n",
    "\n",
    "# Retrieve entities from Redis\n",
    "retrieved_entity_union = entity_module.Entity.load_from_redis(r, \"entity_union\")\n",
    "println(\"Retrieved Entity Union:\\n\", retrieved_entity_union.hllset)\n",
    "\n",
    "retrieved_entity_intersection = entity_module.Entity.load_from_redis(r, \"entity_intersection\")\n",
    "println(\"Retrieved Entity Intersection:\\n\", retrieved_entity_intersection.hllset)"
   ]
  }
 ],
 "metadata": {
  "kernelspec": {
   "display_name": "Julia 1.10.4",
   "language": "julia",
   "name": "julia-1.10"
  },
  "language_info": {
   "file_extension": ".jl",
   "mimetype": "application/julia",
   "name": "julia",
   "version": "1.10.4"
  }
 },
 "nbformat": 4,
 "nbformat_minor": 2
}
