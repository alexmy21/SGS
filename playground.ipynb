{
 "cells": [
  {
   "cell_type": "code",
   "execution_count": 6,
   "metadata": {},
   "outputs": [],
   "source": [
    "include(\"src/sets.jl\")\n",
    "\n",
    "using Main.HllSets: HllSet"
   ]
  },
  {
   "cell_type": "code",
   "execution_count": 12,
   "metadata": {},
   "outputs": [],
   "source": [
    "struct Entity{P}\n",
    "    hll::HllSet{P}\n",
    "    grad::Any\n",
    "    op::Any\n",
    "    \n",
    "    # Constructor with keyword arguments\n",
    "    function Entity{P}(hll::HllSet{P}; grad=nothing, op=nothing) where {P}\n",
    "        new{P}(hll, grad, op)\n",
    "    end\n",
    "end"
   ]
  },
  {
   "cell_type": "code",
   "execution_count": 13,
   "metadata": {},
   "outputs": [
    {
     "data": {
      "text/plain": [
       "Entity{10}(HllSet{10}()\n",
       ", nothing, nothing)"
      ]
     },
     "execution_count": 13,
     "metadata": {},
     "output_type": "execute_result"
    }
   ],
   "source": [
    "hll1 = HllSet{10}()\n",
    "entity1 = Entity{10}(hll1)"
   ]
  }
 ],
 "metadata": {
  "kernelspec": {
   "display_name": "Julia 1.10.4",
   "language": "julia",
   "name": "julia-1.10"
  },
  "language_info": {
   "file_extension": ".jl",
   "mimetype": "application/julia",
   "name": "julia",
   "version": "1.10.4"
  }
 },
 "nbformat": 4,
 "nbformat_minor": 2
}
