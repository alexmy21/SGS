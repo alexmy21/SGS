{
 "cells": [
  {
   "cell_type": "code",
   "execution_count": 1,
   "metadata": {},
   "outputs": [],
   "source": [
    "include(\"src/sets.jl\")\n",
    "\n",
    "using Main.HllSets: HllSet"
   ]
  },
  {
   "cell_type": "code",
   "execution_count": 2,
   "metadata": {},
   "outputs": [],
   "source": [
    "struct Entity{P}\n",
    "    hll::HllSet{P}\n",
    "    grad::Any\n",
    "    op::Any\n",
    "    \n",
    "    # Constructor with keyword arguments\n",
    "    function Entity{P}(hll::HllSet{P}; grad=nothing, op=nothing) where {P}\n",
    "        new{P}(hll, grad, op)\n",
    "    end\n",
    "end"
   ]
  },
  {
   "cell_type": "code",
   "execution_count": 3,
   "metadata": {},
   "outputs": [
    {
     "data": {
      "text/plain": [
       "Entity{10}(HllSet{10}()\n",
       ", nothing, nothing)"
      ]
     },
     "execution_count": 3,
     "metadata": {},
     "output_type": "execute_result"
    }
   ],
   "source": [
    "hll1 = HllSet{10}()\n",
    "entity1 = Entity{10}(hll1)"
   ]
  },
  {
   "cell_type": "code",
   "execution_count": 4,
   "metadata": {},
   "outputs": [
    {
     "data": {
      "text/plain": [
       "string_to_vector (generic function with 1 method)"
      ]
     },
     "execution_count": 4,
     "metadata": {},
     "output_type": "execute_result"
    }
   ],
   "source": [
    "using Base64\n",
    "\n",
    "function vector_to_string(vec::Vector{UInt64})::String\n",
    "    # Convert the vector to a byte array\n",
    "    byte_array = reinterpret(UInt8, vec)\n",
    "    # Convert the byte array to a string\n",
    "    return String(byte_array)\n",
    "end\n",
    "\n",
    "function string_to_vector(str::String)::Vector{UInt64}\n",
    "    # Convert the string back to a byte array\n",
    "    byte_array = Vector{UInt8}(str)\n",
    "    # Convert the byte array back to a Vector{UInt64}\n",
    "    return reinterpret(UInt64, byte_array)\n",
    "end"
   ]
  },
  {
   "cell_type": "code",
   "execution_count": 5,
   "metadata": {},
   "outputs": [
    {
     "name": "stdout",
     "output_type": "stream",
     "text": [
      "Encoded string: \u0001\u0000\u0000\u0000\u0000\u0000\u0000\u0000\u0002\u0000\u0000\u0000\u0000\u0000\u0000\u0000\u0003\u0000\u0000\u0000\u0000\u0000\u0000\u0000\u0004\u0000\u0000\u0000\u0000\u0000\u0000\u0000\u0005\u0000\u0000\u0000\u0000\u0000\u0000\u0000\n",
      "Decoded vector: UInt64[0x0000000000000001, 0x0000000000000002, 0x0000000000000003, 0x0000000000000004, 0x0000000000000005]\n",
      "Roundtrip conversion is lossless: true\n",
      "Roundtrip conversion is lossless: true\n"
     ]
    }
   ],
   "source": [
    "# Example vector\n",
    "vec = [1, 2, 3, 4, 5]\n",
    "\n",
    "# Convert vector to UInt64\n",
    "vec_uint64 = Vector{UInt64}(vec)\n",
    "\n",
    "# Convert vector to string\n",
    "str = vector_to_string(vec_uint64)\n",
    "println(\"Encoded string: \", str)\n",
    "\n",
    "# Convert string back to vector\n",
    "decoded_vec = string_to_vector(str)\n",
    "println(\"Decoded vector: \", decoded_vec)\n",
    "\n",
    "# Check if the roundtrip conversion is lossless\n",
    "println(\"Roundtrip conversion is lossless: \", vec_uint64 == decoded_vec)\n",
    "\n",
    "# Check if the roundtrip conversion is lossless\n",
    "println(\"Roundtrip conversion is lossless: \", vec_uint64 == decoded_vec)"
   ]
  },
  {
   "cell_type": "code",
   "execution_count": 6,
   "metadata": {},
   "outputs": [
    {
     "data": {
      "text/plain": [
       "PyObject Redis<ConnectionPool<Connection<host=localhost,port=6379,db=0>>>"
      ]
     },
     "execution_count": 6,
     "metadata": {},
     "output_type": "execute_result"
    }
   ],
   "source": [
    "using PyCall\n",
    "# using Redis\n",
    "\n",
    "redis = pyimport(\"redis\")\n",
    "query = pyimport(\"redis.commands.search.query\")\n",
    "r = redis.Redis(host=\"localhost\", port=6379)"
   ]
  },
  {
   "cell_type": "code",
   "execution_count": 7,
   "metadata": {},
   "outputs": [
    {
     "name": "stdout",
     "output_type": "stream",
     "text": [
      "Dict{Any, Any}(\"myfield\" => \"some value\", \"_last_modified_\" => \"1723518544\", \"another_field\" => \"another value\")\n"
     ]
    }
   ],
   "source": [
    "using PyCall\n",
    "\n",
    "# Import the Python Redis client\n",
    "redis = pyimport(\"redis\")\n",
    "\n",
    "# Connect to Redis\n",
    "r = redis.Redis(host=\"localhost\", port=6379, db=0)\n",
    "\n",
    "# Define the dictionary\n",
    "dict = Dict(\"myfield\" => \"some value\", \"another_field\" => \"another value\")\n",
    "\n",
    "# Convert the dictionary to a list of key-value pairs\n",
    "args = Vector{String}()\n",
    "for (k, v) in dict\n",
    "    push!(args, k)\n",
    "    push!(args, v)\n",
    "end\n",
    "\n",
    "# Call the fcall method with the list of arguments\n",
    "r.fcall(\"my_hset\", \"1\", \"myhash\", args...)\n",
    "\n",
    "# Retrieve and print the hash\n",
    "result = r.hgetall(\"myhash\")\n",
    "println(result)"
   ]
  },
  {
   "cell_type": "markdown",
   "metadata": {},
   "source": [
    "## Testing bit_ops and redis_rand commands"
   ]
  },
  {
   "cell_type": "code",
   "execution_count": 8,
   "metadata": {},
   "outputs": [
    {
     "name": "stdout",
     "output_type": "stream",
     "text": [
      "[400, 202, 247, 9]\n",
      "{\n",
      "     \"first_p_bits\": 71,\n",
      "   \"trailing_zeros\": 0,\n",
      "    \"random_number\": 1407721543\n",
      "}\n"
     ]
    }
   ],
   "source": [
    "using JSON3\n",
    "\n",
    "# Define the vectors\n",
    "vector1 = [11, 21, 63, 114]\n",
    "vector2 = [411, 223, 200, 123]\n",
    "\n",
    "# Convert vectors to JSON strings\n",
    "vector1_json = JSON3.write(vector1)\n",
    "vector2_json = JSON3.write(vector2)\n",
    "\n",
    "# Call the Lua script with the vectors and the operation\n",
    "operation = \"XOR\"  # Change to \"OR\" or \"XOR\" as needed\n",
    "result_json = r.fcall(\"bit_ops\", 0, vector1_json, vector2_json, operation)\n",
    "\n",
    "# Convert the result from JSON string to Julia array\n",
    "result = JSON3.read(result_json)\n",
    "\n",
    "println(result)\n",
    "\n",
    "result_json = r.fcall(\"redis_rand\", 0, \"masha\", 10)\n",
    "println(JSON3.read(result_json))"
   ]
  }
 ],
 "metadata": {
  "kernelspec": {
   "display_name": "Julia 1.10.4",
   "language": "julia",
   "name": "julia-1.10"
  },
  "language_info": {
   "file_extension": ".jl",
   "mimetype": "application/julia",
   "name": "julia",
   "version": "1.10.4"
  }
 },
 "nbformat": 4,
 "nbformat_minor": 2
}
