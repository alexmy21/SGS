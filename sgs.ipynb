{
 "cells": [
  {
   "cell_type": "code",
   "execution_count": 1,
   "metadata": {},
   "outputs": [],
   "source": [
    "include(\"src//sgs.jl\")\n",
    "\n",
    "using .sgs\n",
    "using JuMP"
   ]
  },
  {
   "cell_type": "code",
   "execution_count": 2,
   "metadata": {},
   "outputs": [
    {
     "name": "stdout",
     "output_type": "stream",
     "text": [
      "Hello World!\n"
     ]
    }
   ],
   "source": [
    "sgs.greeting()"
   ]
  },
  {
   "cell_type": "code",
   "execution_count": 3,
   "metadata": {},
   "outputs": [
    {
     "data": {
      "text/plain": [
       "1-dimensional DenseAxisArray{VariableRef,1,...} with index sets:\n",
       "    Dimension 1, [\"dog\", \"cat\", \"chicken\", \"cow\", \"pig\"]\n",
       "And data, a 5-element Vector{VariableRef}:\n",
       " x[dog]\n",
       " x[cat]\n",
       " x[chicken]\n",
       " x[cow]\n",
       " x[pig]"
      ]
     },
     "execution_count": 3,
     "metadata": {},
     "output_type": "execute_result"
    }
   ],
   "source": [
    "animals = [\"dog\", \"cat\", \"chicken\", \"cow\", \"pig\"]\n",
    "model = Model()\n",
    "@variable(model, x[animals])"
   ]
  },
  {
   "cell_type": "code",
   "execution_count": 4,
   "metadata": {},
   "outputs": [
    {
     "data": {
      "text/plain": [
       "1-dimensional DenseAxisArray{VariableRef,1,...} with index sets:\n",
       "    Dimension 1, [\"cow\", \"chicken\", \"cat\", \"pig\", \"dog\"]\n",
       "And data, a 5-element Vector{VariableRef}:\n",
       " x[cow]\n",
       " x[chicken]\n",
       " x[cat]\n",
       " x[pig]\n",
       " x[dog]"
      ]
     },
     "execution_count": 4,
     "metadata": {},
     "output_type": "execute_result"
    }
   ],
   "source": [
    "weight_of_animals = Dict(\n",
    "    \"dog\" => 20.0,\n",
    "    \"cat\" => 5.0,\n",
    "    \"chicken\" => 2.0,\n",
    "    \"cow\" => 720.0,\n",
    "    \"pig\" => 150.0,\n",
    ")\n",
    "animal_keys = keys(weight_of_animals)\n",
    "model = Model()\n",
    "@variable(model, x[animal_keys])"
   ]
  },
  {
   "cell_type": "code",
   "execution_count": 5,
   "metadata": {},
   "outputs": [
    {
     "data": {
      "text/plain": [
       "Set{Any} with 5 elements:\n",
       "  \"cow\"\n",
       "  \"chicken\"\n",
       "  \"cat\"\n",
       "  \"pig\"\n",
       "  \"dog\""
      ]
     },
     "execution_count": 5,
     "metadata": {},
     "output_type": "execute_result"
    }
   ],
   "source": [
    "animal_set = Set()\n",
    "for animal in keys(weight_of_animals)\n",
    "    push!(animal_set, animal)\n",
    "end\n",
    "animal_set"
   ]
  },
  {
   "cell_type": "code",
   "execution_count": 6,
   "metadata": {},
   "outputs": [
    {
     "data": {
      "text/plain": [
       "Set{Any} with 5 elements:\n",
       "  \"cow\"\n",
       "  \"chicken\"\n",
       "  \"cat\"\n",
       "  \"pig\"\n",
       "  \"dog\""
      ]
     },
     "execution_count": 6,
     "metadata": {},
     "output_type": "execute_result"
    }
   ],
   "source": [
    "push!(animal_set, \"dog\")\n",
    "animal_set"
   ]
  },
  {
   "cell_type": "code",
   "execution_count": 7,
   "metadata": {},
   "outputs": [
    {
     "data": {
      "text/plain": [
       "1-dimensional DenseAxisArray{VariableRef,1,...} with index sets:\n",
       "    Dimension 1, [\"cow\", \"chicken\", \"cat\", \"pig\", \"dog\"]\n",
       "And data, a 5-element Vector{VariableRef}:\n",
       " x[cow]\n",
       " x[chicken]\n",
       " x[cat]\n",
       " x[pig]\n",
       " x[dog]"
      ]
     },
     "execution_count": 7,
     "metadata": {},
     "output_type": "execute_result"
    }
   ],
   "source": [
    "model = Model()\n",
    "@variable(model, x[animal_set])"
   ]
  },
  {
   "cell_type": "code",
   "execution_count": 8,
   "metadata": {},
   "outputs": [
    {
     "data": {
      "text/plain": [
       "1-dimensional DenseAxisArray{VariableRef,1,...} with index sets:\n",
       "    Dimension 1, [(\"A\", \"D\"), (\"B\", \"D\"), (\"C\", \"D\"), (\"A\", \"E\"), (\"B\", \"E\"), (\"C\", \"E\")]\n",
       "And data, a 6-element Vector{VariableRef}:\n",
       " x[(\"A\", \"D\")]\n",
       " x[(\"B\", \"D\")]\n",
       " x[(\"C\", \"D\")]\n",
       " x[(\"A\", \"E\")]\n",
       " x[(\"B\", \"E\")]\n",
       " x[(\"C\", \"E\")]"
      ]
     },
     "execution_count": 8,
     "metadata": {},
     "output_type": "execute_result"
    }
   ],
   "source": [
    "sources = [\"A\", \"B\", \"C\"]\n",
    "sinks = [\"D\", \"E\"]\n",
    "S = [(source, sink) for source in sources, sink in sinks]\n",
    "model = Model()\n",
    "@variable(model, x[S])"
   ]
  },
  {
   "cell_type": "code",
   "execution_count": 9,
   "metadata": {},
   "outputs": [
    {
     "data": {
      "text/latex": [
       "$ x_{(\"A\", \"D\")} $"
      ],
      "text/plain": [
       "x[(\"A\", \"D\")]"
      ]
     },
     "execution_count": 9,
     "metadata": {},
     "output_type": "execute_result"
    }
   ],
   "source": [
    "x[(\"A\", \"D\")]"
   ]
  },
  {
   "cell_type": "markdown",
   "metadata": {},
   "source": [
    "1. https://compositionality-journal.org/papers/compositionality-4-5/\n",
    "2. "
   ]
  }
 ],
 "metadata": {
  "kernelspec": {
   "display_name": "Julia 1.9.2",
   "language": "julia",
   "name": "julia-1.9"
  },
  "language_info": {
   "file_extension": ".jl",
   "mimetype": "application/julia",
   "name": "julia",
   "version": "1.9.2"
  }
 },
 "nbformat": 4,
 "nbformat_minor": 2
}
