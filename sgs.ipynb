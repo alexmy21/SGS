{
 "cells": [
  {
   "cell_type": "code",
   "execution_count": null,
   "metadata": {},
   "outputs": [],
   "source": [
    "include(\"src//sgs.jl\")\n",
    "\n",
    "using .sgs\n",
    "using JuMP"
   ]
  },
  {
   "cell_type": "code",
   "execution_count": null,
   "metadata": {},
   "outputs": [],
   "source": [
    "sgs.greeting()"
   ]
  },
  {
   "cell_type": "code",
   "execution_count": null,
   "metadata": {},
   "outputs": [],
   "source": [
    "animals = [\"dog\", \"cat\", \"chicken\", \"cow\", \"pig\"]\n",
    "model = Model()\n",
    "@variable(model, x[animals])"
   ]
  },
  {
   "cell_type": "code",
   "execution_count": null,
   "metadata": {},
   "outputs": [],
   "source": [
    "weight_of_animals = Dict(\n",
    "    \"dog\" => 20.0,\n",
    "    \"cat\" => 5.0,\n",
    "    \"chicken\" => 2.0,\n",
    "    \"cow\" => 720.0,\n",
    "    \"pig\" => 150.0,\n",
    ")\n",
    "animal_keys = keys(weight_of_animals)\n",
    "model = Model()\n",
    "@variable(model, x[animal_keys])"
   ]
  },
  {
   "cell_type": "code",
   "execution_count": null,
   "metadata": {},
   "outputs": [],
   "source": [
    "animal_set = Set()\n",
    "for animal in keys(weight_of_animals)\n",
    "    push!(animal_set, animal)\n",
    "end\n",
    "animal_set"
   ]
  },
  {
   "cell_type": "code",
   "execution_count": null,
   "metadata": {},
   "outputs": [],
   "source": [
    "push!(animal_set, \"dog\")\n",
    "animal_set"
   ]
  },
  {
   "cell_type": "code",
   "execution_count": null,
   "metadata": {},
   "outputs": [],
   "source": [
    "model = Model()\n",
    "@variable(model, x[animal_set])"
   ]
  },
  {
   "cell_type": "code",
   "execution_count": null,
   "metadata": {},
   "outputs": [],
   "source": [
    "sources = [\"A\", \"B\", \"C\"]\n",
    "sinks = [\"D\", \"E\"]\n",
    "S = [(source, sink) for source in sources, sink in sinks]\n",
    "model = Model()\n",
    "@variable(model, x[S])"
   ]
  },
  {
   "cell_type": "code",
   "execution_count": null,
   "metadata": {},
   "outputs": [],
   "source": [
    "x[(\"A\", \"D\")]"
   ]
  },
  {
   "cell_type": "code",
   "execution_count": 9,
   "metadata": {},
   "outputs": [
    {
     "name": "stdout",
     "output_type": "stream",
     "text": [
      "bard\n",
      "RedisConnection\n"
     ]
    }
   ],
   "source": [
    "using Redis \n",
    "\n",
    "conn = Redis.RedisConnection()\n",
    "Redis.set(conn, \"foo\", \"bard\")\n",
    "println(Redis.get(conn, \"foo\"))\n",
    "println(typeof(conn))\n",
    "\n",
    "Redis.disconnect(conn)"
   ]
  },
  {
   "cell_type": "markdown",
   "metadata": {},
   "source": [
    "1. https://compositionality-journal.org/papers/compositionality-4-5/\n",
    "2. https://github.com/topics/compositionality \n",
    "3. http://www.tac.mta.ca/tac/volumes/32/16/32-16.pdf (algebraic databases)\n",
    "4. https://duckdb.org/docs/api/julia.html\n",
    "5. https://medium.com/@rubenszimbres/kolmogorov-arnold-networks-a-critique-2b37fea2112e \n",
    "6. https://www.categoricaldata.net/fql.html \n",
    "7. https://conexus.com/\n",
    "8. https://zoumanakeita.medium.com/multimodal-retrieval-augmented-generation-for-sustainable-finance-1bc664ac2511  "
   ]
  },
  {
   "cell_type": "markdown",
   "metadata": {},
   "source": []
  }
 ],
 "metadata": {
  "kernelspec": {
   "display_name": "Julia 1.10.4",
   "language": "julia",
   "name": "julia-1.10"
  },
  "language_info": {
   "file_extension": ".jl",
   "mimetype": "application/julia",
   "name": "julia",
   "version": "1.10.4"
  }
 },
 "nbformat": 4,
 "nbformat_minor": 2
}
