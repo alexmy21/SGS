{
 "cells": [
  {
   "cell_type": "code",
   "execution_count": 2,
   "metadata": {},
   "outputs": [],
   "source": [
    "include(\"src//sgs.jl\")\n",
    "\n",
    "using .sgs\n",
    "using JuMP"
   ]
  },
  {
   "cell_type": "code",
   "execution_count": 3,
   "metadata": {},
   "outputs": [
    {
     "name": "stdout",
     "output_type": "stream",
     "text": [
      "Hello World!\n"
     ]
    }
   ],
   "source": [
    "sgs.greeting()"
   ]
  },
  {
   "cell_type": "code",
   "execution_count": 4,
   "metadata": {},
   "outputs": [
    {
     "data": {
      "text/plain": [
       "1-dimensional DenseAxisArray{VariableRef,1,...} with index sets:\n",
       "    Dimension 1, [\"dog\", \"cat\", \"chicken\", \"cow\", \"pig\"]\n",
       "And data, a 5-element Vector{VariableRef}:\n",
       " x[dog]\n",
       " x[cat]\n",
       " x[chicken]\n",
       " x[cow]\n",
       " x[pig]"
      ]
     },
     "execution_count": 4,
     "metadata": {},
     "output_type": "execute_result"
    }
   ],
   "source": [
    "animals = [\"dog\", \"cat\", \"chicken\", \"cow\", \"pig\"]\n",
    "model = Model()\n",
    "@variable(model, x[animals])"
   ]
  },
  {
   "cell_type": "code",
   "execution_count": 5,
   "metadata": {},
   "outputs": [
    {
     "data": {
      "text/plain": [
       "1-dimensional DenseAxisArray{VariableRef,1,...} with index sets:\n",
       "    Dimension 1, [\"cow\", \"chicken\", \"cat\", \"pig\", \"dog\"]\n",
       "And data, a 5-element Vector{VariableRef}:\n",
       " x[cow]\n",
       " x[chicken]\n",
       " x[cat]\n",
       " x[pig]\n",
       " x[dog]"
      ]
     },
     "execution_count": 5,
     "metadata": {},
     "output_type": "execute_result"
    }
   ],
   "source": [
    "weight_of_animals = Dict(\n",
    "    \"dog\" => 20.0,\n",
    "    \"cat\" => 5.0,\n",
    "    \"chicken\" => 2.0,\n",
    "    \"cow\" => 720.0,\n",
    "    \"pig\" => 150.0,\n",
    ")\n",
    "animal_keys = keys(weight_of_animals)\n",
    "model = Model()\n",
    "@variable(model, x[animal_keys])"
   ]
  },
  {
   "cell_type": "code",
   "execution_count": 6,
   "metadata": {},
   "outputs": [
    {
     "data": {
      "text/plain": [
       "Set{Any} with 5 elements:\n",
       "  \"cow\"\n",
       "  \"chicken\"\n",
       "  \"cat\"\n",
       "  \"pig\"\n",
       "  \"dog\""
      ]
     },
     "execution_count": 6,
     "metadata": {},
     "output_type": "execute_result"
    }
   ],
   "source": [
    "animal_set = Set()\n",
    "for animal in keys(weight_of_animals)\n",
    "    push!(animal_set, animal)\n",
    "end\n",
    "animal_set"
   ]
  },
  {
   "cell_type": "code",
   "execution_count": 7,
   "metadata": {},
   "outputs": [
    {
     "data": {
      "text/plain": [
       "Set{Any} with 5 elements:\n",
       "  \"cow\"\n",
       "  \"chicken\"\n",
       "  \"cat\"\n",
       "  \"pig\"\n",
       "  \"dog\""
      ]
     },
     "execution_count": 7,
     "metadata": {},
     "output_type": "execute_result"
    }
   ],
   "source": [
    "push!(animal_set, \"dog\")\n",
    "animal_set"
   ]
  },
  {
   "cell_type": "code",
   "execution_count": 8,
   "metadata": {},
   "outputs": [
    {
     "data": {
      "text/plain": [
       "1-dimensional DenseAxisArray{VariableRef,1,...} with index sets:\n",
       "    Dimension 1, [\"cow\", \"chicken\", \"cat\", \"pig\", \"dog\"]\n",
       "And data, a 5-element Vector{VariableRef}:\n",
       " x[cow]\n",
       " x[chicken]\n",
       " x[cat]\n",
       " x[pig]\n",
       " x[dog]"
      ]
     },
     "execution_count": 8,
     "metadata": {},
     "output_type": "execute_result"
    }
   ],
   "source": [
    "model = Model()\n",
    "@variable(model, x[animal_set])"
   ]
  },
  {
   "cell_type": "code",
   "execution_count": 9,
   "metadata": {},
   "outputs": [
    {
     "data": {
      "text/plain": [
       "1-dimensional DenseAxisArray{VariableRef,1,...} with index sets:\n",
       "    Dimension 1, [(\"A\", \"D\"), (\"B\", \"D\"), (\"C\", \"D\"), (\"A\", \"E\"), (\"B\", \"E\"), (\"C\", \"E\")]\n",
       "And data, a 6-element Vector{VariableRef}:\n",
       " x[(\"A\", \"D\")]\n",
       " x[(\"B\", \"D\")]\n",
       " x[(\"C\", \"D\")]\n",
       " x[(\"A\", \"E\")]\n",
       " x[(\"B\", \"E\")]\n",
       " x[(\"C\", \"E\")]"
      ]
     },
     "execution_count": 9,
     "metadata": {},
     "output_type": "execute_result"
    }
   ],
   "source": [
    "sources = [\"A\", \"B\", \"C\"]\n",
    "sinks = [\"D\", \"E\"]\n",
    "S = [(source, sink) for source in sources, sink in sinks]\n",
    "model = Model()\n",
    "@variable(model, x[S])"
   ]
  },
  {
   "cell_type": "code",
   "execution_count": null,
   "metadata": {},
   "outputs": [],
   "source": [
    "x[(\"A\", \"D\")]"
   ]
  },
  {
   "cell_type": "code",
   "execution_count": 10,
   "metadata": {},
   "outputs": [
    {
     "name": "stdout",
     "output_type": "stream",
     "text": [
      "Float16[0.0, 8.0, 3.277e4, Inf]\n",
      "UInt8[0x00, 0x00, 0x00, 0x48, 0x00, 0x78, 0x00, 0x7c]\n",
      "UInt8[0x00, 0x00, 0x00, 0x48, 0x00, 0x78, 0x00, 0x7c]\n",
      "2047\n"
     ]
    }
   ],
   "source": [
    "# Example Vector{UInt64}\n",
    "vec_uint64 = Float64[0, 2^3, 2^15, 2^54]\n",
    "\n",
    "# Convert Vector{UInt64} to Vector{Float16}\n",
    "vec_float16 = Float16.(vec_uint64)\n",
    "\n",
    "println(vec_float16)\n",
    "\n",
    "# Convert Vector{Float16} to bytes\n",
    "bytes = reinterpret(UInt8, vec_float16)\n",
    "\n",
    "println(bytes)\n",
    "\n",
    "# If you need a flat Vector{UInt8} instead of a matrix\n",
    "flat_bytes = vec(bytes)\n",
    "\n",
    "println(flat_bytes)\n",
    "\n",
    "println(Int16(2^11 - 1))\n"
   ]
  },
  {
   "cell_type": "code",
   "execution_count": 11,
   "metadata": {},
   "outputs": [
    {
     "name": "stdout",
     "output_type": "stream",
     "text": [
      "123.456\n",
      "123.44\n"
     ]
    }
   ],
   "source": [
    "struct MyStruct\n",
    "    original_value::Float64\n",
    "    converted_value::Float16\n",
    "\n",
    "    # Inner constructor\n",
    "    function MyStruct(original_value::Float64)\n",
    "        new(original_value, Float16(original_value))\n",
    "    end\n",
    "end\n",
    "\n",
    "# Example usage\n",
    "obj = MyStruct(123.456)\n",
    "println(obj.original_value)  # Prints: 123.456\n",
    "println(obj.converted_value) # Prints: Float16(123.5)"
   ]
  },
  {
   "cell_type": "code",
   "execution_count": null,
   "metadata": {},
   "outputs": [],
   "source": [
    "using Redis \n",
    "\n",
    "conn = Redis.RedisConnection()\n",
    "Redis.set(conn, \"foo\", \"bard\")\n",
    "println(Redis.get(conn, \"foo\"))\n",
    "println(typeof(conn))\n",
    "\n",
    "\n",
    "# inclose the following code in try catch block\n",
    "try\n",
    "    # Create an index with RediSearch\n",
    "    \"\"\"\n",
    "        FT.CREATE edges \n",
    "            ON HASH \n",
    "            PREFIX 1 b:e\n",
    "        SCHEMA\n",
    "            author_id TAG SORTABLE \n",
    "            author_ids TAG \n",
    "            title TEXT name TEXT SORTABLE\n",
    "    \"\"\"\n",
    "    Redis.execute_command(conn, [\"FT.CREATE\", \"edges\", \"ON\", \"HASH\", \"PREFIX\", 1, \"b:e:\", \n",
    "    \"SCHEMA\", \"source\", \"TEXT\", \"target\", \"TEXT\", \"r_type\", \"TEXT\", \"props\", \"TEXT\"])\n",
    "catch e\n",
    "    println(e)\n",
    "end\n",
    "\n",
    "# try\n",
    "#     # Add a document to the index\n",
    "#     Redis.hmset(conn, \"token:doc1\", Dict(:title => \"Hello World\", :body => \"Lorem ipsum dolor sit amet\")) #\"1.0\", \"FIELDS\", ])\n",
    "# catch e\n",
    "#     println(e)\n",
    "# end\n",
    "\n",
    "# Search the index\n",
    "search_result = Redis.execute_command(conn, [\"FT.SEARCH\", \"edges\", \"*\"])\n",
    "\n",
    "println(search_result)\n",
    "\n",
    "\n",
    "# Redis.disconnect(conn)"
   ]
  },
  {
   "cell_type": "code",
   "execution_count": null,
   "metadata": {},
   "outputs": [],
   "source": [
    "# Your byte array in Julia\n",
    "byte_array = Vector{UInt8}([0x01, 0x02, 0xFF])\n",
    "\n",
    "# Convert byte array to string and store in Redis\n",
    "Redis.set(conn, \"byte_key\", byte_array)\n",
    "\n",
    "# Retrieve the string from Redis and convert back to byte array\n",
    "retrieved_bytes = Vector{UInt8}(Redis.get(conn, \"byte_key\"))\n",
    "\n",
    "println(retrieved_bytes)  # Should print the original byte_array content"
   ]
  },
  {
   "cell_type": "code",
   "execution_count": 17,
   "metadata": {},
   "outputs": [
    {
     "data": {
      "text/plain": [
       "\"OK\""
      ]
     },
     "execution_count": 17,
     "metadata": {},
     "output_type": "execute_result"
    }
   ],
   "source": [
    "using Redis \n",
    "\n",
    "conn = Redis.RedisConnection()\n",
    "\n",
    "try\n",
    "    # Create an index with RediSearch\n",
    "    \"\"\"\n",
    "        FT.CREATE my_index2 \n",
    "        SCHEMA vector_field VECTOR \n",
    "        HNSW \n",
    "        16 \n",
    "        TYPE FLOAT64 \n",
    "        DIM 128 \n",
    "        DISTANCE_METRIC L2 \n",
    "        INITIAL_CAP 1000000 \n",
    "        M 40 \n",
    "        EF_CONSTRUCTION 250 \n",
    "        EF_RUNTIME 20\n",
    "        EPSILON 0.8\n",
    "    \"\"\"\n",
    "    Redis.execute_command(conn, [\"FT.CREATE\", \"nodes\", \"ON\", \"HASH\", \"PREFIX\", 1, \"b:n:\", \n",
    "        \"SCHEMA\", \"sha1\", \"TEXT\", \"labels\", \"TEXT\", \"search\", \n",
    "        \"VECTOR\", \n",
    "        \"HNSW\", \n",
    "        \"16\", \n",
    "        \"TYPE\", \n",
    "        \"FLOAT32\", \n",
    "        \"DIM\", \n",
    "        \"1024\", \n",
    "        \"DISTANCE_METRIC\", \n",
    "        \"COSINE\",\n",
    "        \"INITIAL_CAP\", \n",
    "        \"50000\", \n",
    "        \"M\", \n",
    "        \"40\", \n",
    "        \"EF_CONSTRUCTION\", \n",
    "        \"100\", \n",
    "        \"EF_RUNTIME\", \n",
    "        \"20\", \n",
    "        \"EPSILON\", \n",
    "        \"0.8\"])\n",
    "catch e\n",
    "    println(e)\n",
    "end"
   ]
  },
  {
   "cell_type": "code",
   "execution_count": null,
   "metadata": {},
   "outputs": [],
   "source": [
    "search_result = Redis.execute_command(conn, [\"FT.SEARCH\", \"nodes\", \"*\"])\n",
    "\n",
    "println(search_result)"
   ]
  },
  {
   "cell_type": "code",
   "execution_count": 18,
   "metadata": {},
   "outputs": [
    {
     "data": {
      "text/plain": [
       "256"
      ]
     },
     "execution_count": 18,
     "metadata": {},
     "output_type": "execute_result"
    }
   ],
   "source": [
    "2^8\n"
   ]
  },
  {
   "cell_type": "markdown",
   "metadata": {},
   "source": [
    "1. https://towardsdatascience.com/train-naive-bayes-really-fast-7398a404e342\n",
    "2. https://compositionality-journal.org/papers/compositionality-4-5/\n",
    "3. https://github.com/topics/compositionality \n",
    "4. http://www.tac.mta.ca/tac/volumes/32/16/32-16.pdf (algebraic databases)\n",
    "5. https://duckdb.org/docs/api/julia.html\n",
    "6. https://medium.com/@rubenszimbres/kolmogorov-arnold-networks-a-critique-2b37fea2112e \n",
    "7. https://www.categoricaldata.net/fql.html \n",
    "8. https://conexus.com/\n",
    "9. https://zoumanakeita.medium.com/multimodal-retrieval-augmented-generation-for-sustainable-finance-1bc664ac2511 \n",
    "10. https://towardsdatascience.com/understanding-conditional-probability-and-bayes-theorem-b779f8801ef6  \n",
    "11. https://medium.com/coinmonks/implementing-a-mersenne-twister-generator-in-rust-634c7ff93b30\n",
    "\n",
    "Philosophy\n",
    "12. https://archive.org/details/DaoDeJing/page/n3/mode/2up\n",
    "13. https://bilinguator.com/ru/online?book=1228&page=1\n",
    "14. https://www.chinasage.info/dao-de-jing.htm\n",
    "15. https://www.yellowbridge.com/onlinelit/daodejing01.php\n",
    "16. https://www.teemuqi.org/single-post/2016/08/07/guodian-laozi-and-the-textual-history-of-the-daode-jing\n",
    "17. https://www.zhongwen.com/dao.htm\n",
    "18. http://www.sanmayce.com\n",
    "19. https://msrabota.ru/content/book_docs/lao-tszi_dao_de_tszin1.pdf1_.pdf"
   ]
  },
  {
   "cell_type": "markdown",
   "metadata": {},
   "source": []
  }
 ],
 "metadata": {
  "kernelspec": {
   "display_name": "Julia 1.10.4",
   "language": "julia",
   "name": "julia-1.10"
  },
  "language_info": {
   "file_extension": ".jl",
   "mimetype": "application/julia",
   "name": "julia",
   "version": "1.10.4"
  }
 },
 "nbformat": 4,
 "nbformat_minor": 2
}
