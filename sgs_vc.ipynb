{
 "cells": [
  {
   "cell_type": "code",
   "execution_count": null,
   "metadata": {},
   "outputs": [],
   "source": [
    "# local operation = args[1]\n",
    "#     if operation == 'init_data_store' then\n",
    "#         return init_data_store()\n",
    "#     elseif operation == 'commit' then\n",
    "#         local message = args[2]\n",
    "#         return commit(message)\n",
    "#     elseif operation == 'checkout' then\n",
    "#         local commit_index = tonumber(args[2])\n",
    "#         return checkout(commit_index)\n",
    "#     elseif operation == 'create_branch' then\n",
    "#         local branch_name = args[2]\n",
    "#         return create_branch(branch_name)\n",
    "#     elseif operation == 'merge_branch' then\n",
    "#         local branch_name = args[2]\n",
    "#         return merge_branch(branch_name)\n",
    "#     else\n",
    "#         return redis.error_reply('Invalid operation')\n",
    "#     end"
   ]
  },
  {
   "cell_type": "code",
   "execution_count": 1,
   "metadata": {},
   "outputs": [
    {
     "data": {
      "text/plain": [
       "PyObject Redis<ConnectionPool<Connection<host=localhost,port=6379,db=0>>>"
      ]
     },
     "execution_count": 1,
     "metadata": {},
     "output_type": "execute_result"
    }
   ],
   "source": [
    "include(\"src/sgs_store.jl\")\n",
    "\n",
    "using ..Entity\n",
    "using ..HllSets\n",
    "using .Util\n",
    "using JSON3\n",
    "using TextAnalysis\n",
    "\n",
    "using PyCall\n",
    "using CSV\n",
    "using DataFrames\n",
    "using WordTokenizers\n",
    "using Base.Threads\n",
    "using Dates\n",
    "\n",
    "redis   = pyimport(\"redis\")\n",
    "# Connect to Redis\n",
    "r = redis.Redis(host=\"localhost\", port=6379, db=0)"
   ]
  },
  {
   "cell_type": "code",
   "execution_count": 9,
   "metadata": {},
   "outputs": [],
   "source": [
    "r.fcall(\"sgs_vc\", 0, \"init_data_store\")"
   ]
  },
  {
   "cell_type": "code",
   "execution_count": 10,
   "metadata": {},
   "outputs": [
    {
     "data": {
      "text/plain": [
       "\"Committed: initial commit\""
      ]
     },
     "execution_count": 10,
     "metadata": {},
     "output_type": "execute_result"
    }
   ],
   "source": [
    "r.fcall(\"sgs_vc\", 0, \"commit\", \"initial commit\")"
   ]
  },
  {
   "cell_type": "code",
   "execution_count": 6,
   "metadata": {},
   "outputs": [
    {
     "data": {
      "text/plain": [
       "\"Checked out commit: initial commit\""
      ]
     },
     "execution_count": 6,
     "metadata": {},
     "output_type": "execute_result"
    }
   ],
   "source": [
    "r.fcall(\"sgs_vc\", 0, \"checkout\", \"1\")"
   ]
  },
  {
   "cell_type": "code",
   "execution_count": 7,
   "metadata": {},
   "outputs": [
    {
     "data": {
      "text/plain": [
       "\"Branch created: feature_branch\""
      ]
     },
     "execution_count": 7,
     "metadata": {},
     "output_type": "execute_result"
    }
   ],
   "source": [
    "r.fcall(\"sgs_vc\", 0, \"create_branch\", \"feature_branch\")"
   ]
  },
  {
   "cell_type": "code",
   "execution_count": 8,
   "metadata": {},
   "outputs": [
    {
     "data": {
      "text/plain": [
       "\"Merged branch: feature_branch\""
      ]
     },
     "execution_count": 8,
     "metadata": {},
     "output_type": "execute_result"
    }
   ],
   "source": [
    "r.fcall(\"sgs_vc\", 0, \"merge_branch\", \"feature_branch\")"
   ]
  }
 ],
 "metadata": {
  "kernelspec": {
   "display_name": "Julia 1.10.4",
   "language": "julia",
   "name": "julia-1.10"
  },
  "language_info": {
   "file_extension": ".jl",
   "mimetype": "application/julia",
   "name": "julia",
   "version": "1.10.4"
  }
 },
 "nbformat": 4,
 "nbformat_minor": 2
}
