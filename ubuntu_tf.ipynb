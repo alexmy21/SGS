{
 "cells": [
  {
   "cell_type": "markdown",
   "metadata": {},
   "source": [
    "To set up TensorFlow with an NVIDIA Quadro M1200 GPU on a Linux OS, you need to ensure compatibility between the Linux distribution, CUDA, cuDNN, and TensorFlow. Here is a step-by-step guide to achieve this:\n",
    "\n",
    "### Step-by-Step Guide\n",
    "\n",
    "1. **Choose a Linux Distribution**:\n",
    "   - **Ubuntu 20.04 LTS** is a widely used and well-supported distribution for TensorFlow and CUDA.\n",
    "\n",
    "2. **Install NVIDIA Drivers**:\n",
    "   - Ensure you have the latest NVIDIA drivers installed for your GPU.\n",
    "\n",
    "3. **Install CUDA Toolkit**:\n",
    "   - Install a compatible version of the CUDA toolkit.\n",
    "\n",
    "4. **Install cuDNN**:\n",
    "   - Install the corresponding version of cuDNN.\n",
    "\n",
    "5. **Install TensorFlow**:\n",
    "   - Install TensorFlow with GPU support.\n",
    "\n",
    "### Proven Combination\n",
    "\n",
    "- **Linux Distribution**: Ubuntu 20.04 LTS\n",
    "- **CUDA Version**: 11.2\n",
    "- **cuDNN Version**: 8.1\n",
    "- **TensorFlow Version**: 2.6.0\n",
    "\n",
    "### Detailed Steps\n",
    "\n",
    "#### 1. Install Ubuntu 20.04 LTS\n",
    "\n",
    "Download and install Ubuntu 20.04 LTS from the [official website](https://releases.ubuntu.com/20.04/).\n",
    "\n",
    "#### 2. Install NVIDIA Drivers\n",
    "\n",
    "Add the NVIDIA package repository and install the latest drivers:\n",
    "\n"
   ]
  },
  {
   "cell_type": "code",
   "execution_count": null,
   "metadata": {
    "vscode": {
     "languageId": "bash"
    }
   },
   "outputs": [],
   "source": [
    "sudo apt update\n",
    "sudo apt install -y build-essential dkms\n",
    "sudo add-apt-repository ppa:graphics-drivers/ppa\n",
    "sudo apt update\n",
    "sudo apt install -y nvidia-driver-460\n",
    "sudo reboot"
   ]
  },
  {
   "cell_type": "markdown",
   "metadata": {},
   "source": [
    "\n",
    "\n",
    "#### 3. Install CUDA Toolkit\n",
    "\n",
    "Download and install CUDA 11.2 from the [NVIDIA website](https://developer.nvidia.com/cuda-11.2.0-download-archive).\n",
    "\n"
   ]
  },
  {
   "cell_type": "code",
   "execution_count": null,
   "metadata": {
    "vscode": {
     "languageId": "bash"
    }
   },
   "outputs": [],
   "source": [
    "# Download the CUDA 11.2 installer\n",
    "wget https://developer.download.nvidia.com/compute/cuda/11.2.0/local_installers/cuda_11.2.0_460.27.04_linux.run\n",
    "\n",
    "# Run the installer\n",
    "sudo sh cuda_11.2.0_460.27.04_linux.run\n",
    "\n",
    "# Follow the prompts to install CUDA"
   ]
  },
  {
   "cell_type": "markdown",
   "metadata": {},
   "source": [
    "\n",
    "\n",
    "Add CUDA to your PATH and LD_LIBRARY_PATH:\n",
    "\n"
   ]
  },
  {
   "cell_type": "code",
   "execution_count": null,
   "metadata": {
    "vscode": {
     "languageId": "bash"
    }
   },
   "outputs": [],
   "source": [
    "echo 'export PATH=/usr/local/cuda-11.2/bin:$PATH' >> ~/.bashrc\n",
    "echo 'export LD_LIBRARY_PATH=/usr/local/cuda-11.2/lib64:$LD_LIBRARY_PATH' >> ~/.bashrc\n",
    "source ~/.bashrc"
   ]
  },
  {
   "cell_type": "markdown",
   "metadata": {},
   "source": [
    "\n",
    "\n",
    "#### 4. Install cuDNN\n",
    "\n",
    "Download cuDNN 8.1 from the [NVIDIA website](https://developer.nvidia.com/rdp/cudnn-archive).\n",
    "\n"
   ]
  },
  {
   "cell_type": "code",
   "execution_count": null,
   "metadata": {
    "vscode": {
     "languageId": "bash"
    }
   },
   "outputs": [],
   "source": [
    "# Extract the cuDNN files\n",
    "tar -xzvf cudnn-11.2-linux-x64-v8.1.0.77.tgz\n",
    "\n",
    "# Copy the cuDNN files to the CUDA directory\n",
    "sudo cp cuda/include/cudnn*.h /usr/local/cuda-11.2/include\n",
    "sudo cp -P cuda/lib64/libcudnn* /usr/local/cuda-11.2/lib64/\n",
    "sudo chmod a+r /usr/local/cuda-11.2/include/cudnn*.h /usr/local/cuda-11.2/lib64/libcudnn*"
   ]
  },
  {
   "cell_type": "markdown",
   "metadata": {},
   "source": [
    "\n",
    "\n",
    "#### 5. Install TensorFlow\n",
    "\n",
    "Create a virtual environment and install TensorFlow:\n",
    "\n"
   ]
  },
  {
   "cell_type": "code",
   "execution_count": null,
   "metadata": {
    "vscode": {
     "languageId": "bash"
    }
   },
   "outputs": [],
   "source": [
    "# Install pip and virtualenv\n",
    "sudo apt install -y python3-pip\n",
    "pip3 install virtualenv\n",
    "\n",
    "# Create a virtual environment\n",
    "virtualenv --system-site-packages -p python3 ~/tensorflow_env\n",
    "source ~/tensorflow_env/bin/activate\n",
    "\n",
    "# Install TensorFlow with GPU support\n",
    "pip install tensorflow==2.6.0"
   ]
  },
  {
   "cell_type": "markdown",
   "metadata": {},
   "source": [
    "\n",
    "\n",
    "#### 6. Verify Installation\n",
    "\n",
    "Run a simple TensorFlow script to verify the installation:\n",
    "\n"
   ]
  },
  {
   "cell_type": "code",
   "execution_count": null,
   "metadata": {},
   "outputs": [],
   "source": [
    "import tensorflow as tf\n",
    "\n",
    "# Check TensorFlow version\n",
    "print(\"TensorFlow version:\", tf.__version__)\n",
    "\n",
    "# List available physical devices\n",
    "physical_devices = tf.config.list_physical_devices('GPU')\n",
    "print(\"GPUs available:\", physical_devices)\n",
    "\n",
    "# Create a simple TensorFlow operation\n",
    "@tf.function\n",
    "def simple_operation(x, y):\n",
    "    return tf.add(x, y)\n",
    "\n",
    "# Create some sample data\n",
    "x = tf.constant([1.0, 2.0, 3.0], dtype=tf.float32)\n",
    "y = tf.constant([4.0, 5.0, 6.0], dtype=tf.float32)\n",
    "\n",
    "# Run the operation\n",
    "result = simple_operation(x, y)\n",
    "print(\"Result of simple_operation:\", result)"
   ]
  },
  {
   "cell_type": "markdown",
   "metadata": {},
   "source": [
    "\n",
    "\n",
    "### Summary\n",
    "\n",
    "- **Linux Distribution**: Ubuntu 20.04 LTS\n",
    "- **CUDA Version**: 11.2\n",
    "- **cuDNN Version**: 8.1\n",
    "- **TensorFlow Version**: 2.6.0\n",
    "\n",
    "This setup ensures compatibility and leverages the capabilities of your NVIDIA Quadro M1200 GPU."
   ]
  }
 ],
 "metadata": {
  "language_info": {
   "name": "python"
  }
 },
 "nbformat": 4,
 "nbformat_minor": 2
}
